{
  "nbformat": 4,
  "nbformat_minor": 0,
  "metadata": {
    "kernelspec": {
      "display_name": "Python 3",
      "language": "python",
      "name": "python3"
    },
    "language_info": {
      "codemirror_mode": {
        "name": "ipython",
        "version": 3
      },
      "file_extension": ".py",
      "mimetype": "text/x-python",
      "name": "python",
      "nbconvert_exporter": "python",
      "pygments_lexer": "ipython3",
      "version": "3.7.6"
    },
    "colab": {
      "name": "MH_Ecommerce_price_prediction.ipynb",
      "provenance": [],
      "include_colab_link": true
    }
  },
  "cells": [
    {
      "cell_type": "markdown",
      "metadata": {
        "id": "view-in-github",
        "colab_type": "text"
      },
      "source": [
        "<a href=\"https://colab.research.google.com/github/plaban1981/MachieHack/blob/master/MH_Ecommerce_price_prediction.ipynb\" target=\"_parent\"><img src=\"https://colab.research.google.com/assets/colab-badge.svg\" alt=\"Open In Colab\"/></a>"
      ]
    },
    {
      "cell_type": "code",
      "metadata": {
        "id": "7kL6HDtdxNCU",
        "colab_type": "code",
        "colab": {
          "base_uri": "https://localhost:8080/",
          "height": 51
        },
        "outputId": "a1505bbd-1d4b-4b1d-d69e-603c8d85b93c"
      },
      "source": [
        "import pandas as pd\n",
        "import numpy as np\n",
        "import matplotlib.pyplot as plt\n",
        "from matplotlib import style\n",
        "import seaborn as sns\n",
        "#configure\n",
        "# sets matplotlib to inline and displays graphs below the corressponding cell.\n",
        "%matplotlib inline  \n",
        "style.use('fivethirtyeight')\n",
        "sns.set(style='whitegrid',color_codes=True)\n",
        "\n",
        "#nltk\n",
        "import nltk\n",
        "nltk.download('stopwords')\n",
        "from nltk.corpus import stopwords\n",
        "stop_words=set(nltk.corpus.stopwords.words('english'))\n",
        "\n",
        "# tokenizing\n",
        "from nltk import word_tokenize,sent_tokenize\n"
      ],
      "execution_count": 482,
      "outputs": [
        {
          "output_type": "stream",
          "text": [
            "[nltk_data] Downloading package stopwords to /root/nltk_data...\n",
            "[nltk_data]   Package stopwords is already up-to-date!\n"
          ],
          "name": "stdout"
        }
      ]
    },
    {
      "cell_type": "code",
      "metadata": {
        "id": "s2C_zoGvxYke",
        "colab_type": "code",
        "colab": {
          "base_uri": "https://localhost:8080/",
          "height": 122
        },
        "outputId": "aa9a0069-a9af-457b-ec01-c50309b5384d"
      },
      "source": [
        "from google.colab import drive\n",
        "drive.mount('/content/drive')"
      ],
      "execution_count": 3,
      "outputs": [
        {
          "output_type": "stream",
          "text": [
            "Go to this URL in a browser: https://accounts.google.com/o/oauth2/auth?client_id=947318989803-6bn6qk8qdgf4n4g3pfee6491hc0brc4i.apps.googleusercontent.com&redirect_uri=urn%3aietf%3awg%3aoauth%3a2.0%3aoob&response_type=code&scope=email%20https%3a%2f%2fwww.googleapis.com%2fauth%2fdocs.test%20https%3a%2f%2fwww.googleapis.com%2fauth%2fdrive%20https%3a%2f%2fwww.googleapis.com%2fauth%2fdrive.photos.readonly%20https%3a%2f%2fwww.googleapis.com%2fauth%2fpeopleapi.readonly\n",
            "\n",
            "Enter your authorization code:\n",
            "··········\n",
            "Mounted at /content/drive\n"
          ],
          "name": "stdout"
        }
      ]
    },
    {
      "cell_type": "markdown",
      "metadata": {
        "id": "RAbUFNBMxNCb",
        "colab_type": "text"
      },
      "source": [
        "## Import training and test data"
      ]
    },
    {
      "cell_type": "code",
      "metadata": {
        "id": "qdWl3_gaxNCc",
        "colab_type": "code",
        "colab": {}
      },
      "source": [
        "df_train = pd.read_csv('/content/drive/My Drive/NLP Tweets/Train.csv',parse_dates=['Date'])\n",
        "df_test = pd.read_csv('/content/drive/My Drive/NLP Tweets/Test.csv',parse_dates=['Date'])"
      ],
      "execution_count": 0,
      "outputs": []
    },
    {
      "cell_type": "markdown",
      "metadata": {
        "id": "okAVzrG3xNCj",
        "colab_type": "text"
      },
      "source": [
        "## Training Data Statistics"
      ]
    },
    {
      "cell_type": "code",
      "metadata": {
        "id": "6jGKsL7DxNCk",
        "colab_type": "code",
        "colab": {
          "base_uri": "https://localhost:8080/",
          "height": 34
        },
        "outputId": "d3871029-c7a8-4fb2-aceb-a39a6b360883"
      },
      "source": [
        "df_train.shape"
      ],
      "execution_count": 484,
      "outputs": [
        {
          "output_type": "execute_result",
          "data": {
            "text/plain": [
              "(2452, 8)"
            ]
          },
          "metadata": {
            "tags": []
          },
          "execution_count": 484
        }
      ]
    },
    {
      "cell_type": "code",
      "metadata": {
        "id": "joc2h18uxNCt",
        "colab_type": "code",
        "colab": {
          "base_uri": "https://localhost:8080/",
          "height": 297
        },
        "outputId": "0dac2df9-4e77-46e1-f011-d50fd949a4de"
      },
      "source": [
        "df_train.describe()"
      ],
      "execution_count": 485,
      "outputs": [
        {
          "output_type": "execute_result",
          "data": {
            "text/html": [
              "<div>\n",
              "<style scoped>\n",
              "    .dataframe tbody tr th:only-of-type {\n",
              "        vertical-align: middle;\n",
              "    }\n",
              "\n",
              "    .dataframe tbody tr th {\n",
              "        vertical-align: top;\n",
              "    }\n",
              "\n",
              "    .dataframe thead th {\n",
              "        text-align: right;\n",
              "    }\n",
              "</style>\n",
              "<table border=\"1\" class=\"dataframe\">\n",
              "  <thead>\n",
              "    <tr style=\"text-align: right;\">\n",
              "      <th></th>\n",
              "      <th>Item_Rating</th>\n",
              "      <th>Selling_Price</th>\n",
              "    </tr>\n",
              "  </thead>\n",
              "  <tbody>\n",
              "    <tr>\n",
              "      <th>count</th>\n",
              "      <td>2452.000000</td>\n",
              "      <td>2452.000000</td>\n",
              "    </tr>\n",
              "    <tr>\n",
              "      <th>mean</th>\n",
              "      <td>3.078467</td>\n",
              "      <td>2494.375612</td>\n",
              "    </tr>\n",
              "    <tr>\n",
              "      <th>std</th>\n",
              "      <td>1.187137</td>\n",
              "      <td>7115.256516</td>\n",
              "    </tr>\n",
              "    <tr>\n",
              "      <th>min</th>\n",
              "      <td>1.000000</td>\n",
              "      <td>33.000000</td>\n",
              "    </tr>\n",
              "    <tr>\n",
              "      <th>25%</th>\n",
              "      <td>2.000000</td>\n",
              "      <td>371.000000</td>\n",
              "    </tr>\n",
              "    <tr>\n",
              "      <th>50%</th>\n",
              "      <td>3.100000</td>\n",
              "      <td>596.000000</td>\n",
              "    </tr>\n",
              "    <tr>\n",
              "      <th>75%</th>\n",
              "      <td>4.100000</td>\n",
              "      <td>1195.250000</td>\n",
              "    </tr>\n",
              "    <tr>\n",
              "      <th>max</th>\n",
              "      <td>5.000000</td>\n",
              "      <td>116289.000000</td>\n",
              "    </tr>\n",
              "  </tbody>\n",
              "</table>\n",
              "</div>"
            ],
            "text/plain": [
              "       Item_Rating  Selling_Price\n",
              "count  2452.000000    2452.000000\n",
              "mean      3.078467    2494.375612\n",
              "std       1.187137    7115.256516\n",
              "min       1.000000      33.000000\n",
              "25%       2.000000     371.000000\n",
              "50%       3.100000     596.000000\n",
              "75%       4.100000    1195.250000\n",
              "max       5.000000  116289.000000"
            ]
          },
          "metadata": {
            "tags": []
          },
          "execution_count": 485
        }
      ]
    },
    {
      "cell_type": "code",
      "metadata": {
        "id": "OSbJ38CmxNC1",
        "colab_type": "code",
        "colab": {
          "base_uri": "https://localhost:8080/",
          "height": 173
        },
        "outputId": "5898ad66-6715-4ee8-9924-18cb77c11fec"
      },
      "source": [
        "df_train.describe(include='O')"
      ],
      "execution_count": 486,
      "outputs": [
        {
          "output_type": "execute_result",
          "data": {
            "text/html": [
              "<div>\n",
              "<style scoped>\n",
              "    .dataframe tbody tr th:only-of-type {\n",
              "        vertical-align: middle;\n",
              "    }\n",
              "\n",
              "    .dataframe tbody tr th {\n",
              "        vertical-align: top;\n",
              "    }\n",
              "\n",
              "    .dataframe thead th {\n",
              "        text-align: right;\n",
              "    }\n",
              "</style>\n",
              "<table border=\"1\" class=\"dataframe\">\n",
              "  <thead>\n",
              "    <tr style=\"text-align: right;\">\n",
              "      <th></th>\n",
              "      <th>Product</th>\n",
              "      <th>Product_Brand</th>\n",
              "      <th>Item_Category</th>\n",
              "      <th>Subcategory_1</th>\n",
              "      <th>Subcategory_2</th>\n",
              "    </tr>\n",
              "  </thead>\n",
              "  <tbody>\n",
              "    <tr>\n",
              "      <th>count</th>\n",
              "      <td>2452</td>\n",
              "      <td>2452</td>\n",
              "      <td>2452</td>\n",
              "      <td>2452</td>\n",
              "      <td>2452</td>\n",
              "    </tr>\n",
              "    <tr>\n",
              "      <th>unique</th>\n",
              "      <td>2452</td>\n",
              "      <td>1010</td>\n",
              "      <td>75</td>\n",
              "      <td>130</td>\n",
              "      <td>336</td>\n",
              "    </tr>\n",
              "    <tr>\n",
              "      <th>top</th>\n",
              "      <td>P-4898</td>\n",
              "      <td>B-3078</td>\n",
              "      <td>clothing</td>\n",
              "      <td>women s clothing</td>\n",
              "      <td>western wear</td>\n",
              "    </tr>\n",
              "    <tr>\n",
              "      <th>freq</th>\n",
              "      <td>1</td>\n",
              "      <td>688</td>\n",
              "      <td>717</td>\n",
              "      <td>476</td>\n",
              "      <td>267</td>\n",
              "    </tr>\n",
              "  </tbody>\n",
              "</table>\n",
              "</div>"
            ],
            "text/plain": [
              "       Product Product_Brand Item_Category     Subcategory_1 Subcategory_2\n",
              "count     2452          2452          2452              2452          2452\n",
              "unique    2452          1010            75               130           336\n",
              "top     P-4898        B-3078      clothing  women s clothing  western wear\n",
              "freq         1           688           717               476           267"
            ]
          },
          "metadata": {
            "tags": []
          },
          "execution_count": 486
        }
      ]
    },
    {
      "cell_type": "code",
      "metadata": {
        "id": "z0CBbga-xNC7",
        "colab_type": "code",
        "colab": {
          "base_uri": "https://localhost:8080/",
          "height": 204
        },
        "outputId": "9d0ffa71-a8c6-494b-9395-4538381e50dc"
      },
      "source": [
        "df_train.head()"
      ],
      "execution_count": 487,
      "outputs": [
        {
          "output_type": "execute_result",
          "data": {
            "text/html": [
              "<div>\n",
              "<style scoped>\n",
              "    .dataframe tbody tr th:only-of-type {\n",
              "        vertical-align: middle;\n",
              "    }\n",
              "\n",
              "    .dataframe tbody tr th {\n",
              "        vertical-align: top;\n",
              "    }\n",
              "\n",
              "    .dataframe thead th {\n",
              "        text-align: right;\n",
              "    }\n",
              "</style>\n",
              "<table border=\"1\" class=\"dataframe\">\n",
              "  <thead>\n",
              "    <tr style=\"text-align: right;\">\n",
              "      <th></th>\n",
              "      <th>Product</th>\n",
              "      <th>Product_Brand</th>\n",
              "      <th>Item_Category</th>\n",
              "      <th>Subcategory_1</th>\n",
              "      <th>Subcategory_2</th>\n",
              "      <th>Item_Rating</th>\n",
              "      <th>Date</th>\n",
              "      <th>Selling_Price</th>\n",
              "    </tr>\n",
              "  </thead>\n",
              "  <tbody>\n",
              "    <tr>\n",
              "      <th>0</th>\n",
              "      <td>P-2610</td>\n",
              "      <td>B-659</td>\n",
              "      <td>bags wallets belts</td>\n",
              "      <td>bags</td>\n",
              "      <td>hand bags</td>\n",
              "      <td>4.3</td>\n",
              "      <td>2017-02-03</td>\n",
              "      <td>291.0</td>\n",
              "    </tr>\n",
              "    <tr>\n",
              "      <th>1</th>\n",
              "      <td>P-2453</td>\n",
              "      <td>B-3078</td>\n",
              "      <td>clothing</td>\n",
              "      <td>women s clothing</td>\n",
              "      <td>western wear</td>\n",
              "      <td>3.1</td>\n",
              "      <td>2015-07-01</td>\n",
              "      <td>897.0</td>\n",
              "    </tr>\n",
              "    <tr>\n",
              "      <th>2</th>\n",
              "      <td>P-6802</td>\n",
              "      <td>B-1810</td>\n",
              "      <td>home decor festive needs</td>\n",
              "      <td>showpieces</td>\n",
              "      <td>ethnic</td>\n",
              "      <td>3.5</td>\n",
              "      <td>2019-01-12</td>\n",
              "      <td>792.0</td>\n",
              "    </tr>\n",
              "    <tr>\n",
              "      <th>3</th>\n",
              "      <td>P-4452</td>\n",
              "      <td>B-3078</td>\n",
              "      <td>beauty and personal care</td>\n",
              "      <td>eye care</td>\n",
              "      <td>h2o plus eye care</td>\n",
              "      <td>4.0</td>\n",
              "      <td>2014-12-12</td>\n",
              "      <td>837.0</td>\n",
              "    </tr>\n",
              "    <tr>\n",
              "      <th>4</th>\n",
              "      <td>P-8454</td>\n",
              "      <td>B-3078</td>\n",
              "      <td>clothing</td>\n",
              "      <td>men s clothing</td>\n",
              "      <td>t shirts</td>\n",
              "      <td>4.3</td>\n",
              "      <td>2013-12-12</td>\n",
              "      <td>470.0</td>\n",
              "    </tr>\n",
              "  </tbody>\n",
              "</table>\n",
              "</div>"
            ],
            "text/plain": [
              "  Product Product_Brand  ...       Date Selling_Price\n",
              "0  P-2610         B-659  ... 2017-02-03         291.0\n",
              "1  P-2453        B-3078  ... 2015-07-01         897.0\n",
              "2  P-6802        B-1810  ... 2019-01-12         792.0\n",
              "3  P-4452        B-3078  ... 2014-12-12         837.0\n",
              "4  P-8454        B-3078  ... 2013-12-12         470.0\n",
              "\n",
              "[5 rows x 8 columns]"
            ]
          },
          "metadata": {
            "tags": []
          },
          "execution_count": 487
        }
      ]
    },
    {
      "cell_type": "markdown",
      "metadata": {
        "id": "oYo5w3svxNDA",
        "colab_type": "text"
      },
      "source": [
        "## Check for nullvalues if any in training and test data"
      ]
    },
    {
      "cell_type": "code",
      "metadata": {
        "id": "4X0YgnQCxNDC",
        "colab_type": "code",
        "colab": {
          "base_uri": "https://localhost:8080/",
          "height": 34
        },
        "outputId": "236f47d5-0bac-4697-a367-13ad50d69dcf"
      },
      "source": [
        "df_train.isnull().sum()[df_train.isnull().sum() > 0]"
      ],
      "execution_count": 488,
      "outputs": [
        {
          "output_type": "execute_result",
          "data": {
            "text/plain": [
              "Series([], dtype: int64)"
            ]
          },
          "metadata": {
            "tags": []
          },
          "execution_count": 488
        }
      ]
    },
    {
      "cell_type": "code",
      "metadata": {
        "id": "LR2_QK6AxNDK",
        "colab_type": "code",
        "colab": {
          "base_uri": "https://localhost:8080/",
          "height": 34
        },
        "outputId": "9a1f2225-559c-4781-da87-8126f76e4a26"
      },
      "source": [
        "df_test.isnull().sum()[df_test.isnull().sum() > 0]"
      ],
      "execution_count": 489,
      "outputs": [
        {
          "output_type": "execute_result",
          "data": {
            "text/plain": [
              "Series([], dtype: int64)"
            ]
          },
          "metadata": {
            "tags": []
          },
          "execution_count": 489
        }
      ]
    },
    {
      "cell_type": "markdown",
      "metadata": {
        "id": "HP-H7f2JxNDP",
        "colab_type": "text"
      },
      "source": [
        "## Visualize the features"
      ]
    },
    {
      "cell_type": "code",
      "metadata": {
        "id": "jufuOdEwxNDQ",
        "colab_type": "code",
        "colab": {
          "base_uri": "https://localhost:8080/",
          "height": 1000
        },
        "outputId": "fb70a1cb-5063-4a10-da58-54edef964f5e"
      },
      "source": [
        "df_train['Product_Brand'].value_counts().to_dict()"
      ],
      "execution_count": 490,
      "outputs": [
        {
          "output_type": "execute_result",
          "data": {
            "text/plain": [
              "{'B-3078': 688,\n",
              " 'B-133': 91,\n",
              " 'B-2679': 42,\n",
              " 'B-2372': 40,\n",
              " 'B-1517': 35,\n",
              " 'B-2307': 35,\n",
              " 'B-2741': 30,\n",
              " 'B-405': 20,\n",
              " 'B-2355': 16,\n",
              " 'B-3231': 16,\n",
              " 'B-3197': 14,\n",
              " 'B-2373': 13,\n",
              " 'B-378': 11,\n",
              " 'B-2895': 10,\n",
              " 'B-2201': 9,\n",
              " 'B-2281': 9,\n",
              " 'B-3215': 8,\n",
              " 'B-1020': 7,\n",
              " 'B-334': 7,\n",
              " 'B-2695': 7,\n",
              " 'B-1936': 7,\n",
              " 'B-2370': 7,\n",
              " 'B-810': 7,\n",
              " 'B-1': 7,\n",
              " 'B-1260': 7,\n",
              " 'B-1315': 6,\n",
              " 'B-879': 6,\n",
              " 'B-1466': 6,\n",
              " 'B-1431': 5,\n",
              " 'B-1569': 5,\n",
              " 'B-2326': 5,\n",
              " 'B-3302': 5,\n",
              " 'B-119': 5,\n",
              " 'B-191': 5,\n",
              " 'B-1154': 5,\n",
              " 'B-1645': 5,\n",
              " 'B-850': 5,\n",
              " 'B-793': 5,\n",
              " 'B-372': 4,\n",
              " 'B-1176': 4,\n",
              " 'B-88': 4,\n",
              " 'B-1417': 4,\n",
              " 'B-734': 4,\n",
              " 'B-80': 4,\n",
              " 'B-3082': 4,\n",
              " 'B-748': 4,\n",
              " 'B-1004': 4,\n",
              " 'B-3274': 4,\n",
              " 'B-449': 4,\n",
              " 'B-786': 4,\n",
              " 'B-1421': 4,\n",
              " 'B-3311': 4,\n",
              " 'B-2344': 4,\n",
              " 'B-219': 4,\n",
              " 'B-2415': 4,\n",
              " 'B-2250': 4,\n",
              " 'B-1793': 4,\n",
              " 'B-41': 4,\n",
              " 'B-1444': 4,\n",
              " 'B-909': 4,\n",
              " 'B-1169': 4,\n",
              " 'B-1993': 4,\n",
              " 'B-390': 3,\n",
              " 'B-3187': 3,\n",
              " 'B-3185': 3,\n",
              " 'B-86': 3,\n",
              " 'B-2000': 3,\n",
              " 'B-2605': 3,\n",
              " 'B-2204': 3,\n",
              " 'B-3251': 3,\n",
              " 'B-3269': 3,\n",
              " 'B-30': 3,\n",
              " 'B-63': 3,\n",
              " 'B-1222': 3,\n",
              " 'B-1129': 3,\n",
              " 'B-1695': 3,\n",
              " 'B-920': 3,\n",
              " 'B-359': 3,\n",
              " 'B-2604': 3,\n",
              " 'B-247': 3,\n",
              " 'B-2463': 3,\n",
              " 'B-2821': 3,\n",
              " 'B-2323': 3,\n",
              " 'B-3260': 3,\n",
              " 'B-863': 3,\n",
              " 'B-1193': 3,\n",
              " 'B-2198': 3,\n",
              " 'B-2301': 3,\n",
              " 'B-720': 3,\n",
              " 'B-860': 3,\n",
              " 'B-889': 3,\n",
              " 'B-1478': 3,\n",
              " 'B-2114': 3,\n",
              " 'B-817': 3,\n",
              " 'B-1237': 3,\n",
              " 'B-947': 3,\n",
              " 'B-64': 3,\n",
              " 'B-2504': 3,\n",
              " 'B-1526': 3,\n",
              " 'B-2462': 3,\n",
              " 'B-165': 3,\n",
              " 'B-2701': 2,\n",
              " 'B-3234': 2,\n",
              " 'B-2530': 2,\n",
              " 'B-1906': 2,\n",
              " 'B-397': 2,\n",
              " 'B-1556': 2,\n",
              " 'B-3182': 2,\n",
              " 'B-1842': 2,\n",
              " 'B-3032': 2,\n",
              " 'B-2925': 2,\n",
              " 'B-1033': 2,\n",
              " 'B-555': 2,\n",
              " 'B-2624': 2,\n",
              " 'B-615': 2,\n",
              " 'B-3199': 2,\n",
              " 'B-1635': 2,\n",
              " 'B-929': 2,\n",
              " 'B-1349': 2,\n",
              " 'B-1656': 2,\n",
              " 'B-2733': 2,\n",
              " 'B-1994': 2,\n",
              " 'B-3123': 2,\n",
              " 'B-2984': 2,\n",
              " 'B-3352': 2,\n",
              " 'B-3132': 2,\n",
              " 'B-2609': 2,\n",
              " 'B-2451': 2,\n",
              " 'B-3292': 2,\n",
              " 'B-2025': 2,\n",
              " 'B-1215': 2,\n",
              " 'B-166': 2,\n",
              " 'B-2322': 2,\n",
              " 'B-1269': 2,\n",
              " 'B-1092': 2,\n",
              " 'B-1377': 2,\n",
              " 'B-2175': 2,\n",
              " 'B-1512': 2,\n",
              " 'B-3041': 2,\n",
              " 'B-1564': 2,\n",
              " 'B-610': 2,\n",
              " 'B-3220': 2,\n",
              " 'B-1991': 2,\n",
              " 'B-3144': 2,\n",
              " 'B-3235': 2,\n",
              " 'B-2923': 2,\n",
              " 'B-2435': 2,\n",
              " 'B-1721': 2,\n",
              " 'B-1810': 2,\n",
              " 'B-1087': 2,\n",
              " 'B-2650': 2,\n",
              " 'B-1312': 2,\n",
              " 'B-222': 2,\n",
              " 'B-3051': 2,\n",
              " 'B-2510': 2,\n",
              " 'B-1347': 2,\n",
              " 'B-2929': 2,\n",
              " 'B-1614': 2,\n",
              " 'B-649': 2,\n",
              " 'B-502': 2,\n",
              " 'B-3342': 2,\n",
              " 'B-3314': 2,\n",
              " 'B-101': 2,\n",
              " 'B-2066': 2,\n",
              " 'B-155': 2,\n",
              " 'B-1854': 2,\n",
              " 'B-267': 2,\n",
              " 'B-340': 2,\n",
              " 'B-2183': 2,\n",
              " 'B-2731': 2,\n",
              " 'B-1458': 2,\n",
              " 'B-2325': 2,\n",
              " 'B-2229': 2,\n",
              " 'B-2111': 2,\n",
              " 'B-2710': 2,\n",
              " 'B-3149': 2,\n",
              " 'B-2807': 2,\n",
              " 'B-2608': 2,\n",
              " 'B-1419': 2,\n",
              " 'B-1065': 2,\n",
              " 'B-1407': 2,\n",
              " 'B-2182': 2,\n",
              " 'B-3070': 2,\n",
              " 'B-557': 2,\n",
              " 'B-725': 2,\n",
              " 'B-1256': 2,\n",
              " 'B-3094': 2,\n",
              " 'B-3172': 2,\n",
              " 'B-1430': 2,\n",
              " 'B-2274': 2,\n",
              " 'B-4': 2,\n",
              " 'B-2469': 2,\n",
              " 'B-802': 2,\n",
              " 'B-1018': 2,\n",
              " 'B-410': 2,\n",
              " 'B-1378': 2,\n",
              " 'B-3303': 2,\n",
              " 'B-861': 2,\n",
              " 'B-2515': 2,\n",
              " 'B-945': 2,\n",
              " 'B-2586': 2,\n",
              " 'B-240': 2,\n",
              " 'B-751': 2,\n",
              " 'B-1973': 2,\n",
              " 'B-3175': 2,\n",
              " 'B-1293': 2,\n",
              " 'B-1292': 2,\n",
              " 'B-2680': 2,\n",
              " 'B-2136': 2,\n",
              " 'B-1961': 2,\n",
              " 'B-662': 2,\n",
              " 'B-730': 2,\n",
              " 'B-2247': 2,\n",
              " 'B-276': 2,\n",
              " 'B-1638': 2,\n",
              " 'B-419': 2,\n",
              " 'B-2830': 2,\n",
              " 'B-2998': 2,\n",
              " 'B-2866': 2,\n",
              " 'B-2888': 2,\n",
              " 'B-1690': 1,\n",
              " 'B-1059': 1,\n",
              " 'B-2748': 1,\n",
              " 'B-2606': 1,\n",
              " 'B-218': 1,\n",
              " 'B-1878': 1,\n",
              " 'B-580': 1,\n",
              " 'B-2607': 1,\n",
              " 'B-2945': 1,\n",
              " 'B-1481': 1,\n",
              " 'B-456': 1,\n",
              " 'B-414': 1,\n",
              " 'B-462': 1,\n",
              " 'B-2363': 1,\n",
              " 'B-1753': 1,\n",
              " 'B-3219': 1,\n",
              " 'B-809': 1,\n",
              " 'B-2416': 1,\n",
              " 'B-2284': 1,\n",
              " 'B-901': 1,\n",
              " 'B-1140': 1,\n",
              " 'B-681': 1,\n",
              " 'B-388': 1,\n",
              " 'B-1290': 1,\n",
              " 'B-1438': 1,\n",
              " 'B-634': 1,\n",
              " 'B-2428': 1,\n",
              " 'B-2863': 1,\n",
              " 'B-913': 1,\n",
              " 'B-3195': 1,\n",
              " 'B-1083': 1,\n",
              " 'B-658': 1,\n",
              " 'B-2784': 1,\n",
              " 'B-1088': 1,\n",
              " 'B-966': 1,\n",
              " 'B-376': 1,\n",
              " 'B-2826': 1,\n",
              " 'B-1773': 1,\n",
              " 'B-2314': 1,\n",
              " 'B-1236': 1,\n",
              " 'B-2256': 1,\n",
              " 'B-1116': 1,\n",
              " 'B-2327': 1,\n",
              " 'B-545': 1,\n",
              " 'B-1143': 1,\n",
              " 'B-1872': 1,\n",
              " 'B-893': 1,\n",
              " 'B-2729': 1,\n",
              " 'B-984': 1,\n",
              " 'B-2389': 1,\n",
              " 'B-724': 1,\n",
              " 'B-1598': 1,\n",
              " 'B-3209': 1,\n",
              " 'B-1594': 1,\n",
              " 'B-1076': 1,\n",
              " 'B-1016': 1,\n",
              " 'B-1947': 1,\n",
              " 'B-1379': 1,\n",
              " 'B-2041': 1,\n",
              " 'B-1459': 1,\n",
              " 'B-112': 1,\n",
              " 'B-905': 1,\n",
              " 'B-2288': 1,\n",
              " 'B-1442': 1,\n",
              " 'B-2044': 1,\n",
              " 'B-2484': 1,\n",
              " 'B-1726': 1,\n",
              " 'B-1413': 1,\n",
              " 'B-2332': 1,\n",
              " 'B-2508': 1,\n",
              " 'B-270': 1,\n",
              " 'B-280': 1,\n",
              " 'B-1273': 1,\n",
              " 'B-54': 1,\n",
              " 'B-368': 1,\n",
              " 'B-1318': 1,\n",
              " 'B-3337': 1,\n",
              " 'B-608': 1,\n",
              " 'B-2291': 1,\n",
              " 'B-3176': 1,\n",
              " 'B-3212': 1,\n",
              " 'B-2722': 1,\n",
              " 'B-2113': 1,\n",
              " 'B-2937': 1,\n",
              " 'B-330': 1,\n",
              " 'B-322': 1,\n",
              " 'B-825': 1,\n",
              " 'B-897': 1,\n",
              " 'B-79': 1,\n",
              " 'B-1188': 1,\n",
              " 'B-3296': 1,\n",
              " 'B-2971': 1,\n",
              " 'B-1551': 1,\n",
              " 'B-3158': 1,\n",
              " 'B-2151': 1,\n",
              " 'B-3054': 1,\n",
              " 'B-838': 1,\n",
              " 'B-2853': 1,\n",
              " 'B-1519': 1,\n",
              " 'B-2801': 1,\n",
              " 'B-2627': 1,\n",
              " 'B-985': 1,\n",
              " 'B-1597': 1,\n",
              " 'B-2003': 1,\n",
              " 'B-1145': 1,\n",
              " 'B-732': 1,\n",
              " 'B-871': 1,\n",
              " 'B-331': 1,\n",
              " 'B-235': 1,\n",
              " 'B-2154': 1,\n",
              " 'B-855': 1,\n",
              " 'B-616': 1,\n",
              " 'B-866': 1,\n",
              " 'B-3289': 1,\n",
              " 'B-1817': 1,\n",
              " 'B-2096': 1,\n",
              " 'B-968': 1,\n",
              " 'B-2161': 1,\n",
              " 'B-1932': 1,\n",
              " 'B-392': 1,\n",
              " 'B-2265': 1,\n",
              " 'B-169': 1,\n",
              " 'B-770': 1,\n",
              " 'B-1062': 1,\n",
              " 'B-972': 1,\n",
              " 'B-678': 1,\n",
              " 'B-2184': 1,\n",
              " 'B-563': 1,\n",
              " 'B-2022': 1,\n",
              " 'B-667': 1,\n",
              " 'B-1668': 1,\n",
              " 'B-2160': 1,\n",
              " 'B-239': 1,\n",
              " 'B-250': 1,\n",
              " 'B-1414': 1,\n",
              " 'B-2149': 1,\n",
              " 'B-1251': 1,\n",
              " 'B-992': 1,\n",
              " 'B-187': 1,\n",
              " 'B-1554': 1,\n",
              " 'B-3060': 1,\n",
              " 'B-1771': 1,\n",
              " 'B-2891': 1,\n",
              " 'B-3266': 1,\n",
              " 'B-727': 1,\n",
              " 'B-423': 1,\n",
              " 'B-1986': 1,\n",
              " 'B-2039': 1,\n",
              " 'B-2386': 1,\n",
              " 'B-1380': 1,\n",
              " 'B-3090': 1,\n",
              " 'B-2028': 1,\n",
              " 'B-1958': 1,\n",
              " 'B-2131': 1,\n",
              " 'B-1167': 1,\n",
              " 'B-1954': 1,\n",
              " 'B-1654': 1,\n",
              " 'B-134': 1,\n",
              " 'B-856': 1,\n",
              " 'B-2745': 1,\n",
              " 'B-2992': 1,\n",
              " 'B-1376': 1,\n",
              " 'B-642': 1,\n",
              " 'B-1803': 1,\n",
              " 'B-706': 1,\n",
              " 'B-744': 1,\n",
              " 'B-1437': 1,\n",
              " 'B-3301': 1,\n",
              " 'B-1185': 1,\n",
              " 'B-812': 1,\n",
              " 'B-3192': 1,\n",
              " 'B-3159': 1,\n",
              " 'B-1264': 1,\n",
              " 'B-2024': 1,\n",
              " 'B-2106': 1,\n",
              " 'B-440': 1,\n",
              " 'B-1067': 1,\n",
              " 'B-1596': 1,\n",
              " 'B-1543': 1,\n",
              " 'B-2232': 1,\n",
              " 'B-1741': 1,\n",
              " 'B-942': 1,\n",
              " 'B-1465': 1,\n",
              " 'B-1670': 1,\n",
              " 'B-1686': 1,\n",
              " 'B-2165': 1,\n",
              " 'B-664': 1,\n",
              " 'B-1502': 1,\n",
              " 'B-1245': 1,\n",
              " 'B-1595': 1,\n",
              " 'B-1385': 1,\n",
              " 'B-1820': 1,\n",
              " 'B-1501': 1,\n",
              " 'B-1590': 1,\n",
              " 'B-2918': 1,\n",
              " 'B-931': 1,\n",
              " 'B-598': 1,\n",
              " 'B-645': 1,\n",
              " 'B-1864': 1,\n",
              " 'B-916': 1,\n",
              " 'B-1681': 1,\n",
              " 'B-1048': 1,\n",
              " 'B-2548': 1,\n",
              " 'B-2444': 1,\n",
              " 'B-574': 1,\n",
              " 'B-648': 1,\n",
              " 'B-2223': 1,\n",
              " 'B-1819': 1,\n",
              " 'B-12': 1,\n",
              " 'B-2047': 1,\n",
              " 'B-3223': 1,\n",
              " 'B-40': 1,\n",
              " 'B-533': 1,\n",
              " 'B-162': 1,\n",
              " 'B-2347': 1,\n",
              " 'B-2058': 1,\n",
              " 'B-2861': 1,\n",
              " 'B-1813': 1,\n",
              " 'B-2776': 1,\n",
              " 'B-1895': 1,\n",
              " 'B-2196': 1,\n",
              " 'B-458': 1,\n",
              " 'B-1655': 1,\n",
              " 'B-2527': 1,\n",
              " 'B-2135': 1,\n",
              " 'B-2473': 1,\n",
              " 'B-349': 1,\n",
              " 'B-1052': 1,\n",
              " 'B-1542': 1,\n",
              " 'B-1276': 1,\n",
              " 'B-478': 1,\n",
              " 'B-2049': 1,\n",
              " 'B-733': 1,\n",
              " 'B-96': 1,\n",
              " 'B-747': 1,\n",
              " 'B-1182': 1,\n",
              " 'B-2443': 1,\n",
              " 'B-973': 1,\n",
              " 'B-2080': 1,\n",
              " 'B-813': 1,\n",
              " 'B-1097': 1,\n",
              " 'B-1477': 1,\n",
              " 'B-2735': 1,\n",
              " 'B-2924': 1,\n",
              " 'B-661': 1,\n",
              " 'B-679': 1,\n",
              " 'B-3164': 1,\n",
              " 'B-1621': 1,\n",
              " 'B-926': 1,\n",
              " 'B-2914': 1,\n",
              " 'B-304': 1,\n",
              " 'B-3238': 1,\n",
              " 'B-1168': 1,\n",
              " 'B-167': 1,\n",
              " 'B-2233': 1,\n",
              " 'B-2818': 1,\n",
              " 'B-473': 1,\n",
              " 'B-1666': 1,\n",
              " 'B-2828': 1,\n",
              " 'B-3146': 1,\n",
              " 'B-1342': 1,\n",
              " 'B-3338': 1,\n",
              " 'B-922': 1,\n",
              " 'B-1247': 1,\n",
              " 'B-1000': 1,\n",
              " 'B-2619': 1,\n",
              " 'B-1682': 1,\n",
              " 'B-2132': 1,\n",
              " 'B-1911': 1,\n",
              " 'B-2411': 1,\n",
              " 'B-373': 1,\n",
              " 'B-2292': 1,\n",
              " 'B-2457': 1,\n",
              " 'B-818': 1,\n",
              " 'B-2200': 1,\n",
              " 'B-2946': 1,\n",
              " 'B-3309': 1,\n",
              " 'B-2102': 1,\n",
              " 'B-1270': 1,\n",
              " 'B-1812': 1,\n",
              " 'B-3315': 1,\n",
              " 'B-2571': 1,\n",
              " 'B-789': 1,\n",
              " 'B-587': 1,\n",
              " 'B-3020': 1,\n",
              " 'B-1019': 1,\n",
              " 'B-1141': 1,\n",
              " 'B-2134': 1,\n",
              " 'B-71': 1,\n",
              " 'B-2374': 1,\n",
              " 'B-2112': 1,\n",
              " 'B-1148': 1,\n",
              " 'B-2907': 1,\n",
              " 'B-1446': 1,\n",
              " 'B-898': 1,\n",
              " 'B-3283': 1,\n",
              " 'B-1499': 1,\n",
              " 'B-599': 1,\n",
              " 'B-2540': 1,\n",
              " 'B-523': 1,\n",
              " 'B-210': 1,\n",
              " 'B-2949': 1,\n",
              " 'B-272': 1,\n",
              " 'B-1075': 1,\n",
              " 'B-979': 1,\n",
              " 'B-467': 1,\n",
              " 'B-1268': 1,\n",
              " 'B-659': 1,\n",
              " 'B-2283': 1,\n",
              " 'B-877': 1,\n",
              " 'B-2008': 1,\n",
              " 'B-2892': 1,\n",
              " 'B-3027': 1,\n",
              " 'B-1198': 1,\n",
              " 'B-495': 1,\n",
              " 'B-1452': 1,\n",
              " 'B-2214': 1,\n",
              " 'B-3273': 1,\n",
              " 'B-2388': 1,\n",
              " 'B-2449': 1,\n",
              " 'B-726': 1,\n",
              " 'B-2538': 1,\n",
              " 'B-3218': 1,\n",
              " 'B-3246': 1,\n",
              " 'B-1214': 1,\n",
              " 'B-3207': 1,\n",
              " 'B-29': 1,\n",
              " 'B-1651': 1,\n",
              " 'B-2459': 1,\n",
              " 'B-759': 1,\n",
              " 'B-2063': 1,\n",
              " 'B-1704': 1,\n",
              " 'B-422': 1,\n",
              " 'B-2133': 1,\n",
              " 'B-1177': 1,\n",
              " 'B-1317': 1,\n",
              " 'B-186': 1,\n",
              " 'B-3133': 1,\n",
              " 'B-3106': 1,\n",
              " 'B-2142': 1,\n",
              " 'B-918': 1,\n",
              " 'B-2564': 1,\n",
              " 'B-670': 1,\n",
              " 'B-3009': 1,\n",
              " 'B-983': 1,\n",
              " 'B-3222': 1,\n",
              " 'B-2622': 1,\n",
              " 'B-1300': 1,\n",
              " 'B-2715': 1,\n",
              " 'B-211': 1,\n",
              " 'B-2437': 1,\n",
              " 'B-1788': 1,\n",
              " 'B-1730': 1,\n",
              " 'B-2743': 1,\n",
              " 'B-581': 1,\n",
              " 'B-1128': 1,\n",
              " 'B-925': 1,\n",
              " 'B-1907': 1,\n",
              " 'B-1851': 1,\n",
              " 'B-2755': 1,\n",
              " 'B-2825': 1,\n",
              " 'B-2141': 1,\n",
              " 'B-885': 1,\n",
              " 'B-1291': 1,\n",
              " 'B-949': 1,\n",
              " 'B-2658': 1,\n",
              " 'B-797': 1,\n",
              " 'B-924': 1,\n",
              " 'B-2001': 1,\n",
              " 'B-3118': 1,\n",
              " 'B-199': 1,\n",
              " 'B-673': 1,\n",
              " 'B-2071': 1,\n",
              " 'B-2399': 1,\n",
              " 'B-323': 1,\n",
              " 'B-2026': 1,\n",
              " 'B-108': 1,\n",
              " 'B-1559': 1,\n",
              " 'B-1328': 1,\n",
              " 'B-1266': 1,\n",
              " 'B-485': 1,\n",
              " 'B-2852': 1,\n",
              " 'B-465': 1,\n",
              " 'B-3322': 1,\n",
              " 'B-278': 1,\n",
              " 'B-1223': 1,\n",
              " 'B-1416': 1,\n",
              " 'B-57': 1,\n",
              " 'B-438': 1,\n",
              " 'B-1309': 1,\n",
              " 'B-2565': 1,\n",
              " 'B-711': 1,\n",
              " 'B-82': 1,\n",
              " 'B-629': 1,\n",
              " 'B-1937': 1,\n",
              " 'B-2976': 1,\n",
              " 'B-123': 1,\n",
              " 'B-1448': 1,\n",
              " 'B-2140': 1,\n",
              " 'B-3049': 1,\n",
              " 'B-3016': 1,\n",
              " 'B-1646': 1,\n",
              " 'B-593': 1,\n",
              " 'B-785': 1,\n",
              " 'B-1767': 1,\n",
              " 'B-3252': 1,\n",
              " 'B-2930': 1,\n",
              " 'B-309': 1,\n",
              " 'B-432': 1,\n",
              " 'B-1289': 1,\n",
              " 'B-2638': 1,\n",
              " 'B-107': 1,\n",
              " 'B-882': 1,\n",
              " 'B-884': 1,\n",
              " 'B-2630': 1,\n",
              " 'B-1045': 1,\n",
              " 'B-1650': 1,\n",
              " 'B-1086': 1,\n",
              " 'B-430': 1,\n",
              " 'B-2737': 1,\n",
              " 'B-2086': 1,\n",
              " 'B-253': 1,\n",
              " 'B-1783': 1,\n",
              " 'B-255': 1,\n",
              " 'B-1105': 1,\n",
              " 'B-1516': 1,\n",
              " 'B-588': 1,\n",
              " 'B-1151': 1,\n",
              " 'B-2260': 1,\n",
              " 'B-705': 1,\n",
              " 'B-1754': 1,\n",
              " 'B-544': 1,\n",
              " 'B-1461': 1,\n",
              " 'B-2426': 1,\n",
              " 'B-3200': 1,\n",
              " 'B-2358': 1,\n",
              " 'B-3119': 1,\n",
              " 'B-1894': 1,\n",
              " 'B-1366': 1,\n",
              " 'B-1389': 1,\n",
              " 'B-1334': 1,\n",
              " 'B-205': 1,\n",
              " 'B-274': 1,\n",
              " 'B-242': 1,\n",
              " 'B-1610': 1,\n",
              " 'B-2824': 1,\n",
              " 'B-2395': 1,\n",
              " 'B-1252': 1,\n",
              " 'B-1217': 1,\n",
              " 'B-1674': 1,\n",
              " 'B-1008': 1,\n",
              " 'B-144': 1,\n",
              " 'B-3056': 1,\n",
              " 'B-560': 1,\n",
              " 'B-49': 1,\n",
              " 'B-2103': 1,\n",
              " 'B-1808': 1,\n",
              " 'B-680': 1,\n",
              " 'B-1816': 1,\n",
              " 'B-768': 1,\n",
              " 'B-1225': 1,\n",
              " 'B-1333': 1,\n",
              " 'B-98': 1,\n",
              " 'B-3014': 1,\n",
              " 'B-9': 1,\n",
              " 'B-127': 1,\n",
              " 'B-805': 1,\n",
              " 'B-3083': 1,\n",
              " 'B-586': 1,\n",
              " 'B-1211': 1,\n",
              " 'B-3340': 1,\n",
              " 'B-2700': 1,\n",
              " 'B-2752': 1,\n",
              " 'B-303': 1,\n",
              " 'B-1815': 1,\n",
              " 'B-1703': 1,\n",
              " 'B-1736': 1,\n",
              " 'B-338': 1,\n",
              " 'B-443': 1,\n",
              " 'B-23': 1,\n",
              " 'B-2439': 1,\n",
              " 'B-2305': 1,\n",
              " 'B-2643': 1,\n",
              " 'B-1970': 1,\n",
              " 'B-1470': 1,\n",
              " 'B-1345': 1,\n",
              " 'B-3000': 1,\n",
              " 'B-697': 1,\n",
              " 'B-1700': 1,\n",
              " 'B-2699': 1,\n",
              " 'B-1278': 1,\n",
              " 'B-980': 1,\n",
              " 'B-3130': 1,\n",
              " 'B-3317': 1,\n",
              " 'B-2236': 1,\n",
              " 'B-773': 1,\n",
              " 'B-1451': 1,\n",
              " 'B-1647': 1,\n",
              " 'B-1811': 1,\n",
              " 'B-258': 1,\n",
              " 'B-2567': 1,\n",
              " 'B-482': 1,\n",
              " 'B-2657': 1,\n",
              " 'B-1487': 1,\n",
              " 'B-2580': 1,\n",
              " 'B-1017': 1,\n",
              " 'B-142': 1,\n",
              " 'B-552': 1,\n",
              " 'B-970': 1,\n",
              " 'B-896': 1,\n",
              " 'B-672': 1,\n",
              " 'B-221': 1,\n",
              " 'B-1485': 1,\n",
              " 'B-206': 1,\n",
              " 'B-2121': 1,\n",
              " 'B-1279': 1,\n",
              " 'B-1089': 1,\n",
              " 'B-1402': 1,\n",
              " 'B-798': 1,\n",
              " 'B-684': 1,\n",
              " 'B-1420': 1,\n",
              " 'B-3033': 1,\n",
              " 'B-3152': 1,\n",
              " 'B-1805': 1,\n",
              " 'B-3259': 1,\n",
              " 'B-2271': 1,\n",
              " 'B-1841': 1,\n",
              " 'B-362': 1,\n",
              " 'B-3139': 1,\n",
              " 'B-97': 1,\n",
              " 'B-1051': 1,\n",
              " 'B-2168': 1,\n",
              " 'B-468': 1,\n",
              " 'B-1207': 1,\n",
              " 'B-906': 1,\n",
              " 'B-1925': 1,\n",
              " 'B-1110': 1,\n",
              " 'B-2787': 1,\n",
              " 'B-2977': 1,\n",
              " 'B-3211': 1,\n",
              " 'B-249': 1,\n",
              " 'B-2714': 1,\n",
              " 'B-977': 1,\n",
              " 'B-3079': 1,\n",
              " 'B-1462': 1,\n",
              " 'B-170': 1,\n",
              " 'B-2074': 1,\n",
              " 'B-960': 1,\n",
              " 'B-799': 1,\n",
              " 'B-2119': 1,\n",
              " 'B-2806': 1,\n",
              " 'B-1536': 1,\n",
              " 'B-772': 1,\n",
              " 'B-537': 1,\n",
              " 'B-2709': 1,\n",
              " 'B-3295': 1,\n",
              " 'B-746': 1,\n",
              " 'B-339': 1,\n",
              " 'B-573': 1,\n",
              " 'B-1365': 1,\n",
              " 'B-2186': 1,\n",
              " 'B-2959': 1,\n",
              " 'B-3194': 1,\n",
              " 'B-1027': 1,\n",
              " 'B-3339': 1,\n",
              " 'B-2797': 1,\n",
              " 'B-2541': 1,\n",
              " 'B-2185': 1,\n",
              " 'B-835': 1,\n",
              " 'B-2770': 1,\n",
              " 'B-2068': 1,\n",
              " 'B-3271': 1,\n",
              " 'B-911': 1,\n",
              " 'B-1310': 1,\n",
              " 'B-2766': 1,\n",
              " 'B-1525': 1,\n",
              " 'B-143': 1,\n",
              " 'B-1853': 1,\n",
              " 'B-1920': 1,\n",
              " 'B-1118': 1,\n",
              " 'B-1353': 1,\n",
              " 'B-2453': 1,\n",
              " 'B-2390': 1,\n",
              " 'B-2139': 1,\n",
              " 'B-651': 1,\n",
              " 'B-1748': 1,\n",
              " 'B-2330': 1,\n",
              " 'B-2077': 1,\n",
              " 'B-2698': 1,\n",
              " 'B-1109': 1,\n",
              " 'B-2331': 1,\n",
              " 'B-2375': 1,\n",
              " 'B-66': 1,\n",
              " 'B-2761': 1,\n",
              " 'B-2546': 1,\n",
              " 'B-2577': 1,\n",
              " 'B-1685': 1,\n",
              " 'B-3335': 1,\n",
              " 'B-1180': 1,\n",
              " 'B-2591': 1,\n",
              " 'B-590': 1,\n",
              " 'B-1009': 1,\n",
              " 'B-788': 1,\n",
              " 'B-2097': 1,\n",
              " 'B-78': 1,\n",
              " 'B-452': 1,\n",
              " 'B-1798': 1,\n",
              " 'B-27': 1,\n",
              " 'B-3105': 1,\n",
              " 'B-2320': 1,\n",
              " 'B-1593': 1,\n",
              " 'B-174': 1,\n",
              " 'B-1859': 1,\n",
              " 'B-1157': 1,\n",
              " 'B-1160': 1,\n",
              " 'B-1295': 1,\n",
              " 'B-2316': 1,\n",
              " 'B-1561': 1,\n",
              " 'B-2019': 1,\n",
              " 'B-2394': 1,\n",
              " 'B-1055': 1,\n",
              " 'B-2902': 1,\n",
              " 'B-639': 1,\n",
              " 'B-459': 1,\n",
              " 'B-148': 1,\n",
              " 'B-1979': 1,\n",
              " 'B-1912': 1,\n",
              " 'B-2901': 1,\n",
              " 'B-2300': 1,\n",
              " 'B-3171': 1,\n",
              " 'B-3285': 1,\n",
              " 'B-1321': 1,\n",
              " 'B-1115': 1,\n",
              " 'B-742': 1,\n",
              " 'B-1749': 1,\n",
              " 'B-736': 1,\n",
              " 'B-1120': 1,\n",
              " 'B-1627': 1,\n",
              " 'B-2968': 1,\n",
              " 'B-3086': 1,\n",
              " 'B-1331': 1,\n",
              " 'B-1265': 1,\n",
              " 'B-2847': 1,\n",
              " 'B-1739': 1,\n",
              " 'B-2085': 1,\n",
              " 'B-959': 1,\n",
              " 'B-974': 1,\n",
              " 'B-3115': 1,\n",
              " 'B-2667': 1,\n",
              " 'B-1288': 1,\n",
              " 'B-3208': 1,\n",
              " 'B-2982': 1,\n",
              " 'B-755': 1,\n",
              " 'B-2312': 1,\n",
              " 'B-3350': 1,\n",
              " 'B-2845': 1,\n",
              " 'B-3138': 1,\n",
              " 'B-238': 1,\n",
              " 'B-505': 1,\n",
              " 'B-2475': 1,\n",
              " 'B-1866': 1,\n",
              " 'B-1699': 1,\n",
              " 'B-1039': 1,\n",
              " 'B-384': 1,\n",
              " 'B-2764': 1,\n",
              " 'B-1030': 1,\n",
              " 'B-1880': 1,\n",
              " 'B-1527': 1,\n",
              " 'B-11': 1,\n",
              " 'B-2512': 1,\n",
              " 'B-1346': 1,\n",
              " 'B-2613': 1,\n",
              " 'B-2870': 1,\n",
              " 'B-1080': 1,\n",
              " 'B-3167': 1,\n",
              " 'B-1770': 1,\n",
              " 'B-1302': 1,\n",
              " 'B-2222': 1,\n",
              " 'B-408': 1,\n",
              " 'B-289': 1,\n",
              " 'B-546': 1,\n",
              " 'B-953': 1,\n",
              " 'B-2666': 1,\n",
              " 'B-2059': 1,\n",
              " 'B-3142': 1,\n",
              " 'B-113': 1,\n",
              " 'B-927': 1,\n",
              " 'B-1801': 1,\n",
              " 'B-379': 1,\n",
              " 'B-1384': 1,\n",
              " 'B-1082': 1,\n",
              " 'B-294': 1,\n",
              " 'B-2632': 1,\n",
              " 'B-93': 1,\n",
              " 'B-1081': 1,\n",
              " 'B-847': 1,\n",
              " 'B-2238': 1,\n",
              " 'B-1518': 1,\n",
              " 'B-1287': 1,\n",
              " 'B-921': 1,\n",
              " 'B-1664': 1,\n",
              " 'B-1432': 1,\n",
              " 'B-1409': 1,\n",
              " 'B-2690': 1,\n",
              " 'B-3036': 1,\n",
              " 'B-1280': 1,\n",
              " 'B-1574': 1,\n",
              " 'B-2555': 1,\n",
              " 'B-2669': 1,\n",
              " 'B-2015': 1,\n",
              " 'B-375': 1,\n",
              " 'B-2224': 1,\n",
              " 'B-872': 1,\n",
              " 'B-815': 1,\n",
              " 'B-374': 1,\n",
              " 'B-2356': 1,\n",
              " 'B-2948': 1,\n",
              " 'B-1729': 1,\n",
              " 'B-1533': 1,\n",
              " 'B-72': 1,\n",
              " 'B-894': 1,\n",
              " 'B-668': 1,\n",
              " 'B-1271': 1,\n",
              " 'B-2448': 1,\n",
              " 'B-857': 1,\n",
              " 'B-570': 1,\n",
              " 'B-1427': 1,\n",
              " 'B-938': 1,\n",
              " 'B-293': 1,\n",
              " 'B-2440': 1,\n",
              " 'B-2563': 1,\n",
              " 'B-3095': 1,\n",
              " 'B-16': 1,\n",
              " 'B-2933': 1,\n",
              " 'B-1316': 1,\n",
              " 'B-2144': 1,\n",
              " 'B-519': 1,\n",
              " 'B-3076': 1,\n",
              " 'B-707': 1,\n",
              " 'B-2940': 1,\n",
              " 'B-698': 1,\n",
              " 'B-1737': 1,\n",
              " 'B-907': 1,\n",
              " 'B-842': 1,\n",
              " 'B-1326': 1,\n",
              " 'B-2245': 1,\n",
              " 'B-3329': 1,\n",
              " 'B-3281': 1,\n",
              " 'B-3013': 1,\n",
              " 'B-1303': 1,\n",
              " 'B-2547': 1,\n",
              " 'B-2054': 1,\n",
              " 'B-1552': 1,\n",
              " 'B-151': 1,\n",
              " 'B-2856': 1,\n",
              " 'B-2362': 1,\n",
              " 'B-2478': 1,\n",
              " 'B-696': 1,\n",
              " 'B-68': 1,\n",
              " 'B-1881': 1,\n",
              " 'B-2753': 1,\n",
              " 'B-1113': 1,\n",
              " 'B-2303': 1,\n",
              " 'B-2056': 1,\n",
              " 'B-2626': 1,\n",
              " 'B-269': 1,\n",
              " 'B-285': 1,\n",
              " 'B-1883': 1,\n",
              " 'B-1924': 1,\n",
              " 'B-1496': 1,\n",
              " 'B-479': 1,\n",
              " 'B-1680': 1,\n",
              " 'B-933': 1,\n",
              " 'B-1622': 1,\n",
              " 'B-2517': 1,\n",
              " 'B-844': 1,\n",
              " 'B-2599': 1,\n",
              " 'B-3108': 1,\n",
              " 'B-2904': 1,\n",
              " 'B-932': 1,\n",
              " ...}"
            ]
          },
          "metadata": {
            "tags": []
          },
          "execution_count": 490
        }
      ]
    },
    {
      "cell_type": "code",
      "metadata": {
        "id": "nn1CnDYOxNDY",
        "colab_type": "code",
        "colab": {},
        "outputId": "0d3acc74-fd4d-40dd-b13a-f50fe2bb95e3"
      },
      "source": [
        "plt.figure(figsize=(11,8))\n",
        "sns.countplot(df_train['Item_Category'])\n",
        "plt.xticks(rotation =90)\n",
        "plt.show()"
      ],
      "execution_count": 0,
      "outputs": [
        {
          "output_type": "display_data",
          "data": {
            "image/png": "[encoded data removed]",
            "text/plain": [
              "<Figure size 792x576 with 1 Axes>"
            ]
          },
          "metadata": {
            "tags": []
          }
        }
      ]
    },
    {
      "cell_type": "code",
      "metadata": {
        "id": "WHrXfX4VxNDe",
        "colab_type": "code",
        "colab": {},
        "outputId": "cb5ca63f-bb3a-4289-ece6-96e245fe6766"
      },
      "source": [
        "plt.figure(figsize=(11,8))\n",
        "sns.lineplot(x='Product_Brand',y='Selling_Price',data=df_train)\n",
        "plt.xticks(rotation =90)\n",
        "plt.show()"
      ],
      "execution_count": 0,
      "outputs": [
        {
          "output_type": "display_data",
          "data": {
            "image/png": "[encoded data removed]",
            "text/plain": [
              "<Figure size 792x576 with 1 Axes>"
            ]
          },
          "metadata": {
            "tags": []
          }
        }
      ]
    },
    {
      "cell_type": "code",
      "metadata": {
        "id": "9Rou-aJTxNDp",
        "colab_type": "code",
        "colab": {
          "base_uri": "https://localhost:8080/",
          "height": 102
        },
        "outputId": "a43c0415-50ae-43f4-90ee-d54b80dd2816"
      },
      "source": [
        "for col in df_train.columns:\n",
        "    if df_train[col].dtypes == 'O':\n",
        "        print(f'{col} : unique values : {df_train[col].nunique()}')"
      ],
      "execution_count": 13,
      "outputs": [
        {
          "output_type": "stream",
          "text": [
            "Product : unique values : 2452\n",
            "Product_Brand : unique values : 1010\n",
            "Item_Category : unique values : 75\n",
            "Subcategory_1 : unique values : 130\n",
            "Subcategory_2 : unique values : 336\n"
          ],
          "name": "stdout"
        }
      ]
    },
    {
      "cell_type": "code",
      "metadata": {
        "id": "KSMd9q148Stb",
        "colab_type": "code",
        "colab": {
          "base_uri": "https://localhost:8080/",
          "height": 102
        },
        "outputId": "ac7fdbe8-8d46-4f6b-ec9f-aebb263e84da"
      },
      "source": [
        "for col in df_test.columns:\n",
        "    if df_test[col].dtypes == 'O':\n",
        "        print(f'{col} : unique values : {df_test[col].nunique()}')"
      ],
      "execution_count": 14,
      "outputs": [
        {
          "output_type": "stream",
          "text": [
            "Product : unique values : 1051\n",
            "Product_Brand : unique values : 494\n",
            "Item_Category : unique values : 47\n",
            "Subcategory_1 : unique values : 93\n",
            "Subcategory_2 : unique values : 194\n"
          ],
          "name": "stdout"
        }
      ]
    },
    {
      "cell_type": "markdown",
      "metadata": {
        "id": "W4zQaGdW8gap",
        "colab_type": "text"
      },
      "source": [
        "# Compare train and test data"
      ]
    },
    {
      "cell_type": "code",
      "metadata": {
        "id": "X2AHHHTqxNEP",
        "colab_type": "code",
        "colab": {}
      },
      "source": [
        "test_not_train = [ col for col in df_test['Product_Brand'].unique() if col not in df_train['Product_Brand'].unique()]"
      ],
      "execution_count": 0,
      "outputs": []
    },
    {
      "cell_type": "code",
      "metadata": {
        "id": "gC5RpQjmxNEW",
        "colab_type": "code",
        "colab": {
          "base_uri": "https://localhost:8080/",
          "height": 34
        },
        "outputId": "4d0cf9dc-230a-4a02-b349-1e2d7750485d"
      },
      "source": [
        "len(test_not_train) ## 303 brand new in test"
      ],
      "execution_count": 16,
      "outputs": [
        {
          "output_type": "execute_result",
          "data": {
            "text/plain": [
              "303"
            ]
          },
          "metadata": {
            "tags": []
          },
          "execution_count": 16
        }
      ]
    },
    {
      "cell_type": "code",
      "metadata": {
        "id": "fCiLTnd8xNEb",
        "colab_type": "code",
        "colab": {
          "base_uri": "https://localhost:8080/",
          "height": 34
        },
        "outputId": "8a8f14f1-834b-4f9c-cc41-38d525496958"
      },
      "source": [
        "test_not_train_item = [ col for col in df_test['Item_Category'].unique() if col not in df_train['Item_Category'].unique()]\n",
        "print(len(test_not_train_item)) ## 20 categories new in test"
      ],
      "execution_count": 20,
      "outputs": [
        {
          "output_type": "stream",
          "text": [
            "20\n"
          ],
          "name": "stdout"
        }
      ]
    },
    {
      "cell_type": "code",
      "metadata": {
        "id": "xZnnT068xNEj",
        "colab_type": "code",
        "colab": {
          "base_uri": "https://localhost:8080/",
          "height": 34
        },
        "outputId": "d085ca02-ec1f-49b8-b935-4a08a4e0a6ff"
      },
      "source": [
        "test_not_train_cat1 = [ col for col in df_test['Subcategory_1'].unique() if col not in df_train['Subcategory_1'].unique()]\n",
        "print(len(test_not_train_cat1)) ## 12 new svubcategory in test"
      ],
      "execution_count": 21,
      "outputs": [
        {
          "output_type": "stream",
          "text": [
            "12\n"
          ],
          "name": "stdout"
        }
      ]
    },
    {
      "cell_type": "code",
      "metadata": {
        "id": "MMASZ1uFxNFE",
        "colab_type": "code",
        "colab": {
          "base_uri": "https://localhost:8080/",
          "height": 34
        },
        "outputId": "2b705d01-91b0-4523-a3fa-d47f8b4d2060"
      },
      "source": [
        "test_not_train_sub2 = [ col for col in df_test['Subcategory_2'].unique() if col not in df_train['Subcategory_2'].unique()]\n",
        "print(len(test_not_train_sub2)) # 59 new sub category 2 in test"
      ],
      "execution_count": 23,
      "outputs": [
        {
          "output_type": "stream",
          "text": [
            "59\n"
          ],
          "name": "stdout"
        }
      ]
    },
    {
      "cell_type": "markdown",
      "metadata": {
        "id": "yzzX4jTExNFk",
        "colab_type": "text"
      },
      "source": [
        "#### The above observation shows that Test data has newer barnds and item categories"
      ]
    },
    {
      "cell_type": "markdown",
      "metadata": {
        "id": "aNHUCaHTxNGF",
        "colab_type": "text"
      },
      "source": [
        "## New Features"
      ]
    },
    {
      "cell_type": "code",
      "metadata": {
        "id": "xmZXnzz4xNGQ",
        "colab_type": "code",
        "colab": {}
      },
      "source": [
        "df_train['Month'] = df_train['Date'].dt.month\n"
      ],
      "execution_count": 0,
      "outputs": []
    },
    {
      "cell_type": "code",
      "metadata": {
        "id": "4prOSBp9_smX",
        "colab_type": "code",
        "colab": {}
      },
      "source": [
        "df_test['Month'] = df_test['Date'].dt.month"
      ],
      "execution_count": 0,
      "outputs": []
    },
    {
      "cell_type": "code",
      "metadata": {
        "id": "oZMSVegKlyhT",
        "colab_type": "code",
        "colab": {}
      },
      "source": [
        "df_train['Week'] = df_train['Date'].dt.week\n",
        "df_test['Week'] = df_test['Date'].dt.week"
      ],
      "execution_count": 0,
      "outputs": []
    },
    {
      "cell_type": "code",
      "metadata": {
        "id": "RC8O7f5K_8Ca",
        "colab_type": "code",
        "colab": {}
      },
      "source": [
        "df_train['Year'] = df_train['Date'].dt.year\n",
        "df_test['Year'] = df_test['Date'].dt.year"
      ],
      "execution_count": 0,
      "outputs": []
    },
    {
      "cell_type": "code",
      "metadata": {
        "id": "Etc-A8A9Ad5K",
        "colab_type": "code",
        "colab": {
          "base_uri": "https://localhost:8080/",
          "height": 309
        },
        "outputId": "1c069f1c-aeb5-41e8-ba60-4d34af8fcf3d"
      },
      "source": [
        "df_train.head()"
      ],
      "execution_count": 578,
      "outputs": [
        {
          "output_type": "execute_result",
          "data": {
            "text/html": [
              "<div>\n",
              "<style scoped>\n",
              "    .dataframe tbody tr th:only-of-type {\n",
              "        vertical-align: middle;\n",
              "    }\n",
              "\n",
              "    .dataframe tbody tr th {\n",
              "        vertical-align: top;\n",
              "    }\n",
              "\n",
              "    .dataframe thead th {\n",
              "        text-align: right;\n",
              "    }\n",
              "</style>\n",
              "<table border=\"1\" class=\"dataframe\">\n",
              "  <thead>\n",
              "    <tr style=\"text-align: right;\">\n",
              "      <th></th>\n",
              "      <th>Product</th>\n",
              "      <th>Product_Brand</th>\n",
              "      <th>Item_Category</th>\n",
              "      <th>Subcategory_1</th>\n",
              "      <th>Subcategory_2</th>\n",
              "      <th>Item_Rating</th>\n",
              "      <th>Date</th>\n",
              "      <th>Selling_Price</th>\n",
              "      <th>Month</th>\n",
              "      <th>Week</th>\n",
              "      <th>Year</th>\n",
              "    </tr>\n",
              "  </thead>\n",
              "  <tbody>\n",
              "    <tr>\n",
              "      <th>0</th>\n",
              "      <td>P-2610</td>\n",
              "      <td>B-659</td>\n",
              "      <td>bags wallets belts</td>\n",
              "      <td>bags</td>\n",
              "      <td>hand bags</td>\n",
              "      <td>4.3</td>\n",
              "      <td>2017-02-03</td>\n",
              "      <td>291.0</td>\n",
              "      <td>2</td>\n",
              "      <td>5</td>\n",
              "      <td>2017</td>\n",
              "    </tr>\n",
              "    <tr>\n",
              "      <th>1</th>\n",
              "      <td>P-2453</td>\n",
              "      <td>B-3078</td>\n",
              "      <td>clothing</td>\n",
              "      <td>women s clothing</td>\n",
              "      <td>western wear</td>\n",
              "      <td>3.1</td>\n",
              "      <td>2015-07-01</td>\n",
              "      <td>897.0</td>\n",
              "      <td>7</td>\n",
              "      <td>27</td>\n",
              "      <td>2015</td>\n",
              "    </tr>\n",
              "    <tr>\n",
              "      <th>2</th>\n",
              "      <td>P-6802</td>\n",
              "      <td>B-1810</td>\n",
              "      <td>home decor festive needs</td>\n",
              "      <td>showpieces</td>\n",
              "      <td>ethnic</td>\n",
              "      <td>3.5</td>\n",
              "      <td>2019-01-12</td>\n",
              "      <td>792.0</td>\n",
              "      <td>1</td>\n",
              "      <td>2</td>\n",
              "      <td>2019</td>\n",
              "    </tr>\n",
              "    <tr>\n",
              "      <th>3</th>\n",
              "      <td>P-4452</td>\n",
              "      <td>B-3078</td>\n",
              "      <td>beauty and personal care</td>\n",
              "      <td>eye care</td>\n",
              "      <td>h2o plus eye care</td>\n",
              "      <td>4.0</td>\n",
              "      <td>2014-12-12</td>\n",
              "      <td>837.0</td>\n",
              "      <td>12</td>\n",
              "      <td>50</td>\n",
              "      <td>2014</td>\n",
              "    </tr>\n",
              "    <tr>\n",
              "      <th>4</th>\n",
              "      <td>P-8454</td>\n",
              "      <td>B-3078</td>\n",
              "      <td>clothing</td>\n",
              "      <td>men s clothing</td>\n",
              "      <td>t shirts</td>\n",
              "      <td>4.3</td>\n",
              "      <td>2013-12-12</td>\n",
              "      <td>470.0</td>\n",
              "      <td>12</td>\n",
              "      <td>50</td>\n",
              "      <td>2013</td>\n",
              "    </tr>\n",
              "  </tbody>\n",
              "</table>\n",
              "</div>"
            ],
            "text/plain": [
              "  Product Product_Brand             Item_Category  ... Month Week  Year\n",
              "0  P-2610         B-659        bags wallets belts  ...     2    5  2017\n",
              "1  P-2453        B-3078                  clothing  ...     7   27  2015\n",
              "2  P-6802        B-1810  home decor festive needs  ...     1    2  2019\n",
              "3  P-4452        B-3078  beauty and personal care  ...    12   50  2014\n",
              "4  P-8454        B-3078                  clothing  ...    12   50  2013\n",
              "\n",
              "[5 rows x 11 columns]"
            ]
          },
          "metadata": {
            "tags": []
          },
          "execution_count": 578
        }
      ]
    },
    {
      "cell_type": "code",
      "metadata": {
        "id": "9d8qKeacAvL7",
        "colab_type": "code",
        "colab": {
          "base_uri": "https://localhost:8080/",
          "height": 843
        },
        "outputId": "12f103c1-f068-43c1-e777-a6d873cd1cdc"
      },
      "source": [
        "df_train.hist(bins='auto',figsize=(18, 22), layout=(5, 2))"
      ],
      "execution_count": 309,
      "outputs": [
        {
          "output_type": "execute_result",
          "data": {
            "text/plain": [
              "array([[<matplotlib.axes._subplots.AxesSubplot object at 0x7f09cdcc01d0>,\n",
              "        <matplotlib.axes._subplots.AxesSubplot object at 0x7f09cdc75518>],\n",
              "       [<matplotlib.axes._subplots.AxesSubplot object at 0x7f09cdbd8b70>,\n",
              "        <matplotlib.axes._subplots.AxesSubplot object at 0x7f09cdb92208>],\n",
              "       [<matplotlib.axes._subplots.AxesSubplot object at 0x7f09cdbc0860>,\n",
              "        <matplotlib.axes._subplots.AxesSubplot object at 0x7f09cdb70eb8>],\n",
              "       [<matplotlib.axes._subplots.AxesSubplot object at 0x7f09cdb29550>,\n",
              "        <matplotlib.axes._subplots.AxesSubplot object at 0x7f09cdad5b70>],\n",
              "       [<matplotlib.axes._subplots.AxesSubplot object at 0x7f09cdad5be0>,\n",
              "        <matplotlib.axes._subplots.AxesSubplot object at 0x7f09cdabe898>]],\n",
              "      dtype=object)"
            ]
          },
          "metadata": {
            "tags": []
          },
          "execution_count": 309
        },
        {
          "output_type": "display_data",
          "data": {
            "image/png": "[encoded data removed]",
            "text/plain": [
              "<Figure size 1296x1584 with 10 Axes>"
            ]
          },
          "metadata": {
            "tags": []
          }
        }
      ]
    },
    {
      "cell_type": "code",
      "metadata": {
        "id": "0XWCoOu_CVrS",
        "colab_type": "code",
        "colab": {}
      },
      "source": [
        "import warnings\n",
        "warnings.filterwarnings(\"ignore\")"
      ],
      "execution_count": 0,
      "outputs": []
    },
    {
      "cell_type": "code",
      "metadata": {
        "id": "v2e6SNoLDKf3",
        "colab_type": "code",
        "colab": {
          "base_uri": "https://localhost:8080/",
          "height": 343
        },
        "outputId": "972234e5-7d64-4acc-8b9e-b03f92104243"
      },
      "source": [
        "pip install catboost"
      ],
      "execution_count": 51,
      "outputs": [
        {
          "output_type": "stream",
          "text": [
            "Collecting catboost\n",
            "\u001b[?25l  Downloading https://files.pythonhosted.org/packages/b2/aa/e61819d04ef2bbee778bf4b3a748db1f3ad23512377e43ecfdc3211437a0/catboost-0.23.2-cp36-none-manylinux1_x86_64.whl (64.8MB)\n",
            "\u001b[K     |████████████████████████████████| 64.8MB 60kB/s \n",
            "\u001b[?25hRequirement already satisfied: graphviz in /usr/local/lib/python3.6/dist-packages (from catboost) (0.10.1)\n",
            "Requirement already satisfied: scipy in /usr/local/lib/python3.6/dist-packages (from catboost) (1.4.1)\n",
            "Requirement already satisfied: six in /usr/local/lib/python3.6/dist-packages (from catboost) (1.12.0)\n",
            "Requirement already satisfied: matplotlib in /usr/local/lib/python3.6/dist-packages (from catboost) (3.2.1)\n",
            "Requirement already satisfied: plotly in /usr/local/lib/python3.6/dist-packages (from catboost) (4.4.1)\n",
            "Requirement already satisfied: pandas>=0.24.0 in /usr/local/lib/python3.6/dist-packages (from catboost) (1.0.4)\n",
            "Requirement already satisfied: numpy>=1.16.0 in /usr/local/lib/python3.6/dist-packages (from catboost) (1.18.5)\n",
            "Requirement already satisfied: python-dateutil>=2.1 in /usr/local/lib/python3.6/dist-packages (from matplotlib->catboost) (2.8.1)\n",
            "Requirement already satisfied: kiwisolver>=1.0.1 in /usr/local/lib/python3.6/dist-packages (from matplotlib->catboost) (1.2.0)\n",
            "Requirement already satisfied: pyparsing!=2.0.4,!=2.1.2,!=2.1.6,>=2.0.1 in /usr/local/lib/python3.6/dist-packages (from matplotlib->catboost) (2.4.7)\n",
            "Requirement already satisfied: cycler>=0.10 in /usr/local/lib/python3.6/dist-packages (from matplotlib->catboost) (0.10.0)\n",
            "Requirement already satisfied: retrying>=1.3.3 in /usr/local/lib/python3.6/dist-packages (from plotly->catboost) (1.3.3)\n",
            "Requirement already satisfied: pytz>=2017.2 in /usr/local/lib/python3.6/dist-packages (from pandas>=0.24.0->catboost) (2018.9)\n",
            "Installing collected packages: catboost\n",
            "Successfully installed catboost-0.23.2\n"
          ],
          "name": "stdout"
        }
      ]
    },
    {
      "cell_type": "code",
      "metadata": {
        "id": "mrdo--MYDGYW",
        "colab_type": "code",
        "colab": {}
      },
      "source": [
        "from sklearn.model_selection import train_test_split\n",
        "from sklearn.model_selection import GridSearchCV\n",
        "from catboost import CatBoostRegressor"
      ],
      "execution_count": 0,
      "outputs": []
    },
    {
      "cell_type": "code",
      "metadata": {
        "id": "bYlmtoodFFSr",
        "colab_type": "code",
        "colab": {
          "base_uri": "https://localhost:8080/",
          "height": 309
        },
        "outputId": "7cc3f88b-1b92-4b91-e48e-9ac10168f3d9"
      },
      "source": [
        "df_train.head()"
      ],
      "execution_count": 311,
      "outputs": [
        {
          "output_type": "execute_result",
          "data": {
            "text/html": [
              "<div>\n",
              "<style scoped>\n",
              "    .dataframe tbody tr th:only-of-type {\n",
              "        vertical-align: middle;\n",
              "    }\n",
              "\n",
              "    .dataframe tbody tr th {\n",
              "        vertical-align: top;\n",
              "    }\n",
              "\n",
              "    .dataframe thead th {\n",
              "        text-align: right;\n",
              "    }\n",
              "</style>\n",
              "<table border=\"1\" class=\"dataframe\">\n",
              "  <thead>\n",
              "    <tr style=\"text-align: right;\">\n",
              "      <th></th>\n",
              "      <th>Product</th>\n",
              "      <th>Product_Brand</th>\n",
              "      <th>Item_Category</th>\n",
              "      <th>Subcategory_1</th>\n",
              "      <th>Subcategory_2</th>\n",
              "      <th>Item_Rating</th>\n",
              "      <th>Date</th>\n",
              "      <th>Selling_Price</th>\n",
              "      <th>Month</th>\n",
              "      <th>Week</th>\n",
              "      <th>Year</th>\n",
              "    </tr>\n",
              "  </thead>\n",
              "  <tbody>\n",
              "    <tr>\n",
              "      <th>0</th>\n",
              "      <td>P-2610</td>\n",
              "      <td>B-659</td>\n",
              "      <td>bags wallets belts</td>\n",
              "      <td>bags</td>\n",
              "      <td>hand bags</td>\n",
              "      <td>4.3</td>\n",
              "      <td>2017-02-03</td>\n",
              "      <td>291.0</td>\n",
              "      <td>2</td>\n",
              "      <td>5</td>\n",
              "      <td>2017</td>\n",
              "    </tr>\n",
              "    <tr>\n",
              "      <th>1</th>\n",
              "      <td>P-2453</td>\n",
              "      <td>B-3078</td>\n",
              "      <td>clothing</td>\n",
              "      <td>women s clothing</td>\n",
              "      <td>western wear</td>\n",
              "      <td>3.1</td>\n",
              "      <td>2015-07-01</td>\n",
              "      <td>897.0</td>\n",
              "      <td>7</td>\n",
              "      <td>27</td>\n",
              "      <td>2015</td>\n",
              "    </tr>\n",
              "    <tr>\n",
              "      <th>2</th>\n",
              "      <td>P-6802</td>\n",
              "      <td>B-1810</td>\n",
              "      <td>home decor festive needs</td>\n",
              "      <td>showpieces</td>\n",
              "      <td>ethnic</td>\n",
              "      <td>3.5</td>\n",
              "      <td>2019-01-12</td>\n",
              "      <td>792.0</td>\n",
              "      <td>1</td>\n",
              "      <td>2</td>\n",
              "      <td>2019</td>\n",
              "    </tr>\n",
              "    <tr>\n",
              "      <th>3</th>\n",
              "      <td>P-4452</td>\n",
              "      <td>B-3078</td>\n",
              "      <td>beauty and personal care</td>\n",
              "      <td>eye care</td>\n",
              "      <td>h2o plus eye care</td>\n",
              "      <td>4.0</td>\n",
              "      <td>2014-12-12</td>\n",
              "      <td>837.0</td>\n",
              "      <td>12</td>\n",
              "      <td>50</td>\n",
              "      <td>2014</td>\n",
              "    </tr>\n",
              "    <tr>\n",
              "      <th>4</th>\n",
              "      <td>P-8454</td>\n",
              "      <td>B-3078</td>\n",
              "      <td>clothing</td>\n",
              "      <td>men s clothing</td>\n",
              "      <td>t shirts</td>\n",
              "      <td>4.3</td>\n",
              "      <td>2013-12-12</td>\n",
              "      <td>470.0</td>\n",
              "      <td>12</td>\n",
              "      <td>50</td>\n",
              "      <td>2013</td>\n",
              "    </tr>\n",
              "  </tbody>\n",
              "</table>\n",
              "</div>"
            ],
            "text/plain": [
              "  Product Product_Brand             Item_Category  ... Month Week  Year\n",
              "0  P-2610         B-659        bags wallets belts  ...     2    5  2017\n",
              "1  P-2453        B-3078                  clothing  ...     7   27  2015\n",
              "2  P-6802        B-1810  home decor festive needs  ...     1    2  2019\n",
              "3  P-4452        B-3078  beauty and personal care  ...    12   50  2014\n",
              "4  P-8454        B-3078                  clothing  ...    12   50  2013\n",
              "\n",
              "[5 rows x 11 columns]"
            ]
          },
          "metadata": {
            "tags": []
          },
          "execution_count": 311
        }
      ]
    },
    {
      "cell_type": "code",
      "metadata": {
        "id": "FWBMAIHdX-p6",
        "colab_type": "code",
        "colab": {}
      },
      "source": [
        "df_train['cat_description'] = df_train['Subcategory_1'] + \" \"+ df_train['Subcategory_2']\n",
        "df_test['cat_description'] = df_test['Subcategory_1'] + \" \"+ df_test['Subcategory_2']"
      ],
      "execution_count": 0,
      "outputs": []
    },
    {
      "cell_type": "code",
      "metadata": {
        "id": "AWzN1LqgxBpo",
        "colab_type": "code",
        "colab": {}
      },
      "source": [
        "from sklearn.feature_extraction.text import TfidfVectorizer\n",
        "tfidf_vectorizer = TfidfVectorizer(max_df=0.90,min_df=0,max_features=20,stop_words=stop_words)\n",
        "tfidf_vectorizer.fit(df_train['cat_description'])\n",
        "tfidf_train = tfidf_vectorizer.transform(df_train['cat_description'])\n",
        "tfidf_test = tfidf_vectorizer.transform(df_test['cat_description'])\n",
        "tfidf_train_df = pd.DataFrame(tfidf_train.toarray(),columns=tfidf_vectorizer.get_feature_names())\n",
        "tfidf_test_df = pd.DataFrame(tfidf_test.toarray(),columns=tfidf_vectorizer.get_feature_names())"
      ],
      "execution_count": 0,
      "outputs": []
    },
    {
      "cell_type": "code",
      "metadata": {
        "id": "8abuKxgpxoPG",
        "colab_type": "code",
        "colab": {}
      },
      "source": [
        ""
      ],
      "execution_count": 0,
      "outputs": []
    },
    {
      "cell_type": "code",
      "metadata": {
        "id": "I9PeTo-ydqLD",
        "colab_type": "code",
        "colab": {}
      },
      "source": [
        "new_df = pd.concat([df_train[['Item_Category']],df_test[['Item_Category']]])\n",
        "\n",
        "\n",
        "cv_model_info = TfidfVectorizer(max_features=200,ngram_range=(1,1))\n",
        "\n",
        "cv_model_info.fit(new_df['Item_Category'])\n",
        "\n",
        "\n",
        "word_dict = dict(cv_model_info.vocabulary_)"
      ],
      "execution_count": 0,
      "outputs": []
    },
    {
      "cell_type": "code",
      "metadata": {
        "id": "fmA-ga9jta2c",
        "colab_type": "code",
        "colab": {}
      },
      "source": [
        "def return_category_encoded(text):\n",
        "    for word in text.split(' '):\n",
        "        if word in word_dict.keys():\n",
        "            return word_dict[word]\n",
        "    return -1"
      ],
      "execution_count": 0,
      "outputs": []
    },
    {
      "cell_type": "code",
      "metadata": {
        "id": "k_Y5i-ldts_R",
        "colab_type": "code",
        "colab": {}
      },
      "source": [
        "df_train['Category_Encoded'] = df_train['Item_Category'].apply(return_category_encoded)\n",
        "df_test['Category_Encoded'] = df_test['Item_Category'].apply(return_category_encoded)"
      ],
      "execution_count": 0,
      "outputs": []
    },
    {
      "cell_type": "code",
      "metadata": {
        "id": "zfEHJKwyt4bW",
        "colab_type": "code",
        "colab": {
          "base_uri": "https://localhost:8080/",
          "height": 318
        },
        "outputId": "6d8f186b-f124-4f96-9d06-880506557314"
      },
      "source": [
        "sns.countplot(df_train['Category_Encoded'])"
      ],
      "execution_count": 571,
      "outputs": [
        {
          "output_type": "execute_result",
          "data": {
            "text/plain": [
              "<matplotlib.axes._subplots.AxesSubplot at 0x7f09c9551198>"
            ]
          },
          "metadata": {
            "tags": []
          },
          "execution_count": 571
        },
        {
          "output_type": "display_data",
          "data": {
            "image/png": "[encoded data removed]",
            "text/plain": [
              "<Figure size 432x288 with 1 Axes>"
            ]
          },
          "metadata": {
            "tags": []
          }
        }
      ]
    },
    {
      "cell_type": "code",
      "metadata": {
        "id": "UyBneQYXuC6G",
        "colab_type": "code",
        "colab": {}
      },
      "source": [
        "category_encoded_mapper = df_train.groupby('Category_Encoded')['Selling_Price'].median().to_dict()\n",
        "\n",
        "df_train['Category_Wise_Selling_Price'] = df_train['Category_Encoded'].map(category_encoded_mapper)\n",
        "df_test['Category_Wise_Selling_Price'] = df_test['Category_Encoded'].map(category_encoded_mapper)"
      ],
      "execution_count": 0,
      "outputs": []
    },
    {
      "cell_type": "code",
      "metadata": {
        "id": "d8jJ9R70FEjk",
        "colab_type": "code",
        "colab": {
          "base_uri": "https://localhost:8080/",
          "height": 318
        },
        "outputId": "d21e1425-eb85-416f-af9f-fda38d117970"
      },
      "source": [
        "sns.countplot(df_train['Year'])"
      ],
      "execution_count": 54,
      "outputs": [
        {
          "output_type": "execute_result",
          "data": {
            "text/plain": [
              "<matplotlib.axes._subplots.AxesSubplot at 0x7f09de082048>"
            ]
          },
          "metadata": {
            "tags": []
          },
          "execution_count": 54
        },
        {
          "output_type": "display_data",
          "data": {
            "image/png": "[encoded data removed]",
            "text/plain": [
              "<Figure size 432x288 with 1 Axes>"
            ]
          },
          "metadata": {
            "tags": []
          }
        }
      ]
    },
    {
      "cell_type": "code",
      "metadata": {
        "id": "BJardBbSe9tJ",
        "colab_type": "code",
        "colab": {}
      },
      "source": [
        "df_train['Item_encoded'] = pd.factorize(df_train['Item_Category'])[0].tolist()\n",
        "df_test['Item_encoded'] = pd.factorize(df_test['Item_Category'])[0].tolist()"
      ],
      "execution_count": 0,
      "outputs": []
    },
    {
      "cell_type": "code",
      "metadata": {
        "id": "-tRYThpsfP-c",
        "colab_type": "code",
        "colab": {
          "base_uri": "https://localhost:8080/",
          "height": 309
        },
        "outputId": "eb3bcb51-1690-4a8b-b41c-5c3b9b8118a7"
      },
      "source": [
        "df_train.head()"
      ],
      "execution_count": 585,
      "outputs": [
        {
          "output_type": "execute_result",
          "data": {
            "text/html": [
              "<div>\n",
              "<style scoped>\n",
              "    .dataframe tbody tr th:only-of-type {\n",
              "        vertical-align: middle;\n",
              "    }\n",
              "\n",
              "    .dataframe tbody tr th {\n",
              "        vertical-align: top;\n",
              "    }\n",
              "\n",
              "    .dataframe thead th {\n",
              "        text-align: right;\n",
              "    }\n",
              "</style>\n",
              "<table border=\"1\" class=\"dataframe\">\n",
              "  <thead>\n",
              "    <tr style=\"text-align: right;\">\n",
              "      <th></th>\n",
              "      <th>Product</th>\n",
              "      <th>Product_Brand</th>\n",
              "      <th>Item_Category</th>\n",
              "      <th>Subcategory_1</th>\n",
              "      <th>Subcategory_2</th>\n",
              "      <th>Item_Rating</th>\n",
              "      <th>Date</th>\n",
              "      <th>Selling_Price</th>\n",
              "      <th>Month</th>\n",
              "      <th>Week</th>\n",
              "      <th>Year</th>\n",
              "      <th>cat_description</th>\n",
              "      <th>Category_Encoded</th>\n",
              "      <th>Category_Wise_Selling_Price</th>\n",
              "      <th>Item_encoded</th>\n",
              "    </tr>\n",
              "  </thead>\n",
              "  <tbody>\n",
              "    <tr>\n",
              "      <th>0</th>\n",
              "      <td>P-2610</td>\n",
              "      <td>B-659</td>\n",
              "      <td>bags wallets belts</td>\n",
              "      <td>bags</td>\n",
              "      <td>hand bags</td>\n",
              "      <td>4.3</td>\n",
              "      <td>2017-02-03</td>\n",
              "      <td>291.0</td>\n",
              "      <td>2</td>\n",
              "      <td>5</td>\n",
              "      <td>2017</td>\n",
              "      <td>bags hand bags</td>\n",
              "      <td>9</td>\n",
              "      <td>775.0</td>\n",
              "      <td>0</td>\n",
              "    </tr>\n",
              "    <tr>\n",
              "      <th>1</th>\n",
              "      <td>P-2453</td>\n",
              "      <td>B-3078</td>\n",
              "      <td>clothing</td>\n",
              "      <td>women s clothing</td>\n",
              "      <td>western wear</td>\n",
              "      <td>3.1</td>\n",
              "      <td>2015-07-01</td>\n",
              "      <td>897.0</td>\n",
              "      <td>7</td>\n",
              "      <td>27</td>\n",
              "      <td>2015</td>\n",
              "      <td>women s clothing western wear</td>\n",
              "      <td>46</td>\n",
              "      <td>540.0</td>\n",
              "      <td>1</td>\n",
              "    </tr>\n",
              "    <tr>\n",
              "      <th>2</th>\n",
              "      <td>P-6802</td>\n",
              "      <td>B-1810</td>\n",
              "      <td>home decor festive needs</td>\n",
              "      <td>showpieces</td>\n",
              "      <td>ethnic</td>\n",
              "      <td>3.5</td>\n",
              "      <td>2019-01-12</td>\n",
              "      <td>792.0</td>\n",
              "      <td>1</td>\n",
              "      <td>2</td>\n",
              "      <td>2019</td>\n",
              "      <td>showpieces ethnic</td>\n",
              "      <td>72</td>\n",
              "      <td>784.0</td>\n",
              "      <td>2</td>\n",
              "    </tr>\n",
              "    <tr>\n",
              "      <th>3</th>\n",
              "      <td>P-4452</td>\n",
              "      <td>B-3078</td>\n",
              "      <td>beauty and personal care</td>\n",
              "      <td>eye care</td>\n",
              "      <td>h2o plus eye care</td>\n",
              "      <td>4.0</td>\n",
              "      <td>2014-12-12</td>\n",
              "      <td>837.0</td>\n",
              "      <td>12</td>\n",
              "      <td>50</td>\n",
              "      <td>2014</td>\n",
              "      <td>eye care h2o plus eye care</td>\n",
              "      <td>13</td>\n",
              "      <td>349.5</td>\n",
              "      <td>3</td>\n",
              "    </tr>\n",
              "    <tr>\n",
              "      <th>4</th>\n",
              "      <td>P-8454</td>\n",
              "      <td>B-3078</td>\n",
              "      <td>clothing</td>\n",
              "      <td>men s clothing</td>\n",
              "      <td>t shirts</td>\n",
              "      <td>4.3</td>\n",
              "      <td>2013-12-12</td>\n",
              "      <td>470.0</td>\n",
              "      <td>12</td>\n",
              "      <td>50</td>\n",
              "      <td>2013</td>\n",
              "      <td>men s clothing t shirts</td>\n",
              "      <td>46</td>\n",
              "      <td>540.0</td>\n",
              "      <td>1</td>\n",
              "    </tr>\n",
              "  </tbody>\n",
              "</table>\n",
              "</div>"
            ],
            "text/plain": [
              "  Product Product_Brand  ... Category_Wise_Selling_Price Item_encoded\n",
              "0  P-2610         B-659  ...                       775.0            0\n",
              "1  P-2453        B-3078  ...                       540.0            1\n",
              "2  P-6802        B-1810  ...                       784.0            2\n",
              "3  P-4452        B-3078  ...                       349.5            3\n",
              "4  P-8454        B-3078  ...                       540.0            1\n",
              "\n",
              "[5 rows x 15 columns]"
            ]
          },
          "metadata": {
            "tags": []
          },
          "execution_count": 585
        }
      ]
    },
    {
      "cell_type": "code",
      "metadata": {
        "id": "reQtEnUUfvD1",
        "colab_type": "code",
        "colab": {}
      },
      "source": [
        "## Mapper\n",
        "item_cat_map = df_train.groupby('Item_encoded')['Selling_Price'].mean().to_dict()\n"
      ],
      "execution_count": 0,
      "outputs": []
    },
    {
      "cell_type": "code",
      "metadata": {
        "id": "en0XA5Z5gTDq",
        "colab_type": "code",
        "colab": {}
      },
      "source": [
        "df_train['Avg_item_sp'] = df_train['Item_encoded'].map(item_cat_map)\n",
        "df_test['Avg_item_sp'] = df_test['Item_encoded'].map(item_cat_map)\n"
      ],
      "execution_count": 0,
      "outputs": []
    },
    {
      "cell_type": "code",
      "metadata": {
        "id": "HKiEk3E5g43K",
        "colab_type": "code",
        "colab": {
          "base_uri": "https://localhost:8080/",
          "height": 34
        },
        "outputId": "0618024a-bf5c-4b79-b0b0-f83b71a56545"
      },
      "source": [
        "df_train.isnull().sum()[df_train.isnull().sum() > 0]"
      ],
      "execution_count": 588,
      "outputs": [
        {
          "output_type": "execute_result",
          "data": {
            "text/plain": [
              "Series([], dtype: int64)"
            ]
          },
          "metadata": {
            "tags": []
          },
          "execution_count": 588
        }
      ]
    },
    {
      "cell_type": "code",
      "metadata": {
        "id": "IlSeNFHhhIfC",
        "colab_type": "code",
        "colab": {
          "base_uri": "https://localhost:8080/",
          "height": 51
        },
        "outputId": "08128118-63a0-4442-8df2-f7bf3585c24e"
      },
      "source": [
        "df_test.isnull().sum()[df_test.isnull().sum() > 0]"
      ],
      "execution_count": 589,
      "outputs": [
        {
          "output_type": "execute_result",
          "data": {
            "text/plain": [
              "Category_Wise_Selling_Price    13\n",
              "dtype: int64"
            ]
          },
          "metadata": {
            "tags": []
          },
          "execution_count": 589
        }
      ]
    },
    {
      "cell_type": "code",
      "metadata": {
        "id": "2Vr-ximaglV0",
        "colab_type": "code",
        "colab": {}
      },
      "source": [
        "#filna\n",
        "df_test['Avg_item_sp'] = df_test['Avg_item_sp'].fillna(df_test['Avg_item_sp'].median())\n",
        "df_test['Category_Wise_Selling_Price'] = df_test['Category_Wise_Selling_Price'].fillna(df_test['Category_Wise_Selling_Price'].median())"
      ],
      "execution_count": 0,
      "outputs": []
    },
    {
      "cell_type": "code",
      "metadata": {
        "id": "G_2hfX-0hVYc",
        "colab_type": "code",
        "colab": {
          "base_uri": "https://localhost:8080/",
          "height": 309
        },
        "outputId": "174b0a60-61ca-463b-cad6-e5e7dab3302a"
      },
      "source": [
        "df_train.head()"
      ],
      "execution_count": 592,
      "outputs": [
        {
          "output_type": "execute_result",
          "data": {
            "text/html": [
              "<div>\n",
              "<style scoped>\n",
              "    .dataframe tbody tr th:only-of-type {\n",
              "        vertical-align: middle;\n",
              "    }\n",
              "\n",
              "    .dataframe tbody tr th {\n",
              "        vertical-align: top;\n",
              "    }\n",
              "\n",
              "    .dataframe thead th {\n",
              "        text-align: right;\n",
              "    }\n",
              "</style>\n",
              "<table border=\"1\" class=\"dataframe\">\n",
              "  <thead>\n",
              "    <tr style=\"text-align: right;\">\n",
              "      <th></th>\n",
              "      <th>Product</th>\n",
              "      <th>Product_Brand</th>\n",
              "      <th>Item_Category</th>\n",
              "      <th>Subcategory_1</th>\n",
              "      <th>Subcategory_2</th>\n",
              "      <th>Item_Rating</th>\n",
              "      <th>Date</th>\n",
              "      <th>Selling_Price</th>\n",
              "      <th>Month</th>\n",
              "      <th>Week</th>\n",
              "      <th>Year</th>\n",
              "      <th>cat_description</th>\n",
              "      <th>Category_Encoded</th>\n",
              "      <th>Category_Wise_Selling_Price</th>\n",
              "      <th>Item_encoded</th>\n",
              "      <th>Avg_item_sp</th>\n",
              "    </tr>\n",
              "  </thead>\n",
              "  <tbody>\n",
              "    <tr>\n",
              "      <th>0</th>\n",
              "      <td>P-2610</td>\n",
              "      <td>B-659</td>\n",
              "      <td>bags wallets belts</td>\n",
              "      <td>bags</td>\n",
              "      <td>hand bags</td>\n",
              "      <td>4.3</td>\n",
              "      <td>2017-02-03</td>\n",
              "      <td>291.0</td>\n",
              "      <td>2</td>\n",
              "      <td>5</td>\n",
              "      <td>2017</td>\n",
              "      <td>bags hand bags</td>\n",
              "      <td>9</td>\n",
              "      <td>775.0</td>\n",
              "      <td>0</td>\n",
              "      <td>1777.842105</td>\n",
              "    </tr>\n",
              "    <tr>\n",
              "      <th>1</th>\n",
              "      <td>P-2453</td>\n",
              "      <td>B-3078</td>\n",
              "      <td>clothing</td>\n",
              "      <td>women s clothing</td>\n",
              "      <td>western wear</td>\n",
              "      <td>3.1</td>\n",
              "      <td>2015-07-01</td>\n",
              "      <td>897.0</td>\n",
              "      <td>7</td>\n",
              "      <td>27</td>\n",
              "      <td>2015</td>\n",
              "      <td>women s clothing western wear</td>\n",
              "      <td>46</td>\n",
              "      <td>540.0</td>\n",
              "      <td>1</td>\n",
              "      <td>701.516039</td>\n",
              "    </tr>\n",
              "    <tr>\n",
              "      <th>2</th>\n",
              "      <td>P-6802</td>\n",
              "      <td>B-1810</td>\n",
              "      <td>home decor festive needs</td>\n",
              "      <td>showpieces</td>\n",
              "      <td>ethnic</td>\n",
              "      <td>3.5</td>\n",
              "      <td>2019-01-12</td>\n",
              "      <td>792.0</td>\n",
              "      <td>1</td>\n",
              "      <td>2</td>\n",
              "      <td>2019</td>\n",
              "      <td>showpieces ethnic</td>\n",
              "      <td>72</td>\n",
              "      <td>784.0</td>\n",
              "      <td>2</td>\n",
              "      <td>1775.091837</td>\n",
              "    </tr>\n",
              "    <tr>\n",
              "      <th>3</th>\n",
              "      <td>P-4452</td>\n",
              "      <td>B-3078</td>\n",
              "      <td>beauty and personal care</td>\n",
              "      <td>eye care</td>\n",
              "      <td>h2o plus eye care</td>\n",
              "      <td>4.0</td>\n",
              "      <td>2014-12-12</td>\n",
              "      <td>837.0</td>\n",
              "      <td>12</td>\n",
              "      <td>50</td>\n",
              "      <td>2014</td>\n",
              "      <td>eye care h2o plus eye care</td>\n",
              "      <td>13</td>\n",
              "      <td>349.5</td>\n",
              "      <td>3</td>\n",
              "      <td>630.600000</td>\n",
              "    </tr>\n",
              "    <tr>\n",
              "      <th>4</th>\n",
              "      <td>P-8454</td>\n",
              "      <td>B-3078</td>\n",
              "      <td>clothing</td>\n",
              "      <td>men s clothing</td>\n",
              "      <td>t shirts</td>\n",
              "      <td>4.3</td>\n",
              "      <td>2013-12-12</td>\n",
              "      <td>470.0</td>\n",
              "      <td>12</td>\n",
              "      <td>50</td>\n",
              "      <td>2013</td>\n",
              "      <td>men s clothing t shirts</td>\n",
              "      <td>46</td>\n",
              "      <td>540.0</td>\n",
              "      <td>1</td>\n",
              "      <td>701.516039</td>\n",
              "    </tr>\n",
              "  </tbody>\n",
              "</table>\n",
              "</div>"
            ],
            "text/plain": [
              "  Product Product_Brand  ... Item_encoded  Avg_item_sp\n",
              "0  P-2610         B-659  ...            0  1777.842105\n",
              "1  P-2453        B-3078  ...            1   701.516039\n",
              "2  P-6802        B-1810  ...            2  1775.091837\n",
              "3  P-4452        B-3078  ...            3   630.600000\n",
              "4  P-8454        B-3078  ...            1   701.516039\n",
              "\n",
              "[5 rows x 16 columns]"
            ]
          },
          "metadata": {
            "tags": []
          },
          "execution_count": 592
        }
      ]
    },
    {
      "cell_type": "code",
      "metadata": {
        "id": "pLH93Mvbkzmv",
        "colab_type": "code",
        "colab": {}
      },
      "source": [
        "def format_rating(value):\n",
        "  if value >= 4.5:\n",
        "    return 5\n",
        "  elif value >=3.5:\n",
        "    return 4\n",
        "  elif value >= 2.5:\n",
        "    return 3\n",
        "  elif value >= 1.5:\n",
        "    return 2\n",
        "  else:\n",
        "    return 1\n",
        "\n"
      ],
      "execution_count": 0,
      "outputs": []
    },
    {
      "cell_type": "code",
      "metadata": {
        "id": "dZlhQUbAlSGo",
        "colab_type": "code",
        "colab": {}
      },
      "source": [
        "df_train['Rating'] = df_train['Item_Rating'].map(format_rating)\n",
        "df_test['Rating'] = df_test['Item_Rating'].map(format_rating)"
      ],
      "execution_count": 0,
      "outputs": []
    },
    {
      "cell_type": "code",
      "metadata": {
        "id": "zxXzyr1Clmmw",
        "colab_type": "code",
        "colab": {
          "base_uri": "https://localhost:8080/",
          "height": 318
        },
        "outputId": "91924d48-a5ae-4597-cce1-881a33d103f4"
      },
      "source": [
        "sns.countplot(df_train['Rating'])"
      ],
      "execution_count": 521,
      "outputs": [
        {
          "output_type": "execute_result",
          "data": {
            "text/plain": [
              "<matplotlib.axes._subplots.AxesSubplot at 0x7f09c9387ba8>"
            ]
          },
          "metadata": {
            "tags": []
          },
          "execution_count": 521
        },
        {
          "output_type": "display_data",
          "data": {
            "image/png": "[encoded data removed]",
            "text/plain": [
              "<Figure size 432x288 with 1 Axes>"
            ]
          },
          "metadata": {
            "tags": []
          }
        }
      ]
    },
    {
      "cell_type": "code",
      "metadata": {
        "id": "ldxiT8kRlrU2",
        "colab_type": "code",
        "colab": {
          "base_uri": "https://localhost:8080/",
          "height": 318
        },
        "outputId": "ab10407b-84e5-43ec-fb12-e8302aa14a43"
      },
      "source": [
        "sns.countplot(df_test['Rating'])"
      ],
      "execution_count": 522,
      "outputs": [
        {
          "output_type": "execute_result",
          "data": {
            "text/plain": [
              "<matplotlib.axes._subplots.AxesSubplot at 0x7f09c9348cc0>"
            ]
          },
          "metadata": {
            "tags": []
          },
          "execution_count": 522
        },
        {
          "output_type": "display_data",
          "data": {
            "image/png": "[encoded data removed]",
            "text/plain": [
              "<Figure size 432x288 with 1 Axes>"
            ]
          },
          "metadata": {
            "tags": []
          }
        }
      ]
    },
    {
      "cell_type": "code",
      "metadata": {
        "id": "f-Ov2jhgFoAf",
        "colab_type": "code",
        "colab": {
          "base_uri": "https://localhost:8080/",
          "height": 318
        },
        "outputId": "adeb454f-1e24-4e70-88ef-913b7ffb54e7"
      },
      "source": [
        "sns.countplot(df_train['Month'])"
      ],
      "execution_count": 55,
      "outputs": [
        {
          "output_type": "execute_result",
          "data": {
            "text/plain": [
              "<matplotlib.axes._subplots.AxesSubplot at 0x7f09de029a20>"
            ]
          },
          "metadata": {
            "tags": []
          },
          "execution_count": 55
        },
        {
          "output_type": "display_data",
          "data": {
            "image/png": "[encoded data removed]",
            "text/plain": [
              "<Figure size 432x288 with 1 Axes>"
            ]
          },
          "metadata": {
            "tags": []
          }
        }
      ]
    },
    {
      "cell_type": "code",
      "metadata": {
        "id": "X2VuWCHmv1hu",
        "colab_type": "code",
        "colab": {
          "base_uri": "https://localhost:8080/",
          "height": 34
        },
        "outputId": "e691bb46-820a-48d1-eb22-da73b6722a4c"
      },
      "source": [
        "pd.factorize((df_train['Subcategory_1'])[0])"
      ],
      "execution_count": 611,
      "outputs": [
        {
          "output_type": "execute_result",
          "data": {
            "text/plain": [
              "(array([0, 0, 0, 0]), array(['bags'], dtype=object))"
            ]
          },
          "metadata": {
            "tags": []
          },
          "execution_count": 611
        }
      ]
    },
    {
      "cell_type": "code",
      "metadata": {
        "id": "rMPJatQTh3L4",
        "colab_type": "code",
        "colab": {}
      },
      "source": [
        "|remove_cols = ['Product',\t'Product_Brand',\t'Item_Category','Subcategory_1','Subcategory_2','Date','cat_description']"
      ],
      "execution_count": 0,
      "outputs": []
    },
    {
      "cell_type": "code",
      "metadata": {
        "id": "Vyv0xiJUZkZN",
        "colab_type": "code",
        "colab": {}
      },
      "source": [
        "pros_train = df_train.drop(remove_cols,axis=1)\n",
        "pros_test = df_test.drop(remove_cols,axis=1)"
      ],
      "execution_count": 0,
      "outputs": []
    },
    {
      "cell_type": "code",
      "metadata": {
        "id": "IKnVMYi6xuEp",
        "colab_type": "code",
        "colab": {}
      },
      "source": [
        "pros_train1 = pd.concat([tfidf_train_df,pros_train],axis=1)\n",
        "pros_test1 = pd.concat([tfidf_test_df,pros_test],axis=1)"
      ],
      "execution_count": 0,
      "outputs": []
    },
    {
      "cell_type": "code",
      "metadata": {
        "id": "G1Umq8bDavg4",
        "colab_type": "code",
        "colab": {
          "base_uri": "https://localhost:8080/",
          "height": 224
        },
        "outputId": "3cadd81f-5e70-4662-fd68-585d08377f3f"
      },
      "source": [
        "pros_train.head()"
      ],
      "execution_count": 597,
      "outputs": [
        {
          "output_type": "execute_result",
          "data": {
            "text/html": [
              "<div>\n",
              "<style scoped>\n",
              "    .dataframe tbody tr th:only-of-type {\n",
              "        vertical-align: middle;\n",
              "    }\n",
              "\n",
              "    .dataframe tbody tr th {\n",
              "        vertical-align: top;\n",
              "    }\n",
              "\n",
              "    .dataframe thead th {\n",
              "        text-align: right;\n",
              "    }\n",
              "</style>\n",
              "<table border=\"1\" class=\"dataframe\">\n",
              "  <thead>\n",
              "    <tr style=\"text-align: right;\">\n",
              "      <th></th>\n",
              "      <th>Item_Rating</th>\n",
              "      <th>Selling_Price</th>\n",
              "      <th>Month</th>\n",
              "      <th>Week</th>\n",
              "      <th>Year</th>\n",
              "      <th>Category_Encoded</th>\n",
              "      <th>Category_Wise_Selling_Price</th>\n",
              "      <th>Item_encoded</th>\n",
              "      <th>Avg_item_sp</th>\n",
              "      <th>Rating</th>\n",
              "    </tr>\n",
              "  </thead>\n",
              "  <tbody>\n",
              "    <tr>\n",
              "      <th>0</th>\n",
              "      <td>4.3</td>\n",
              "      <td>291.0</td>\n",
              "      <td>2</td>\n",
              "      <td>5</td>\n",
              "      <td>2017</td>\n",
              "      <td>9</td>\n",
              "      <td>775.0</td>\n",
              "      <td>0</td>\n",
              "      <td>1777.842105</td>\n",
              "      <td>4</td>\n",
              "    </tr>\n",
              "    <tr>\n",
              "      <th>1</th>\n",
              "      <td>3.1</td>\n",
              "      <td>897.0</td>\n",
              "      <td>7</td>\n",
              "      <td>27</td>\n",
              "      <td>2015</td>\n",
              "      <td>46</td>\n",
              "      <td>540.0</td>\n",
              "      <td>1</td>\n",
              "      <td>701.516039</td>\n",
              "      <td>3</td>\n",
              "    </tr>\n",
              "    <tr>\n",
              "      <th>2</th>\n",
              "      <td>3.5</td>\n",
              "      <td>792.0</td>\n",
              "      <td>1</td>\n",
              "      <td>2</td>\n",
              "      <td>2019</td>\n",
              "      <td>72</td>\n",
              "      <td>784.0</td>\n",
              "      <td>2</td>\n",
              "      <td>1775.091837</td>\n",
              "      <td>4</td>\n",
              "    </tr>\n",
              "    <tr>\n",
              "      <th>3</th>\n",
              "      <td>4.0</td>\n",
              "      <td>837.0</td>\n",
              "      <td>12</td>\n",
              "      <td>50</td>\n",
              "      <td>2014</td>\n",
              "      <td>13</td>\n",
              "      <td>349.5</td>\n",
              "      <td>3</td>\n",
              "      <td>630.600000</td>\n",
              "      <td>4</td>\n",
              "    </tr>\n",
              "    <tr>\n",
              "      <th>4</th>\n",
              "      <td>4.3</td>\n",
              "      <td>470.0</td>\n",
              "      <td>12</td>\n",
              "      <td>50</td>\n",
              "      <td>2013</td>\n",
              "      <td>46</td>\n",
              "      <td>540.0</td>\n",
              "      <td>1</td>\n",
              "      <td>701.516039</td>\n",
              "      <td>4</td>\n",
              "    </tr>\n",
              "  </tbody>\n",
              "</table>\n",
              "</div>"
            ],
            "text/plain": [
              "   Item_Rating  Selling_Price  Month  ...  Item_encoded  Avg_item_sp  Rating\n",
              "0          4.3          291.0      2  ...             0  1777.842105       4\n",
              "1          3.1          897.0      7  ...             1   701.516039       3\n",
              "2          3.5          792.0      1  ...             2  1775.091837       4\n",
              "3          4.0          837.0     12  ...             3   630.600000       4\n",
              "4          4.3          470.0     12  ...             1   701.516039       4\n",
              "\n",
              "[5 rows x 10 columns]"
            ]
          },
          "metadata": {
            "tags": []
          },
          "execution_count": 597
        }
      ]
    },
    {
      "cell_type": "code",
      "metadata": {
        "id": "svqtDrfJmEC6",
        "colab_type": "code",
        "colab": {}
      },
      "source": [
        "import lightgbm as lgb\n",
        "import xgboost as xgb\n",
        "from sklearn.linear_model import LinearRegression,Ridge,Lasso\n",
        "from sklearn.svm import LinearSVR\n",
        "from sklearn.metrics import mean_squared_log_error\n",
        "from sklearn.model_selection import KFold\n",
        "from mlxtend.regressor import StackingRegressor\n",
        "from sklearn.ensemble import RandomForestRegressor,GradientBoostingRegressor\n",
        "from sklearn.neighbors import KNeighborsRegressor\n",
        "import warnings\n",
        "import catboost\n",
        "warnings.filterwarnings('ignore')"
      ],
      "execution_count": 0,
      "outputs": []
    },
    {
      "cell_type": "code",
      "metadata": {
        "id": "p03BQsvpyA1J",
        "colab_type": "code",
        "colab": {
          "base_uri": "https://localhost:8080/",
          "height": 224
        },
        "outputId": "6ad4a426-e572-4766-c1fd-e653098fb0ed"
      },
      "source": [
        "pros_train1.head()"
      ],
      "execution_count": 615,
      "outputs": [
        {
          "output_type": "execute_result",
          "data": {
            "text/html": [
              "<div>\n",
              "<style scoped>\n",
              "    .dataframe tbody tr th:only-of-type {\n",
              "        vertical-align: middle;\n",
              "    }\n",
              "\n",
              "    .dataframe tbody tr th {\n",
              "        vertical-align: top;\n",
              "    }\n",
              "\n",
              "    .dataframe thead th {\n",
              "        text-align: right;\n",
              "    }\n",
              "</style>\n",
              "<table border=\"1\" class=\"dataframe\">\n",
              "  <thead>\n",
              "    <tr style=\"text-align: right;\">\n",
              "      <th></th>\n",
              "      <th>accessories</th>\n",
              "      <th>bangles</th>\n",
              "      <th>car</th>\n",
              "      <th>chains</th>\n",
              "      <th>clothing</th>\n",
              "      <th>exterior</th>\n",
              "      <th>footwear</th>\n",
              "      <th>interior</th>\n",
              "      <th>men</th>\n",
              "      <th>necklaces</th>\n",
              "      <th>parts</th>\n",
              "      <th>rings</th>\n",
              "      <th>sleep</th>\n",
              "      <th>spare</th>\n",
              "      <th>unknown</th>\n",
              "      <th>watches</th>\n",
              "      <th>wear</th>\n",
              "      <th>western</th>\n",
              "      <th>women</th>\n",
              "      <th>wrist</th>\n",
              "      <th>Item_Rating</th>\n",
              "      <th>Selling_Price</th>\n",
              "      <th>Month</th>\n",
              "      <th>Week</th>\n",
              "      <th>Year</th>\n",
              "      <th>Category_Encoded</th>\n",
              "      <th>Category_Wise_Selling_Price</th>\n",
              "      <th>Item_encoded</th>\n",
              "      <th>Avg_item_sp</th>\n",
              "      <th>Rating</th>\n",
              "    </tr>\n",
              "  </thead>\n",
              "  <tbody>\n",
              "    <tr>\n",
              "      <th>0</th>\n",
              "      <td>0.0</td>\n",
              "      <td>0.0</td>\n",
              "      <td>0.0</td>\n",
              "      <td>0.0</td>\n",
              "      <td>0.000000</td>\n",
              "      <td>0.0</td>\n",
              "      <td>0.0</td>\n",
              "      <td>0.0</td>\n",
              "      <td>0.000000</td>\n",
              "      <td>0.0</td>\n",
              "      <td>0.0</td>\n",
              "      <td>0.0</td>\n",
              "      <td>0.0</td>\n",
              "      <td>0.0</td>\n",
              "      <td>0.0</td>\n",
              "      <td>0.0</td>\n",
              "      <td>0.000000</td>\n",
              "      <td>0.000000</td>\n",
              "      <td>0.000000</td>\n",
              "      <td>0.0</td>\n",
              "      <td>4.3</td>\n",
              "      <td>291.0</td>\n",
              "      <td>2</td>\n",
              "      <td>5</td>\n",
              "      <td>2017</td>\n",
              "      <td>9</td>\n",
              "      <td>775.0</td>\n",
              "      <td>0</td>\n",
              "      <td>1777.842105</td>\n",
              "      <td>4</td>\n",
              "    </tr>\n",
              "    <tr>\n",
              "      <th>1</th>\n",
              "      <td>0.0</td>\n",
              "      <td>0.0</td>\n",
              "      <td>0.0</td>\n",
              "      <td>0.0</td>\n",
              "      <td>0.420627</td>\n",
              "      <td>0.0</td>\n",
              "      <td>0.0</td>\n",
              "      <td>0.0</td>\n",
              "      <td>0.000000</td>\n",
              "      <td>0.0</td>\n",
              "      <td>0.0</td>\n",
              "      <td>0.0</td>\n",
              "      <td>0.0</td>\n",
              "      <td>0.0</td>\n",
              "      <td>0.0</td>\n",
              "      <td>0.0</td>\n",
              "      <td>0.491969</td>\n",
              "      <td>0.606628</td>\n",
              "      <td>0.461564</td>\n",
              "      <td>0.0</td>\n",
              "      <td>3.1</td>\n",
              "      <td>897.0</td>\n",
              "      <td>7</td>\n",
              "      <td>27</td>\n",
              "      <td>2015</td>\n",
              "      <td>46</td>\n",
              "      <td>540.0</td>\n",
              "      <td>1</td>\n",
              "      <td>701.516039</td>\n",
              "      <td>3</td>\n",
              "    </tr>\n",
              "    <tr>\n",
              "      <th>2</th>\n",
              "      <td>0.0</td>\n",
              "      <td>0.0</td>\n",
              "      <td>0.0</td>\n",
              "      <td>0.0</td>\n",
              "      <td>0.000000</td>\n",
              "      <td>0.0</td>\n",
              "      <td>0.0</td>\n",
              "      <td>0.0</td>\n",
              "      <td>0.000000</td>\n",
              "      <td>0.0</td>\n",
              "      <td>0.0</td>\n",
              "      <td>0.0</td>\n",
              "      <td>0.0</td>\n",
              "      <td>0.0</td>\n",
              "      <td>0.0</td>\n",
              "      <td>0.0</td>\n",
              "      <td>0.000000</td>\n",
              "      <td>0.000000</td>\n",
              "      <td>0.000000</td>\n",
              "      <td>0.0</td>\n",
              "      <td>3.5</td>\n",
              "      <td>792.0</td>\n",
              "      <td>1</td>\n",
              "      <td>2</td>\n",
              "      <td>2019</td>\n",
              "      <td>72</td>\n",
              "      <td>784.0</td>\n",
              "      <td>2</td>\n",
              "      <td>1775.091837</td>\n",
              "      <td>4</td>\n",
              "    </tr>\n",
              "    <tr>\n",
              "      <th>3</th>\n",
              "      <td>0.0</td>\n",
              "      <td>0.0</td>\n",
              "      <td>0.0</td>\n",
              "      <td>0.0</td>\n",
              "      <td>0.000000</td>\n",
              "      <td>0.0</td>\n",
              "      <td>0.0</td>\n",
              "      <td>0.0</td>\n",
              "      <td>0.000000</td>\n",
              "      <td>0.0</td>\n",
              "      <td>0.0</td>\n",
              "      <td>0.0</td>\n",
              "      <td>0.0</td>\n",
              "      <td>0.0</td>\n",
              "      <td>0.0</td>\n",
              "      <td>0.0</td>\n",
              "      <td>0.000000</td>\n",
              "      <td>0.000000</td>\n",
              "      <td>0.000000</td>\n",
              "      <td>0.0</td>\n",
              "      <td>4.0</td>\n",
              "      <td>837.0</td>\n",
              "      <td>12</td>\n",
              "      <td>50</td>\n",
              "      <td>2014</td>\n",
              "      <td>13</td>\n",
              "      <td>349.5</td>\n",
              "      <td>3</td>\n",
              "      <td>630.600000</td>\n",
              "      <td>4</td>\n",
              "    </tr>\n",
              "    <tr>\n",
              "      <th>4</th>\n",
              "      <td>0.0</td>\n",
              "      <td>0.0</td>\n",
              "      <td>0.0</td>\n",
              "      <td>0.0</td>\n",
              "      <td>0.549949</td>\n",
              "      <td>0.0</td>\n",
              "      <td>0.0</td>\n",
              "      <td>0.0</td>\n",
              "      <td>0.835198</td>\n",
              "      <td>0.0</td>\n",
              "      <td>0.0</td>\n",
              "      <td>0.0</td>\n",
              "      <td>0.0</td>\n",
              "      <td>0.0</td>\n",
              "      <td>0.0</td>\n",
              "      <td>0.0</td>\n",
              "      <td>0.000000</td>\n",
              "      <td>0.000000</td>\n",
              "      <td>0.000000</td>\n",
              "      <td>0.0</td>\n",
              "      <td>4.3</td>\n",
              "      <td>470.0</td>\n",
              "      <td>12</td>\n",
              "      <td>50</td>\n",
              "      <td>2013</td>\n",
              "      <td>46</td>\n",
              "      <td>540.0</td>\n",
              "      <td>1</td>\n",
              "      <td>701.516039</td>\n",
              "      <td>4</td>\n",
              "    </tr>\n",
              "  </tbody>\n",
              "</table>\n",
              "</div>"
            ],
            "text/plain": [
              "   accessories  bangles  car  ...  Item_encoded  Avg_item_sp  Rating\n",
              "0          0.0      0.0  0.0  ...             0  1777.842105       4\n",
              "1          0.0      0.0  0.0  ...             1   701.516039       3\n",
              "2          0.0      0.0  0.0  ...             2  1775.091837       4\n",
              "3          0.0      0.0  0.0  ...             3   630.600000       4\n",
              "4          0.0      0.0  0.0  ...             1   701.516039       4\n",
              "\n",
              "[5 rows x 30 columns]"
            ]
          },
          "metadata": {
            "tags": []
          },
          "execution_count": 615
        }
      ]
    },
    {
      "cell_type": "code",
      "metadata": {
        "id": "GETaq47hmN3N",
        "colab_type": "code",
        "colab": {}
      },
      "source": [
        "X = pros_train1.drop('Selling_Price',axis=1)\n",
        "y = pros_train1['Selling_Price']"
      ],
      "execution_count": 0,
      "outputs": []
    },
    {
      "cell_type": "code",
      "metadata": {
        "id": "uaRYtQiTmWpT",
        "colab_type": "code",
        "colab": {
          "base_uri": "https://localhost:8080/",
          "height": 629
        },
        "outputId": "d26a47ad-c6ae-4825-82d9-54a00089c648"
      },
      "source": [
        "X.info()"
      ],
      "execution_count": 617,
      "outputs": [
        {
          "output_type": "stream",
          "text": [
            "<class 'pandas.core.frame.DataFrame'>\n",
            "RangeIndex: 2452 entries, 0 to 2451\n",
            "Data columns (total 29 columns):\n",
            " #   Column                       Non-Null Count  Dtype  \n",
            "---  ------                       --------------  -----  \n",
            " 0   accessories                  2452 non-null   float64\n",
            " 1   bangles                      2452 non-null   float64\n",
            " 2   car                          2452 non-null   float64\n",
            " 3   chains                       2452 non-null   float64\n",
            " 4   clothing                     2452 non-null   float64\n",
            " 5   exterior                     2452 non-null   float64\n",
            " 6   footwear                     2452 non-null   float64\n",
            " 7   interior                     2452 non-null   float64\n",
            " 8   men                          2452 non-null   float64\n",
            " 9   necklaces                    2452 non-null   float64\n",
            " 10  parts                        2452 non-null   float64\n",
            " 11  rings                        2452 non-null   float64\n",
            " 12  sleep                        2452 non-null   float64\n",
            " 13  spare                        2452 non-null   float64\n",
            " 14  unknown                      2452 non-null   float64\n",
            " 15  watches                      2452 non-null   float64\n",
            " 16  wear                         2452 non-null   float64\n",
            " 17  western                      2452 non-null   float64\n",
            " 18  women                        2452 non-null   float64\n",
            " 19  wrist                        2452 non-null   float64\n",
            " 20  Item_Rating                  2452 non-null   float64\n",
            " 21  Month                        2452 non-null   int64  \n",
            " 22  Week                         2452 non-null   int64  \n",
            " 23  Year                         2452 non-null   int64  \n",
            " 24  Category_Encoded             2452 non-null   int64  \n",
            " 25  Category_Wise_Selling_Price  2452 non-null   float64\n",
            " 26  Item_encoded                 2452 non-null   int64  \n",
            " 27  Avg_item_sp                  2452 non-null   float64\n",
            " 28  Rating                       2452 non-null   int64  \n",
            "dtypes: float64(23), int64(6)\n",
            "memory usage: 555.7 KB\n"
          ],
          "name": "stdout"
        }
      ]
    },
    {
      "cell_type": "code",
      "metadata": {
        "id": "Vu3dLcI1mJLj",
        "colab_type": "code",
        "colab": {
          "base_uri": "https://localhost:8080/",
          "height": 505
        },
        "outputId": "f979fa42-3169-401c-e51b-5a2933af3a5f"
      },
      "source": [
        "iterations = 10\n",
        "scores = []\n",
        "scores_val = []\n",
        "target = y\n",
        "temp = X\n",
        "for i in range(iterations):\n",
        "    print(f'Running {i+1} iteration')\n",
        "    \n",
        "    kfold = KFold(n_splits = 2, shuffle=True)\n",
        "    \n",
        "    for train_index,test_index in kfold.split(temp):\n",
        "        xtrain,xtest = temp[temp.index.isin(train_index)],temp[temp.index.isin(test_index)]\n",
        "        ytrain,ytest = target[train_index],target[test_index]\n",
        "        \n",
        "\n",
        "        \n",
        "        model1  = lgb.LGBMRegressor(max_depth=3,n_estimators=75,random_state=60)\n",
        "        model2  = catboost.CatBoostRegressor(max_depth=4,n_estimators=1500,random_state=60)\n",
        "        model3 = xgb.XGBRegressor(max_depth=5,n_estimators=75,random_state=69,objective='reg:squarederror')\n",
        "        model4 = RandomForestRegressor(max_depth=4,n_estimators=300,random_state=69)\n",
        "        model5 = LinearRegression()\n",
        "        \n",
        "        \n",
        "        #model = StackingRegressor(regressors=[model3,model4,model5],meta_regressor=model1)\n",
        "        model = model1\n",
        "        \n",
        "        \n",
        "        ytrain = np.log(ytrain)\n",
        "        \n",
        "        model1.fit(xtrain,ytrain)\n",
        "            \n",
        "        preds = model1.predict(xtest)\n",
        "        #preds = np.where(preds<0,abs(preds),preds)\n",
        "        \n",
        "        scores.append(np.sqrt(mean_squared_log_error(ytest,np.exp(preds))))\n",
        "\n",
        "        \n",
        "print('-----------KFOLD--------------')\n",
        "print(sns.lineplot(x=[i for i in range(20)],y=scores))\n",
        "print(min(scores),max(scores),np.mean(scores))"
      ],
      "execution_count": 627,
      "outputs": [
        {
          "output_type": "stream",
          "text": [
            "Running 1 iteration\n",
            "Running 2 iteration\n",
            "Running 3 iteration\n",
            "Running 4 iteration\n",
            "Running 5 iteration\n",
            "Running 6 iteration\n",
            "Running 7 iteration\n",
            "Running 8 iteration\n",
            "Running 9 iteration\n",
            "Running 10 iteration\n",
            "-----------KFOLD--------------\n",
            "AxesSubplot(0.08,0.07;0.87x0.81)\n",
            "0.6905001420748301 0.7836197841657914 0.7390905224790763\n"
          ],
          "name": "stdout"
        },
        {
          "output_type": "display_data",
          "data": {
            "image/png": "[encoded data removed]",
            "text/plain": [
              "<Figure size 432x288 with 1 Axes>"
            ]
          },
          "metadata": {
            "tags": []
          }
        }
      ]
    },
    {
      "cell_type": "code",
      "metadata": {
        "id": "EZRk0U3ea0N1",
        "colab_type": "code",
        "colab": {}
      },
      "source": [
        "model  = lgb.LGBMRegressor(max_depth =3 , n_estimators=75,random_state=60)"
      ],
      "execution_count": 0,
      "outputs": []
    },
    {
      "cell_type": "code",
      "metadata": {
        "id": "M66VoLF9bDUl",
        "colab_type": "code",
        "colab": {}
      },
      "source": [
        "y1 = np.log(y)"
      ],
      "execution_count": 0,
      "outputs": []
    },
    {
      "cell_type": "code",
      "metadata": {
        "id": "eTrSS8iCa_oV",
        "colab_type": "code",
        "colab": {
          "base_uri": "https://localhost:8080/",
          "height": 119
        },
        "outputId": "4afe691e-1426-4050-fc2a-e8512c4876a0"
      },
      "source": [
        "model.fit(X,y1)"
      ],
      "execution_count": 630,
      "outputs": [
        {
          "output_type": "execute_result",
          "data": {
            "text/plain": [
              "LGBMRegressor(boosting_type='gbdt', class_weight=None, colsample_bytree=1.0,\n",
              "              importance_type='split', learning_rate=0.1, max_depth=3,\n",
              "              min_child_samples=20, min_child_weight=0.001, min_split_gain=0.0,\n",
              "              n_estimators=75, n_jobs=-1, num_leaves=31, objective=None,\n",
              "              random_state=60, reg_alpha=0.0, reg_lambda=0.0, silent=True,\n",
              "              subsample=1.0, subsample_for_bin=200000, subsample_freq=0)"
            ]
          },
          "metadata": {
            "tags": []
          },
          "execution_count": 630
        }
      ]
    },
    {
      "cell_type": "code",
      "metadata": {
        "id": "ecaH5hg-pbdy",
        "colab_type": "code",
        "colab": {}
      },
      "source": [
        "xtest = pros_test1[X.columns]"
      ],
      "execution_count": 0,
      "outputs": []
    },
    {
      "cell_type": "code",
      "metadata": {
        "id": "SMfOAOH2piCM",
        "colab_type": "code",
        "colab": {}
      },
      "source": [
        "preds = model.predict(xtest)\n",
        "preds = np.exp(preds)"
      ],
      "execution_count": 0,
      "outputs": []
    },
    {
      "cell_type": "code",
      "metadata": {
        "id": "o0cicMbOplrK",
        "colab_type": "code",
        "colab": {}
      },
      "source": [
        "result = pd.DataFrame(preds,columns=['Selling_Price'])"
      ],
      "execution_count": 0,
      "outputs": []
    },
    {
      "cell_type": "code",
      "metadata": {
        "id": "KXW13P99ppUy",
        "colab_type": "code",
        "colab": {}
      },
      "source": [
        "result.to_excel('sub3.xlsx',index=False)"
      ],
      "execution_count": 0,
      "outputs": []
    },
    {
      "cell_type": "code",
      "metadata": {
        "id": "EBRPYBh3y-Dw",
        "colab_type": "code",
        "colab": {
          "base_uri": "https://localhost:8080/",
          "height": 297
        },
        "outputId": "153d412a-1592-4d1b-94b4-083c4e13580d"
      },
      "source": [
        "result.describe()"
      ],
      "execution_count": 637,
      "outputs": [
        {
          "output_type": "execute_result",
          "data": {
            "text/html": [
              "<div>\n",
              "<style scoped>\n",
              "    .dataframe tbody tr th:only-of-type {\n",
              "        vertical-align: middle;\n",
              "    }\n",
              "\n",
              "    .dataframe tbody tr th {\n",
              "        vertical-align: top;\n",
              "    }\n",
              "\n",
              "    .dataframe thead th {\n",
              "        text-align: right;\n",
              "    }\n",
              "</style>\n",
              "<table border=\"1\" class=\"dataframe\">\n",
              "  <thead>\n",
              "    <tr style=\"text-align: right;\">\n",
              "      <th></th>\n",
              "      <th>Selling_Price</th>\n",
              "    </tr>\n",
              "  </thead>\n",
              "  <tbody>\n",
              "    <tr>\n",
              "      <th>count</th>\n",
              "      <td>1051.000000</td>\n",
              "    </tr>\n",
              "    <tr>\n",
              "      <th>mean</th>\n",
              "      <td>1627.345605</td>\n",
              "    </tr>\n",
              "    <tr>\n",
              "      <th>std</th>\n",
              "      <td>4519.015584</td>\n",
              "    </tr>\n",
              "    <tr>\n",
              "      <th>min</th>\n",
              "      <td>309.457091</td>\n",
              "    </tr>\n",
              "    <tr>\n",
              "      <th>25%</th>\n",
              "      <td>495.439959</td>\n",
              "    </tr>\n",
              "    <tr>\n",
              "      <th>50%</th>\n",
              "      <td>686.868188</td>\n",
              "    </tr>\n",
              "    <tr>\n",
              "      <th>75%</th>\n",
              "      <td>811.734070</td>\n",
              "    </tr>\n",
              "    <tr>\n",
              "      <th>max</th>\n",
              "      <td>25795.001625</td>\n",
              "    </tr>\n",
              "  </tbody>\n",
              "</table>\n",
              "</div>"
            ],
            "text/plain": [
              "       Selling_Price\n",
              "count    1051.000000\n",
              "mean     1627.345605\n",
              "std      4519.015584\n",
              "min       309.457091\n",
              "25%       495.439959\n",
              "50%       686.868188\n",
              "75%       811.734070\n",
              "max     25795.001625"
            ]
          },
          "metadata": {
            "tags": []
          },
          "execution_count": 637
        }
      ]
    },
    {
      "cell_type": "code",
      "metadata": {
        "id": "_9jc7w9Ppt8F",
        "colab_type": "code",
        "colab": {
          "base_uri": "https://localhost:8080/",
          "height": 297
        },
        "outputId": "1de45a4c-9e21-4bab-e120-8aef092893b3"
      },
      "source": [
        "result.describe()"
      ],
      "execution_count": 566,
      "outputs": [
        {
          "output_type": "execute_result",
          "data": {
            "text/html": [
              "<div>\n",
              "<style scoped>\n",
              "    .dataframe tbody tr th:only-of-type {\n",
              "        vertical-align: middle;\n",
              "    }\n",
              "\n",
              "    .dataframe tbody tr th {\n",
              "        vertical-align: top;\n",
              "    }\n",
              "\n",
              "    .dataframe thead th {\n",
              "        text-align: right;\n",
              "    }\n",
              "</style>\n",
              "<table border=\"1\" class=\"dataframe\">\n",
              "  <thead>\n",
              "    <tr style=\"text-align: right;\">\n",
              "      <th></th>\n",
              "      <th>Selling_Price</th>\n",
              "    </tr>\n",
              "  </thead>\n",
              "  <tbody>\n",
              "    <tr>\n",
              "      <th>count</th>\n",
              "      <td>1051.000000</td>\n",
              "    </tr>\n",
              "    <tr>\n",
              "      <th>mean</th>\n",
              "      <td>933.044304</td>\n",
              "    </tr>\n",
              "    <tr>\n",
              "      <th>std</th>\n",
              "      <td>1196.229005</td>\n",
              "    </tr>\n",
              "    <tr>\n",
              "      <th>min</th>\n",
              "      <td>204.197206</td>\n",
              "    </tr>\n",
              "    <tr>\n",
              "      <th>25%</th>\n",
              "      <td>543.562108</td>\n",
              "    </tr>\n",
              "    <tr>\n",
              "      <th>50%</th>\n",
              "      <td>719.238142</td>\n",
              "    </tr>\n",
              "    <tr>\n",
              "      <th>75%</th>\n",
              "      <td>921.810301</td>\n",
              "    </tr>\n",
              "    <tr>\n",
              "      <th>max</th>\n",
              "      <td>29482.595563</td>\n",
              "    </tr>\n",
              "  </tbody>\n",
              "</table>\n",
              "</div>"
            ],
            "text/plain": [
              "       Selling_Price\n",
              "count    1051.000000\n",
              "mean      933.044304\n",
              "std      1196.229005\n",
              "min       204.197206\n",
              "25%       543.562108\n",
              "50%       719.238142\n",
              "75%       921.810301\n",
              "max     29482.595563"
            ]
          },
          "metadata": {
            "tags": []
          },
          "execution_count": 566
        }
      ]
    },
    {
      "cell_type": "code",
      "metadata": {
        "id": "C0q5aT29bOR4",
        "colab_type": "code",
        "colab": {}
      },
      "source": [
        "import re\n",
        "def clean_text(text):\n",
        "    text = text.lower()\n",
        "    # remove words with numbers \n",
        "    text = re.sub(\"\\s*\\d\\s*\",\" \",text)\n",
        "    # remove special characters if any\n",
        "    text = re.sub('[^A-Za-z0-9]+',\" \",text)\n",
        "    return text"
      ],
      "execution_count": 0,
      "outputs": []
    },
    {
      "cell_type": "code",
      "metadata": {
        "id": "Dat9rHUCbXk_",
        "colab_type": "code",
        "colab": {}
      },
      "source": [
        "pros_train['cat_description'] = pros_train['cat_description'].map(clean_text)"
      ],
      "execution_count": 0,
      "outputs": []
    },
    {
      "cell_type": "code",
      "metadata": {
        "id": "LqHq1lJjbksZ",
        "colab_type": "code",
        "colab": {}
      },
      "source": [
        "pros_test['cat_description'] = pros_test['cat_description'].map(clean_text)"
      ],
      "execution_count": 0,
      "outputs": []
    },
    {
      "cell_type": "code",
      "metadata": {
        "id": "RMLslBrRboy6",
        "colab_type": "code",
        "colab": {
          "base_uri": "https://localhost:8080/",
          "height": 204
        },
        "outputId": "41e3e20d-b734-40d8-8656-3b75e4b52807"
      },
      "source": [
        "pros_train.head()"
      ],
      "execution_count": 319,
      "outputs": [
        {
          "output_type": "execute_result",
          "data": {
            "text/html": [
              "<div>\n",
              "<style scoped>\n",
              "    .dataframe tbody tr th:only-of-type {\n",
              "        vertical-align: middle;\n",
              "    }\n",
              "\n",
              "    .dataframe tbody tr th {\n",
              "        vertical-align: top;\n",
              "    }\n",
              "\n",
              "    .dataframe thead th {\n",
              "        text-align: right;\n",
              "    }\n",
              "</style>\n",
              "<table border=\"1\" class=\"dataframe\">\n",
              "  <thead>\n",
              "    <tr style=\"text-align: right;\">\n",
              "      <th></th>\n",
              "      <th>Item_Category</th>\n",
              "      <th>Item_Rating</th>\n",
              "      <th>Selling_Price</th>\n",
              "      <th>Month</th>\n",
              "      <th>Week</th>\n",
              "      <th>Year</th>\n",
              "      <th>cat_description</th>\n",
              "    </tr>\n",
              "  </thead>\n",
              "  <tbody>\n",
              "    <tr>\n",
              "      <th>0</th>\n",
              "      <td>bags wallets belts</td>\n",
              "      <td>4.3</td>\n",
              "      <td>291.0</td>\n",
              "      <td>2</td>\n",
              "      <td>5</td>\n",
              "      <td>2017</td>\n",
              "      <td>bags hand bags</td>\n",
              "    </tr>\n",
              "    <tr>\n",
              "      <th>1</th>\n",
              "      <td>clothing</td>\n",
              "      <td>3.1</td>\n",
              "      <td>897.0</td>\n",
              "      <td>7</td>\n",
              "      <td>27</td>\n",
              "      <td>2015</td>\n",
              "      <td>women s clothing western wear</td>\n",
              "    </tr>\n",
              "    <tr>\n",
              "      <th>2</th>\n",
              "      <td>home decor festive needs</td>\n",
              "      <td>3.5</td>\n",
              "      <td>792.0</td>\n",
              "      <td>1</td>\n",
              "      <td>2</td>\n",
              "      <td>2019</td>\n",
              "      <td>showpieces ethnic</td>\n",
              "    </tr>\n",
              "    <tr>\n",
              "      <th>3</th>\n",
              "      <td>beauty and personal care</td>\n",
              "      <td>4.0</td>\n",
              "      <td>837.0</td>\n",
              "      <td>12</td>\n",
              "      <td>50</td>\n",
              "      <td>2014</td>\n",
              "      <td>eye care h o plus eye care</td>\n",
              "    </tr>\n",
              "    <tr>\n",
              "      <th>4</th>\n",
              "      <td>clothing</td>\n",
              "      <td>4.3</td>\n",
              "      <td>470.0</td>\n",
              "      <td>12</td>\n",
              "      <td>50</td>\n",
              "      <td>2013</td>\n",
              "      <td>men s clothing t shirts</td>\n",
              "    </tr>\n",
              "  </tbody>\n",
              "</table>\n",
              "</div>"
            ],
            "text/plain": [
              "              Item_Category  Item_Rating  ...  Year                cat_description\n",
              "0        bags wallets belts          4.3  ...  2017                 bags hand bags\n",
              "1                  clothing          3.1  ...  2015  women s clothing western wear\n",
              "2  home decor festive needs          3.5  ...  2019              showpieces ethnic\n",
              "3  beauty and personal care          4.0  ...  2014     eye care h o plus eye care\n",
              "4                  clothing          4.3  ...  2013        men s clothing t shirts\n",
              "\n",
              "[5 rows x 7 columns]"
            ]
          },
          "metadata": {
            "tags": []
          },
          "execution_count": 319
        }
      ]
    },
    {
      "cell_type": "code",
      "metadata": {
        "id": "GIwGNRG8iytr",
        "colab_type": "code",
        "colab": {}
      },
      "source": [
        "pros_test['Selling_Price'] =0\n",
        "total = pd.concat([pros_train,pros_test],axis=0)"
      ],
      "execution_count": 0,
      "outputs": []
    },
    {
      "cell_type": "code",
      "metadata": {
        "id": "OoAgVVj6jrpb",
        "colab_type": "code",
        "colab": {
          "base_uri": "https://localhost:8080/",
          "height": 34
        },
        "outputId": "e290fcf8-f817-4cf0-a89a-52780555ac94"
      },
      "source": [
        "total.shape"
      ],
      "execution_count": 321,
      "outputs": [
        {
          "output_type": "execute_result",
          "data": {
            "text/plain": [
              "(3503, 7)"
            ]
          },
          "metadata": {
            "tags": []
          },
          "execution_count": 321
        }
      ]
    },
    {
      "cell_type": "code",
      "metadata": {
        "id": "9iCsq02fSP48",
        "colab_type": "code",
        "colab": {}
      },
      "source": [
        "from sklearn.feature_extraction.text import TfidfVectorizer\n",
        "tfidf_vectorizer = TfidfVectorizer(max_df=0.90,min_df=0,max_features=20,stop_words=stop_words)\n",
        "tfidf_vectorizer.fit(total['cat_description'])\n",
        "tfidf_train = tfidf_vectorizer.transform(total['cat_description'])"
      ],
      "execution_count": 0,
      "outputs": []
    },
    {
      "cell_type": "code",
      "metadata": {
        "id": "9H4zyJaRc5Ok",
        "colab_type": "code",
        "colab": {}
      },
      "source": [
        "tfidf_train_df = pd.DataFrame(tfidf_train.toarray(),columns=tfidf_vectorizer.get_feature_names())\n"
      ],
      "execution_count": 0,
      "outputs": []
    },
    {
      "cell_type": "code",
      "metadata": {
        "id": "eqf-P2z5c-yw",
        "colab_type": "code",
        "colab": {
          "base_uri": "https://localhost:8080/",
          "height": 34
        },
        "outputId": "9397f59a-29f9-457e-fa26-f06d54f102ee"
      },
      "source": [
        "tfidf_train_df.shape"
      ],
      "execution_count": 324,
      "outputs": [
        {
          "output_type": "execute_result",
          "data": {
            "text/plain": [
              "(3503, 20)"
            ]
          },
          "metadata": {
            "tags": []
          },
          "execution_count": 324
        }
      ]
    },
    {
      "cell_type": "code",
      "metadata": {
        "id": "ZKFcqREWnt1E",
        "colab_type": "code",
        "colab": {}
      },
      "source": [
        "tfidf_train_df.reset_index(drop=True, inplace=True)\n",
        "total.reset_index(drop=True, inplace=True)"
      ],
      "execution_count": 0,
      "outputs": []
    },
    {
      "cell_type": "code",
      "metadata": {
        "id": "LRvoDKi6dieK",
        "colab_type": "code",
        "colab": {}
      },
      "source": [
        "total_df = pd.concat([tfidf_train_df,total],axis=1)"
      ],
      "execution_count": 0,
      "outputs": []
    },
    {
      "cell_type": "code",
      "metadata": {
        "id": "V0Y1P1SHdpEX",
        "colab_type": "code",
        "colab": {}
      },
      "source": [
        "total_df.drop('cat_description',axis=1,inplace=True)\n"
      ],
      "execution_count": 0,
      "outputs": []
    },
    {
      "cell_type": "code",
      "metadata": {
        "id": "BDyfTfLnoFOa",
        "colab_type": "code",
        "colab": {
          "base_uri": "https://localhost:8080/",
          "height": 275
        },
        "outputId": "c2fc47c6-7f1f-4a59-f7e2-e0943a660b4d"
      },
      "source": [
        "total_df.head()"
      ],
      "execution_count": 331,
      "outputs": [
        {
          "output_type": "execute_result",
          "data": {
            "text/html": [
              "<div>\n",
              "<style scoped>\n",
              "    .dataframe tbody tr th:only-of-type {\n",
              "        vertical-align: middle;\n",
              "    }\n",
              "\n",
              "    .dataframe tbody tr th {\n",
              "        vertical-align: top;\n",
              "    }\n",
              "\n",
              "    .dataframe thead th {\n",
              "        text-align: right;\n",
              "    }\n",
              "</style>\n",
              "<table border=\"1\" class=\"dataframe\">\n",
              "  <thead>\n",
              "    <tr style=\"text-align: right;\">\n",
              "      <th></th>\n",
              "      <th>accessories</th>\n",
              "      <th>bangles</th>\n",
              "      <th>car</th>\n",
              "      <th>chains</th>\n",
              "      <th>clothing</th>\n",
              "      <th>exterior</th>\n",
              "      <th>footwear</th>\n",
              "      <th>interior</th>\n",
              "      <th>men</th>\n",
              "      <th>necklaces</th>\n",
              "      <th>parts</th>\n",
              "      <th>rings</th>\n",
              "      <th>sleep</th>\n",
              "      <th>spare</th>\n",
              "      <th>unknown</th>\n",
              "      <th>watches</th>\n",
              "      <th>wear</th>\n",
              "      <th>western</th>\n",
              "      <th>women</th>\n",
              "      <th>wrist</th>\n",
              "      <th>Item_Category</th>\n",
              "      <th>Item_Rating</th>\n",
              "      <th>Selling_Price</th>\n",
              "      <th>Month</th>\n",
              "      <th>Week</th>\n",
              "      <th>Year</th>\n",
              "    </tr>\n",
              "  </thead>\n",
              "  <tbody>\n",
              "    <tr>\n",
              "      <th>0</th>\n",
              "      <td>0.0</td>\n",
              "      <td>0.0</td>\n",
              "      <td>0.0</td>\n",
              "      <td>0.0</td>\n",
              "      <td>0.000000</td>\n",
              "      <td>0.0</td>\n",
              "      <td>0.0</td>\n",
              "      <td>0.0</td>\n",
              "      <td>0.00000</td>\n",
              "      <td>0.0</td>\n",
              "      <td>0.0</td>\n",
              "      <td>0.0</td>\n",
              "      <td>0.0</td>\n",
              "      <td>0.0</td>\n",
              "      <td>0.0</td>\n",
              "      <td>0.0</td>\n",
              "      <td>0.000000</td>\n",
              "      <td>0.000000</td>\n",
              "      <td>0.000000</td>\n",
              "      <td>0.0</td>\n",
              "      <td>bags wallets belts</td>\n",
              "      <td>4.3</td>\n",
              "      <td>291.0</td>\n",
              "      <td>2</td>\n",
              "      <td>5</td>\n",
              "      <td>2017</td>\n",
              "    </tr>\n",
              "    <tr>\n",
              "      <th>1</th>\n",
              "      <td>0.0</td>\n",
              "      <td>0.0</td>\n",
              "      <td>0.0</td>\n",
              "      <td>0.0</td>\n",
              "      <td>0.420847</td>\n",
              "      <td>0.0</td>\n",
              "      <td>0.0</td>\n",
              "      <td>0.0</td>\n",
              "      <td>0.00000</td>\n",
              "      <td>0.0</td>\n",
              "      <td>0.0</td>\n",
              "      <td>0.0</td>\n",
              "      <td>0.0</td>\n",
              "      <td>0.0</td>\n",
              "      <td>0.0</td>\n",
              "      <td>0.0</td>\n",
              "      <td>0.491887</td>\n",
              "      <td>0.609152</td>\n",
              "      <td>0.458115</td>\n",
              "      <td>0.0</td>\n",
              "      <td>clothing</td>\n",
              "      <td>3.1</td>\n",
              "      <td>897.0</td>\n",
              "      <td>7</td>\n",
              "      <td>27</td>\n",
              "      <td>2015</td>\n",
              "    </tr>\n",
              "    <tr>\n",
              "      <th>2</th>\n",
              "      <td>0.0</td>\n",
              "      <td>0.0</td>\n",
              "      <td>0.0</td>\n",
              "      <td>0.0</td>\n",
              "      <td>0.000000</td>\n",
              "      <td>0.0</td>\n",
              "      <td>0.0</td>\n",
              "      <td>0.0</td>\n",
              "      <td>0.00000</td>\n",
              "      <td>0.0</td>\n",
              "      <td>0.0</td>\n",
              "      <td>0.0</td>\n",
              "      <td>0.0</td>\n",
              "      <td>0.0</td>\n",
              "      <td>0.0</td>\n",
              "      <td>0.0</td>\n",
              "      <td>0.000000</td>\n",
              "      <td>0.000000</td>\n",
              "      <td>0.000000</td>\n",
              "      <td>0.0</td>\n",
              "      <td>home decor festive needs</td>\n",
              "      <td>3.5</td>\n",
              "      <td>792.0</td>\n",
              "      <td>1</td>\n",
              "      <td>2</td>\n",
              "      <td>2019</td>\n",
              "    </tr>\n",
              "    <tr>\n",
              "      <th>3</th>\n",
              "      <td>0.0</td>\n",
              "      <td>0.0</td>\n",
              "      <td>0.0</td>\n",
              "      <td>0.0</td>\n",
              "      <td>0.000000</td>\n",
              "      <td>0.0</td>\n",
              "      <td>0.0</td>\n",
              "      <td>0.0</td>\n",
              "      <td>0.00000</td>\n",
              "      <td>0.0</td>\n",
              "      <td>0.0</td>\n",
              "      <td>0.0</td>\n",
              "      <td>0.0</td>\n",
              "      <td>0.0</td>\n",
              "      <td>0.0</td>\n",
              "      <td>0.0</td>\n",
              "      <td>0.000000</td>\n",
              "      <td>0.000000</td>\n",
              "      <td>0.000000</td>\n",
              "      <td>0.0</td>\n",
              "      <td>beauty and personal care</td>\n",
              "      <td>4.0</td>\n",
              "      <td>837.0</td>\n",
              "      <td>12</td>\n",
              "      <td>50</td>\n",
              "      <td>2014</td>\n",
              "    </tr>\n",
              "    <tr>\n",
              "      <th>4</th>\n",
              "      <td>0.0</td>\n",
              "      <td>0.0</td>\n",
              "      <td>0.0</td>\n",
              "      <td>0.0</td>\n",
              "      <td>0.546177</td>\n",
              "      <td>0.0</td>\n",
              "      <td>0.0</td>\n",
              "      <td>0.0</td>\n",
              "      <td>0.83767</td>\n",
              "      <td>0.0</td>\n",
              "      <td>0.0</td>\n",
              "      <td>0.0</td>\n",
              "      <td>0.0</td>\n",
              "      <td>0.0</td>\n",
              "      <td>0.0</td>\n",
              "      <td>0.0</td>\n",
              "      <td>0.000000</td>\n",
              "      <td>0.000000</td>\n",
              "      <td>0.000000</td>\n",
              "      <td>0.0</td>\n",
              "      <td>clothing</td>\n",
              "      <td>4.3</td>\n",
              "      <td>470.0</td>\n",
              "      <td>12</td>\n",
              "      <td>50</td>\n",
              "      <td>2013</td>\n",
              "    </tr>\n",
              "  </tbody>\n",
              "</table>\n",
              "</div>"
            ],
            "text/plain": [
              "   accessories  bangles  car  chains  ...  Selling_Price  Month  Week  Year\n",
              "0          0.0      0.0  0.0     0.0  ...          291.0      2     5  2017\n",
              "1          0.0      0.0  0.0     0.0  ...          897.0      7    27  2015\n",
              "2          0.0      0.0  0.0     0.0  ...          792.0      1     2  2019\n",
              "3          0.0      0.0  0.0     0.0  ...          837.0     12    50  2014\n",
              "4          0.0      0.0  0.0     0.0  ...          470.0     12    50  2013\n",
              "\n",
              "[5 rows x 26 columns]"
            ]
          },
          "metadata": {
            "tags": []
          },
          "execution_count": 331
        }
      ]
    },
    {
      "cell_type": "code",
      "metadata": {
        "id": "qpRuJ9gv748u",
        "colab_type": "code",
        "colab": {
          "base_uri": "https://localhost:8080/",
          "height": 85
        },
        "outputId": "3a8bc4ce-ab5d-41d5-c30b-20962353e106"
      },
      "source": [
        "total_df.Item_Rating.unique()"
      ],
      "execution_count": 440,
      "outputs": [
        {
          "output_type": "execute_result",
          "data": {
            "text/plain": [
              "array([4.3, 3.1, 3.5, 4. , 5. , 4.1, 2.4, 2.3, 1.5, 3.6, 4.6, 2.8, 3.2,\n",
              "       1. , 3.8, 1.7, 3. , 3.7, 1.2, 1.6, 1.4, 2. , 2.1, 2.5, 3.9, 3.4,\n",
              "       1.8, 3.3, 4.5, 2.6, 4.2, 1.3, 4.7, 2.7, 2.9, 1.1, 2.2, 4.8, 1.9,\n",
              "       4.4, 4.9])"
            ]
          },
          "metadata": {
            "tags": []
          },
          "execution_count": 440
        }
      ]
    },
    {
      "cell_type": "code",
      "metadata": {
        "id": "P3JkzOgw8CUY",
        "colab_type": "code",
        "colab": {}
      },
      "source": [
        "def ratings(value):\n",
        "  if value > 4 :\n",
        "    return 'Excellent'\n",
        "  elif value >= 3.5 :\n",
        "    return 'Good'\n",
        "  elif value >=2.5 :\n",
        "    return 'Average'\n",
        "  else:\n",
        "    return 'Bad'"
      ],
      "execution_count": 0,
      "outputs": []
    },
    {
      "cell_type": "code",
      "metadata": {
        "id": "hyfKzh8J8156",
        "colab_type": "code",
        "colab": {}
      },
      "source": [
        "total_df['Item_Rating'] = total_df['Item_Rating'].map(ratings)"
      ],
      "execution_count": 0,
      "outputs": []
    },
    {
      "cell_type": "markdown",
      "metadata": {
        "id": "BC677bcCx0Mt",
        "colab_type": "text"
      },
      "source": [
        "# Label Encoding using pandas"
      ]
    },
    {
      "cell_type": "code",
      "metadata": {
        "id": "7et0E-EaxTLA",
        "colab_type": "code",
        "colab": {}
      },
      "source": [
        "Cat_enc = pd.factorize(total_df['Item_Category'])[0].tolist()"
      ],
      "execution_count": 0,
      "outputs": []
    },
    {
      "cell_type": "code",
      "metadata": {
        "id": "uWmPsnHtxrfi",
        "colab_type": "code",
        "colab": {}
      },
      "source": [
        "total_df['Item_Category_enc'] = Cat_enc"
      ],
      "execution_count": 0,
      "outputs": []
    },
    {
      "cell_type": "code",
      "metadata": {
        "id": "TI4sFocBx6ZY",
        "colab_type": "code",
        "colab": {
          "base_uri": "https://localhost:8080/",
          "height": 275
        },
        "outputId": "30992acc-77a7-4a01-9873-50fd89dffbd5"
      },
      "source": [
        "total_df.head()"
      ],
      "execution_count": 444,
      "outputs": [
        {
          "output_type": "execute_result",
          "data": {
            "text/html": [
              "<div>\n",
              "<style scoped>\n",
              "    .dataframe tbody tr th:only-of-type {\n",
              "        vertical-align: middle;\n",
              "    }\n",
              "\n",
              "    .dataframe tbody tr th {\n",
              "        vertical-align: top;\n",
              "    }\n",
              "\n",
              "    .dataframe thead th {\n",
              "        text-align: right;\n",
              "    }\n",
              "</style>\n",
              "<table border=\"1\" class=\"dataframe\">\n",
              "  <thead>\n",
              "    <tr style=\"text-align: right;\">\n",
              "      <th></th>\n",
              "      <th>accessories</th>\n",
              "      <th>bangles</th>\n",
              "      <th>car</th>\n",
              "      <th>chains</th>\n",
              "      <th>clothing</th>\n",
              "      <th>exterior</th>\n",
              "      <th>footwear</th>\n",
              "      <th>interior</th>\n",
              "      <th>men</th>\n",
              "      <th>necklaces</th>\n",
              "      <th>parts</th>\n",
              "      <th>rings</th>\n",
              "      <th>sleep</th>\n",
              "      <th>spare</th>\n",
              "      <th>unknown</th>\n",
              "      <th>watches</th>\n",
              "      <th>wear</th>\n",
              "      <th>western</th>\n",
              "      <th>women</th>\n",
              "      <th>wrist</th>\n",
              "      <th>Item_Category</th>\n",
              "      <th>Item_Rating</th>\n",
              "      <th>Selling_Price</th>\n",
              "      <th>Month</th>\n",
              "      <th>Week</th>\n",
              "      <th>Year</th>\n",
              "      <th>Item_Category_enc</th>\n",
              "    </tr>\n",
              "  </thead>\n",
              "  <tbody>\n",
              "    <tr>\n",
              "      <th>0</th>\n",
              "      <td>0.0</td>\n",
              "      <td>0.0</td>\n",
              "      <td>0.0</td>\n",
              "      <td>0.0</td>\n",
              "      <td>0.000000</td>\n",
              "      <td>0.0</td>\n",
              "      <td>0.0</td>\n",
              "      <td>0.0</td>\n",
              "      <td>0.00000</td>\n",
              "      <td>0.0</td>\n",
              "      <td>0.0</td>\n",
              "      <td>0.0</td>\n",
              "      <td>0.0</td>\n",
              "      <td>0.0</td>\n",
              "      <td>0.0</td>\n",
              "      <td>0.0</td>\n",
              "      <td>0.000000</td>\n",
              "      <td>0.000000</td>\n",
              "      <td>0.000000</td>\n",
              "      <td>0.0</td>\n",
              "      <td>bags wallets belts</td>\n",
              "      <td>Excellent</td>\n",
              "      <td>291.0</td>\n",
              "      <td>2</td>\n",
              "      <td>5</td>\n",
              "      <td>2017</td>\n",
              "      <td>0</td>\n",
              "    </tr>\n",
              "    <tr>\n",
              "      <th>1</th>\n",
              "      <td>0.0</td>\n",
              "      <td>0.0</td>\n",
              "      <td>0.0</td>\n",
              "      <td>0.0</td>\n",
              "      <td>0.420847</td>\n",
              "      <td>0.0</td>\n",
              "      <td>0.0</td>\n",
              "      <td>0.0</td>\n",
              "      <td>0.00000</td>\n",
              "      <td>0.0</td>\n",
              "      <td>0.0</td>\n",
              "      <td>0.0</td>\n",
              "      <td>0.0</td>\n",
              "      <td>0.0</td>\n",
              "      <td>0.0</td>\n",
              "      <td>0.0</td>\n",
              "      <td>0.491887</td>\n",
              "      <td>0.609152</td>\n",
              "      <td>0.458115</td>\n",
              "      <td>0.0</td>\n",
              "      <td>clothing</td>\n",
              "      <td>Average</td>\n",
              "      <td>897.0</td>\n",
              "      <td>7</td>\n",
              "      <td>27</td>\n",
              "      <td>2015</td>\n",
              "      <td>1</td>\n",
              "    </tr>\n",
              "    <tr>\n",
              "      <th>2</th>\n",
              "      <td>0.0</td>\n",
              "      <td>0.0</td>\n",
              "      <td>0.0</td>\n",
              "      <td>0.0</td>\n",
              "      <td>0.000000</td>\n",
              "      <td>0.0</td>\n",
              "      <td>0.0</td>\n",
              "      <td>0.0</td>\n",
              "      <td>0.00000</td>\n",
              "      <td>0.0</td>\n",
              "      <td>0.0</td>\n",
              "      <td>0.0</td>\n",
              "      <td>0.0</td>\n",
              "      <td>0.0</td>\n",
              "      <td>0.0</td>\n",
              "      <td>0.0</td>\n",
              "      <td>0.000000</td>\n",
              "      <td>0.000000</td>\n",
              "      <td>0.000000</td>\n",
              "      <td>0.0</td>\n",
              "      <td>home decor festive needs</td>\n",
              "      <td>Good</td>\n",
              "      <td>792.0</td>\n",
              "      <td>1</td>\n",
              "      <td>2</td>\n",
              "      <td>2019</td>\n",
              "      <td>2</td>\n",
              "    </tr>\n",
              "    <tr>\n",
              "      <th>3</th>\n",
              "      <td>0.0</td>\n",
              "      <td>0.0</td>\n",
              "      <td>0.0</td>\n",
              "      <td>0.0</td>\n",
              "      <td>0.000000</td>\n",
              "      <td>0.0</td>\n",
              "      <td>0.0</td>\n",
              "      <td>0.0</td>\n",
              "      <td>0.00000</td>\n",
              "      <td>0.0</td>\n",
              "      <td>0.0</td>\n",
              "      <td>0.0</td>\n",
              "      <td>0.0</td>\n",
              "      <td>0.0</td>\n",
              "      <td>0.0</td>\n",
              "      <td>0.0</td>\n",
              "      <td>0.000000</td>\n",
              "      <td>0.000000</td>\n",
              "      <td>0.000000</td>\n",
              "      <td>0.0</td>\n",
              "      <td>beauty and personal care</td>\n",
              "      <td>Good</td>\n",
              "      <td>837.0</td>\n",
              "      <td>12</td>\n",
              "      <td>50</td>\n",
              "      <td>2014</td>\n",
              "      <td>3</td>\n",
              "    </tr>\n",
              "    <tr>\n",
              "      <th>4</th>\n",
              "      <td>0.0</td>\n",
              "      <td>0.0</td>\n",
              "      <td>0.0</td>\n",
              "      <td>0.0</td>\n",
              "      <td>0.546177</td>\n",
              "      <td>0.0</td>\n",
              "      <td>0.0</td>\n",
              "      <td>0.0</td>\n",
              "      <td>0.83767</td>\n",
              "      <td>0.0</td>\n",
              "      <td>0.0</td>\n",
              "      <td>0.0</td>\n",
              "      <td>0.0</td>\n",
              "      <td>0.0</td>\n",
              "      <td>0.0</td>\n",
              "      <td>0.0</td>\n",
              "      <td>0.000000</td>\n",
              "      <td>0.000000</td>\n",
              "      <td>0.000000</td>\n",
              "      <td>0.0</td>\n",
              "      <td>clothing</td>\n",
              "      <td>Excellent</td>\n",
              "      <td>470.0</td>\n",
              "      <td>12</td>\n",
              "      <td>50</td>\n",
              "      <td>2013</td>\n",
              "      <td>1</td>\n",
              "    </tr>\n",
              "  </tbody>\n",
              "</table>\n",
              "</div>"
            ],
            "text/plain": [
              "   accessories  bangles  car  chains  ...  Month  Week  Year  Item_Category_enc\n",
              "0          0.0      0.0  0.0     0.0  ...      2     5  2017                  0\n",
              "1          0.0      0.0  0.0     0.0  ...      7    27  2015                  1\n",
              "2          0.0      0.0  0.0     0.0  ...      1     2  2019                  2\n",
              "3          0.0      0.0  0.0     0.0  ...     12    50  2014                  3\n",
              "4          0.0      0.0  0.0     0.0  ...     12    50  2013                  1\n",
              "\n",
              "[5 rows x 27 columns]"
            ]
          },
          "metadata": {
            "tags": []
          },
          "execution_count": 444
        }
      ]
    },
    {
      "cell_type": "code",
      "metadata": {
        "id": "kg2qOJ_F9tA4",
        "colab_type": "code",
        "colab": {
          "base_uri": "https://localhost:8080/",
          "height": 318
        },
        "outputId": "a39ab223-3f57-4034-a15a-297005fa842b"
      },
      "source": [
        "sns.countplot(total_df['Item_Rating'])"
      ],
      "execution_count": 445,
      "outputs": [
        {
          "output_type": "execute_result",
          "data": {
            "text/plain": [
              "<matplotlib.axes._subplots.AxesSubplot at 0x7f09c9a670f0>"
            ]
          },
          "metadata": {
            "tags": []
          },
          "execution_count": 445
        },
        {
          "output_type": "display_data",
          "data": {
            "image/png": "[encoded data removed]",
            "text/plain": [
              "<Figure size 432x288 with 1 Axes>"
            ]
          },
          "metadata": {
            "tags": []
          }
        }
      ]
    },
    {
      "cell_type": "code",
      "metadata": {
        "id": "5HuOZXpriO9b",
        "colab_type": "code",
        "colab": {}
      },
      "source": [
        "final_train = total_df[total_df['Selling_Price'] > 0]\n",
        "final_test = total_df[total_df['Selling_Price'] == 0]"
      ],
      "execution_count": 0,
      "outputs": []
    },
    {
      "cell_type": "code",
      "metadata": {
        "id": "DHGfbB8LsWvc",
        "colab_type": "code",
        "colab": {
          "base_uri": "https://localhost:8080/",
          "height": 34
        },
        "outputId": "1589128c-acb9-4dd5-c407-3b9360f74639"
      },
      "source": [
        "final_train.shape"
      ],
      "execution_count": 450,
      "outputs": [
        {
          "output_type": "execute_result",
          "data": {
            "text/plain": [
              "(2452, 27)"
            ]
          },
          "metadata": {
            "tags": []
          },
          "execution_count": 450
        }
      ]
    },
    {
      "cell_type": "code",
      "metadata": {
        "id": "ixO9_xFFsadE",
        "colab_type": "code",
        "colab": {
          "base_uri": "https://localhost:8080/",
          "height": 34
        },
        "outputId": "ed2793eb-ad15-46cd-92dd-9f10c805eae5"
      },
      "source": [
        "final_test.shape"
      ],
      "execution_count": 451,
      "outputs": [
        {
          "output_type": "execute_result",
          "data": {
            "text/plain": [
              "(1051, 27)"
            ]
          },
          "metadata": {
            "tags": []
          },
          "execution_count": 451
        }
      ]
    },
    {
      "cell_type": "code",
      "metadata": {
        "id": "mDuEhmXmdxpo",
        "colab_type": "code",
        "colab": {}
      },
      "source": [
        "X = final_train.drop(['Selling_Price','Item_Category'],axis=1)\n",
        "y = final_train['Selling_Price']"
      ],
      "execution_count": 0,
      "outputs": []
    },
    {
      "cell_type": "code",
      "metadata": {
        "id": "j3hfyQR81d6L",
        "colab_type": "code",
        "colab": {
          "base_uri": "https://localhost:8080/",
          "height": 1000
        },
        "outputId": "f25cc196-a30a-45e1-f6cc-b2a536344ffc"
      },
      "source": [
        "matrix = np.triu(final_train.drop('Item_Category',axis=1).corr(), 1)\n",
        "matrix"
      ],
      "execution_count": 447,
      "outputs": [
        {
          "output_type": "execute_result",
          "data": {
            "text/plain": [
              "array([[ 0.00000000e+00, -6.95641522e-02,  2.31297254e-01,\n",
              "        -1.01299347e-01, -2.19413300e-01,  1.73655180e-01,\n",
              "        -1.02058206e-01,  1.73655180e-01, -9.08168864e-02,\n",
              "        -1.01906281e-01,  2.31935995e-01, -9.55477291e-02,\n",
              "        -8.50608014e-02,  2.44169599e-01, -1.20711906e-01,\n",
              "        -6.32477043e-02, -1.87586157e-01, -1.35052258e-01,\n",
              "        -2.07709839e-01, -5.80023224e-02, -7.70302658e-03,\n",
              "        -6.47023370e-02,  1.78839721e-02,  6.92646726e-03,\n",
              "         1.90429946e-02,  1.17300956e-01],\n",
              "       [ 0.00000000e+00,  0.00000000e+00, -4.58350222e-02,\n",
              "        -4.72115502e-02, -1.13688253e-01, -4.19022858e-02,\n",
              "        -4.75652236e-02, -4.19022858e-02, -5.68025937e-02,\n",
              "        -4.74944179e-02, -4.73916337e-02, -4.45309525e-02,\n",
              "        -3.96434174e-02, -4.92364352e-02, -5.62589630e-02,\n",
              "        -2.94772104e-02, -8.74263607e-02, -6.29424242e-02,\n",
              "        -9.91400899e-02, -2.97029223e-02,  9.76840114e-03,\n",
              "        -3.90149479e-02,  2.26850899e-01,  1.29743376e-01,\n",
              "        -2.55362503e-02,  3.85654550e-02],\n",
              "       [ 0.00000000e+00,  0.00000000e+00,  0.00000000e+00,\n",
              "        -6.67449783e-02, -1.60725923e-01,  7.64503672e-01,\n",
              "        -6.72449814e-02,  7.64503672e-01, -8.03042447e-02,\n",
              "        -6.71448803e-02,  6.13982090e-01, -6.29553031e-02,\n",
              "        -5.60455867e-02,  7.21975487e-01, -7.95356909e-02,\n",
              "        -4.16731871e-02, -1.23598368e-01, -8.89843844e-02,\n",
              "        -1.40158565e-01, -4.19922857e-02,  1.02795359e-04,\n",
              "        -4.72432227e-02, -1.74356735e-01, -1.47532885e-01,\n",
              "        -4.94790306e-02, -5.14004961e-02],\n",
              "       [ 0.00000000e+00,  0.00000000e+00,  0.00000000e+00,\n",
              "         0.00000000e+00, -1.65552881e-01, -6.10181259e-02,\n",
              "        -6.92644983e-02, -6.10181259e-02, -8.27159604e-02,\n",
              "         9.69875778e-01, -6.90117165e-02, -6.48459914e-02,\n",
              "        -5.77287608e-02, -7.16981173e-02, -8.19243252e-02,\n",
              "        -4.29247260e-02, -1.27310303e-01, -9.16567841e-02,\n",
              "        -1.44367840e-01, -4.32534078e-02, -3.10374349e-03,\n",
              "        -7.31316783e-02, -2.51891601e-01, -2.30577743e-01,\n",
              "        -3.19162627e-02,  5.73162022e-02],\n",
              "       [ 0.00000000e+00,  0.00000000e+00,  0.00000000e+00,\n",
              "         0.00000000e+00,  0.00000000e+00, -1.46935318e-01,\n",
              "        -1.66793079e-01, -1.46935318e-01,  3.86418820e-01,\n",
              "        -1.66544790e-01, -1.66184365e-01, -1.56153048e-01,\n",
              "         2.79483102e-01, -1.72653380e-01, -1.97278704e-01,\n",
              "        -1.03365323e-01,  6.80871307e-01,  4.37960177e-01,\n",
              "         5.51580944e-01, -1.04156808e-01, -7.79896263e-03,\n",
              "        -1.57521654e-01,  2.63656067e-01,  2.15995312e-01,\n",
              "         2.86492454e-02, -4.78198585e-01],\n",
              "       [ 0.00000000e+00,  0.00000000e+00,  0.00000000e+00,\n",
              "         0.00000000e+00,  0.00000000e+00,  0.00000000e+00,\n",
              "        -6.14752278e-02,  1.00000000e+00, -7.34139802e-02,\n",
              "        -6.13837155e-02,  6.49988866e-01, -5.75536124e-02,\n",
              "        -5.12367635e-02,  7.63120400e-01, -7.27113698e-02,\n",
              "        -3.80975445e-02, -1.12993381e-01, -8.13493466e-02,\n",
              "        -1.28132681e-01, -3.83892638e-02,  8.24977774e-04,\n",
              "        -3.80726042e-02, -1.97942032e-01, -1.73402258e-01,\n",
              "        -6.09854042e-02, -5.06426973e-02],\n",
              "       [ 0.00000000e+00,  0.00000000e+00,  0.00000000e+00,\n",
              "         0.00000000e+00,  0.00000000e+00,  0.00000000e+00,\n",
              "         0.00000000e+00, -6.14752278e-02,  1.48468563e-01,\n",
              "        -6.96794960e-02, -6.95287003e-02, -6.53317688e-02,\n",
              "        -5.81612212e-02, -7.22352256e-02, -8.25380406e-02,\n",
              "        -4.32462857e-02, -1.28264016e-01, -9.23434078e-02,\n",
              "         2.96145461e-01, -4.35774297e-02,  3.94304298e-03,\n",
              "        -5.34957829e-02,  1.03400543e-01,  1.05433922e-01,\n",
              "         2.29757284e-02, -1.14520170e-01],\n",
              "       [ 0.00000000e+00,  0.00000000e+00,  0.00000000e+00,\n",
              "         0.00000000e+00,  0.00000000e+00,  0.00000000e+00,\n",
              "         0.00000000e+00,  0.00000000e+00, -7.34139802e-02,\n",
              "        -6.13837155e-02,  6.49988866e-01, -5.75536124e-02,\n",
              "        -5.12367635e-02,  7.63120400e-01, -7.27113698e-02,\n",
              "        -3.80975445e-02, -1.12993381e-01, -8.13493466e-02,\n",
              "        -1.28132681e-01, -3.83892638e-02,  8.24977774e-04,\n",
              "        -3.80726042e-02, -1.97942032e-01, -1.73402258e-01,\n",
              "        -6.09854042e-02, -5.06426973e-02],\n",
              "       [ 0.00000000e+00,  0.00000000e+00,  0.00000000e+00,\n",
              "         0.00000000e+00,  0.00000000e+00,  0.00000000e+00,\n",
              "         0.00000000e+00,  0.00000000e+00,  0.00000000e+00,\n",
              "        -8.32115525e-02, -8.30314716e-02, -7.80194780e-02,\n",
              "        -5.37217264e-02, -8.62636157e-02, -9.85672814e-02,\n",
              "        -5.16448995e-02, -3.74641667e-02, -1.10276893e-01,\n",
              "        -1.73696219e-01, -5.20403532e-02, -2.28633249e-02,\n",
              "        -6.83618416e-02,  2.62728128e-01,  2.64247763e-01,\n",
              "        -1.82834797e-02, -2.18242979e-01],\n",
              "       [ 0.00000000e+00,  0.00000000e+00,  0.00000000e+00,\n",
              "         0.00000000e+00,  0.00000000e+00,  0.00000000e+00,\n",
              "         0.00000000e+00,  0.00000000e+00,  0.00000000e+00,\n",
              "         0.00000000e+00, -6.94251997e-02, -6.52345157e-02,\n",
              "        -5.80746422e-02, -7.21276960e-02, -8.24151742e-02,\n",
              "        -4.31819091e-02, -1.28073081e-01, -9.22059451e-02,\n",
              "        -1.45232819e-01, -4.35125602e-02, -7.79266778e-03,\n",
              "        -7.34729412e-02, -2.61497726e-01, -2.40754919e-01,\n",
              "        -3.71518989e-02,  5.64955079e-02],\n",
              "       [ 0.00000000e+00,  0.00000000e+00,  0.00000000e+00,\n",
              "         0.00000000e+00,  0.00000000e+00,  0.00000000e+00,\n",
              "         0.00000000e+00,  0.00000000e+00,  0.00000000e+00,\n",
              "         0.00000000e+00,  0.00000000e+00, -6.50933395e-02,\n",
              "        -5.79489610e-02,  9.58744662e-01, -8.22368168e-02,\n",
              "        -4.30884578e-02, -1.27795914e-01, -9.20063992e-02,\n",
              "        -1.44918516e-01, -4.34183933e-02, -1.75393392e-02,\n",
              "        -5.24100215e-02, -1.09660551e-01, -1.37025593e-01,\n",
              "        -4.35804383e-02, -5.72770700e-02],\n",
              "       [ 0.00000000e+00,  0.00000000e+00,  0.00000000e+00,\n",
              "         0.00000000e+00,  0.00000000e+00,  0.00000000e+00,\n",
              "         0.00000000e+00,  0.00000000e+00,  0.00000000e+00,\n",
              "         0.00000000e+00,  0.00000000e+00,  0.00000000e+00,\n",
              "        -5.44510123e-02, -6.76272107e-02,  5.62760900e-01,\n",
              "        -4.04875274e-02, -1.20081823e-01, -8.64526557e-02,\n",
              "        -1.36170860e-01, -4.07975471e-02, -4.67912583e-02,\n",
              "         7.18528992e-01, -1.85141033e-01, -6.31506029e-02,\n",
              "         4.89189029e-02,  5.29704098e-02],\n",
              "       [ 0.00000000e+00,  0.00000000e+00,  0.00000000e+00,\n",
              "         0.00000000e+00,  0.00000000e+00,  0.00000000e+00,\n",
              "         0.00000000e+00,  0.00000000e+00,  0.00000000e+00,\n",
              "         0.00000000e+00,  0.00000000e+00,  0.00000000e+00,\n",
              "         0.00000000e+00, -6.02047248e-02, -6.87916453e-02,\n",
              "        -3.60437821e-02, -8.46608965e-02, -7.69639661e-02,\n",
              "         3.44956898e-01, -3.63197753e-02,  2.12062981e-02,\n",
              "        -6.59376254e-02,  4.89201074e-02,  5.54250931e-02,\n",
              "         5.25000012e-02, -1.66749207e-01],\n",
              "       [ 0.00000000e+00,  0.00000000e+00,  0.00000000e+00,\n",
              "         0.00000000e+00,  0.00000000e+00,  0.00000000e+00,\n",
              "         0.00000000e+00,  0.00000000e+00,  0.00000000e+00,\n",
              "         0.00000000e+00,  0.00000000e+00,  0.00000000e+00,\n",
              "         0.00000000e+00,  0.00000000e+00, -8.54380276e-02,\n",
              "        -4.47657507e-02, -1.32770592e-01, -9.55879079e-02,\n",
              "        -1.50559720e-01, -4.51085296e-02, -1.75872350e-02,\n",
              "        -5.26507702e-02, -1.60934320e-01, -1.63491362e-01,\n",
              "        -5.18072758e-02, -5.95066793e-02],\n",
              "       [ 0.00000000e+00,  0.00000000e+00,  0.00000000e+00,\n",
              "         0.00000000e+00,  0.00000000e+00,  0.00000000e+00,\n",
              "         0.00000000e+00,  0.00000000e+00,  0.00000000e+00,\n",
              "         0.00000000e+00,  0.00000000e+00,  0.00000000e+00,\n",
              "         0.00000000e+00,  0.00000000e+00,  0.00000000e+00,\n",
              "        -5.11506307e-02, -1.51707486e-01, -1.09221485e-01,\n",
              "        -1.72033855e-01, -5.15422996e-02, -4.76791848e-02,\n",
              "         4.42452343e-01, -7.46178251e-03,  6.72151142e-02,\n",
              "         2.76727829e-02,  4.28759261e-01],\n",
              "       [ 0.00000000e+00,  0.00000000e+00,  0.00000000e+00,\n",
              "         0.00000000e+00,  0.00000000e+00,  0.00000000e+00,\n",
              "         0.00000000e+00,  0.00000000e+00,  0.00000000e+00,\n",
              "         0.00000000e+00,  0.00000000e+00,  0.00000000e+00,\n",
              "         0.00000000e+00,  0.00000000e+00,  0.00000000e+00,\n",
              "         0.00000000e+00, -7.94880184e-02, -5.72272314e-02,\n",
              "        -9.01381372e-02,  9.88493725e-01,  3.89613650e-02,\n",
              "        -3.75084801e-02,  5.17108862e-02,  4.93139231e-02,\n",
              "         3.18013877e-02,  2.64804803e-01],\n",
              "       [ 0.00000000e+00,  0.00000000e+00,  0.00000000e+00,\n",
              "         0.00000000e+00,  0.00000000e+00,  0.00000000e+00,\n",
              "         0.00000000e+00,  0.00000000e+00,  0.00000000e+00,\n",
              "         0.00000000e+00,  0.00000000e+00,  0.00000000e+00,\n",
              "         0.00000000e+00,  0.00000000e+00,  0.00000000e+00,\n",
              "         0.00000000e+00,  0.00000000e+00,  5.48458919e-01,\n",
              "         4.86249986e-01, -8.00966715e-02, -5.17745684e-03,\n",
              "        -1.17657597e-01,  1.41789291e-01,  8.67514931e-02,\n",
              "         1.10134049e-02, -2.94365066e-01],\n",
              "       [ 0.00000000e+00,  0.00000000e+00,  0.00000000e+00,\n",
              "         0.00000000e+00,  0.00000000e+00,  0.00000000e+00,\n",
              "         0.00000000e+00,  0.00000000e+00,  0.00000000e+00,\n",
              "         0.00000000e+00,  0.00000000e+00,  0.00000000e+00,\n",
              "         0.00000000e+00,  0.00000000e+00,  0.00000000e+00,\n",
              "         0.00000000e+00,  0.00000000e+00,  0.00000000e+00,\n",
              "         5.59583501e-01, -5.76654299e-02,  4.24127178e-02,\n",
              "        -9.11298630e-02,  1.22168734e-01,  2.22339073e-02,\n",
              "        -3.07011847e-02, -2.64750116e-01],\n",
              "       [ 0.00000000e+00,  0.00000000e+00,  0.00000000e+00,\n",
              "         0.00000000e+00,  0.00000000e+00,  0.00000000e+00,\n",
              "         0.00000000e+00,  0.00000000e+00,  0.00000000e+00,\n",
              "         0.00000000e+00,  0.00000000e+00,  0.00000000e+00,\n",
              "         0.00000000e+00,  0.00000000e+00,  0.00000000e+00,\n",
              "         0.00000000e+00,  0.00000000e+00,  0.00000000e+00,\n",
              "         0.00000000e+00, -9.08283400e-02,  2.07327913e-02,\n",
              "        -1.38809179e-01,  1.43571476e-01,  8.49199194e-02,\n",
              "         4.02282534e-02, -3.82447386e-01],\n",
              "       [ 0.00000000e+00,  0.00000000e+00,  0.00000000e+00,\n",
              "         0.00000000e+00,  0.00000000e+00,  0.00000000e+00,\n",
              "         0.00000000e+00,  0.00000000e+00,  0.00000000e+00,\n",
              "         0.00000000e+00,  0.00000000e+00,  0.00000000e+00,\n",
              "         0.00000000e+00,  0.00000000e+00,  0.00000000e+00,\n",
              "         0.00000000e+00,  0.00000000e+00,  0.00000000e+00,\n",
              "         0.00000000e+00,  0.00000000e+00,  4.16770639e-02,\n",
              "        -3.81055628e-02,  5.06508560e-02,  4.83246969e-02,\n",
              "         3.13732923e-02,  2.66832457e-01],\n",
              "       [ 0.00000000e+00,  0.00000000e+00,  0.00000000e+00,\n",
              "         0.00000000e+00,  0.00000000e+00,  0.00000000e+00,\n",
              "         0.00000000e+00,  0.00000000e+00,  0.00000000e+00,\n",
              "         0.00000000e+00,  0.00000000e+00,  0.00000000e+00,\n",
              "         0.00000000e+00,  0.00000000e+00,  0.00000000e+00,\n",
              "         0.00000000e+00,  0.00000000e+00,  0.00000000e+00,\n",
              "         0.00000000e+00,  0.00000000e+00,  0.00000000e+00,\n",
              "        -1.36864569e-02,  3.38770631e-03, -4.15578868e-03,\n",
              "         8.84248528e-03, -1.13452111e-02],\n",
              "       [ 0.00000000e+00,  0.00000000e+00,  0.00000000e+00,\n",
              "         0.00000000e+00,  0.00000000e+00,  0.00000000e+00,\n",
              "         0.00000000e+00,  0.00000000e+00,  0.00000000e+00,\n",
              "         0.00000000e+00,  0.00000000e+00,  0.00000000e+00,\n",
              "         0.00000000e+00,  0.00000000e+00,  0.00000000e+00,\n",
              "         0.00000000e+00,  0.00000000e+00,  0.00000000e+00,\n",
              "         0.00000000e+00,  0.00000000e+00,  0.00000000e+00,\n",
              "         0.00000000e+00, -1.37166128e-01, -4.02105280e-02,\n",
              "         1.58829916e-02,  7.78269004e-02],\n",
              "       [ 0.00000000e+00,  0.00000000e+00,  0.00000000e+00,\n",
              "         0.00000000e+00,  0.00000000e+00,  0.00000000e+00,\n",
              "         0.00000000e+00,  0.00000000e+00,  0.00000000e+00,\n",
              "         0.00000000e+00,  0.00000000e+00,  0.00000000e+00,\n",
              "         0.00000000e+00,  0.00000000e+00,  0.00000000e+00,\n",
              "         0.00000000e+00,  0.00000000e+00,  0.00000000e+00,\n",
              "         0.00000000e+00,  0.00000000e+00,  0.00000000e+00,\n",
              "         0.00000000e+00,  0.00000000e+00,  7.65680652e-01,\n",
              "        -3.11367715e-02, -3.68619944e-02],\n",
              "       [ 0.00000000e+00,  0.00000000e+00,  0.00000000e+00,\n",
              "         0.00000000e+00,  0.00000000e+00,  0.00000000e+00,\n",
              "         0.00000000e+00,  0.00000000e+00,  0.00000000e+00,\n",
              "         0.00000000e+00,  0.00000000e+00,  0.00000000e+00,\n",
              "         0.00000000e+00,  0.00000000e+00,  0.00000000e+00,\n",
              "         0.00000000e+00,  0.00000000e+00,  0.00000000e+00,\n",
              "         0.00000000e+00,  0.00000000e+00,  0.00000000e+00,\n",
              "         0.00000000e+00,  0.00000000e+00,  0.00000000e+00,\n",
              "         4.92637557e-02, -6.34014116e-03],\n",
              "       [ 0.00000000e+00,  0.00000000e+00,  0.00000000e+00,\n",
              "         0.00000000e+00,  0.00000000e+00,  0.00000000e+00,\n",
              "         0.00000000e+00,  0.00000000e+00,  0.00000000e+00,\n",
              "         0.00000000e+00,  0.00000000e+00,  0.00000000e+00,\n",
              "         0.00000000e+00,  0.00000000e+00,  0.00000000e+00,\n",
              "         0.00000000e+00,  0.00000000e+00,  0.00000000e+00,\n",
              "         0.00000000e+00,  0.00000000e+00,  0.00000000e+00,\n",
              "         0.00000000e+00,  0.00000000e+00,  0.00000000e+00,\n",
              "         0.00000000e+00,  2.76203490e-02],\n",
              "       [ 0.00000000e+00,  0.00000000e+00,  0.00000000e+00,\n",
              "         0.00000000e+00,  0.00000000e+00,  0.00000000e+00,\n",
              "         0.00000000e+00,  0.00000000e+00,  0.00000000e+00,\n",
              "         0.00000000e+00,  0.00000000e+00,  0.00000000e+00,\n",
              "         0.00000000e+00,  0.00000000e+00,  0.00000000e+00,\n",
              "         0.00000000e+00,  0.00000000e+00,  0.00000000e+00,\n",
              "         0.00000000e+00,  0.00000000e+00,  0.00000000e+00,\n",
              "         0.00000000e+00,  0.00000000e+00,  0.00000000e+00,\n",
              "         0.00000000e+00,  0.00000000e+00]])"
            ]
          },
          "metadata": {
            "tags": []
          },
          "execution_count": 447
        }
      ]
    },
    {
      "cell_type": "code",
      "metadata": {
        "id": "zxQ_Ahff18A5",
        "colab_type": "code",
        "colab": {
          "base_uri": "https://localhost:8080/",
          "height": 838
        },
        "outputId": "ba906762-f582-432b-8e08-e2269ca10af9"
      },
      "source": [
        "plt.figure(figsize = (20, 11))\n",
        "sns.heatmap(final_train.drop('Item_Category',axis=1).corr(), annot = True, square = True, mask = matrix, linewidths = 0.7, annot_kws = {'size': 10})\n",
        "plt.title('Correlation Matrix', fontsize = 20)\n",
        "plt.tick_params(labelsize = 14)\n",
        "plt.show()"
      ],
      "execution_count": 448,
      "outputs": [
        {
          "output_type": "display_data",
          "data": {
            "image/png": "[encoded data removed]",
            "text/plain": [
              "<Figure size 1440x792 with 2 Axes>"
            ]
          },
          "metadata": {
            "tags": []
          }
        }
      ]
    },
    {
      "cell_type": "code",
      "metadata": {
        "id": "Qk2vX-JnG5Jh",
        "colab_type": "code",
        "colab": {
          "base_uri": "https://localhost:8080/",
          "height": 561
        },
        "outputId": "3c7302f3-d266-468e-a9c1-e479ccdaf149"
      },
      "source": [
        "X.info()"
      ],
      "execution_count": 391,
      "outputs": [
        {
          "output_type": "stream",
          "text": [
            "<class 'pandas.core.frame.DataFrame'>\n",
            "Int64Index: 2452 entries, 0 to 2451\n",
            "Data columns (total 25 columns):\n",
            " #   Column             Non-Null Count  Dtype  \n",
            "---  ------             --------------  -----  \n",
            " 0   accessories        2452 non-null   float64\n",
            " 1   bangles            2452 non-null   float64\n",
            " 2   car                2452 non-null   float64\n",
            " 3   chains             2452 non-null   float64\n",
            " 4   clothing           2452 non-null   float64\n",
            " 5   exterior           2452 non-null   float64\n",
            " 6   footwear           2452 non-null   float64\n",
            " 7   interior           2452 non-null   float64\n",
            " 8   men                2452 non-null   float64\n",
            " 9   necklaces          2452 non-null   float64\n",
            " 10  parts              2452 non-null   float64\n",
            " 11  rings              2452 non-null   float64\n",
            " 12  sleep              2452 non-null   float64\n",
            " 13  spare              2452 non-null   float64\n",
            " 14  unknown            2452 non-null   float64\n",
            " 15  watches            2452 non-null   float64\n",
            " 16  wear               2452 non-null   float64\n",
            " 17  western            2452 non-null   float64\n",
            " 18  women              2452 non-null   float64\n",
            " 19  wrist              2452 non-null   float64\n",
            " 20  Item_Rating        2452 non-null   float64\n",
            " 21  Month              2452 non-null   int64  \n",
            " 22  Week               2452 non-null   int64  \n",
            " 23  Year               2452 non-null   int64  \n",
            " 24  Item_Category_enc  2452 non-null   int64  \n",
            "dtypes: float64(21), int64(4)\n",
            "memory usage: 498.1 KB\n"
          ],
          "name": "stdout"
        }
      ]
    },
    {
      "cell_type": "code",
      "metadata": {
        "id": "1tzPuzz5wiE1",
        "colab_type": "code",
        "colab": {
          "base_uri": "https://localhost:8080/",
          "height": 34
        },
        "outputId": "eaf2b41f-c4d6-46f9-edce-12f5f85c1bd1"
      },
      "source": [
        "total_df.isnull().sum()[total_df.isnull().sum() > 0]"
      ],
      "execution_count": 456,
      "outputs": [
        {
          "output_type": "execute_result",
          "data": {
            "text/plain": [
              "Series([], dtype: int64)"
            ]
          },
          "metadata": {
            "tags": []
          },
          "execution_count": 456
        }
      ]
    },
    {
      "cell_type": "code",
      "metadata": {
        "id": "6cesiosaDIcq",
        "colab_type": "code",
        "colab": {}
      },
      "source": [
        "from sklearn.model_selection import train_test_split,StratifiedKFold\n",
        "X_train, X_validation, y_train, y_validation = train_test_split(X, y, train_size=0.8, random_state=1234)"
      ],
      "execution_count": 0,
      "outputs": []
    },
    {
      "cell_type": "code",
      "metadata": {
        "id": "yD-_7NG2HAOi",
        "colab_type": "code",
        "colab": {}
      },
      "source": [
        "categorical_features_indices = np.where(X.dtypes != np.float)[0]"
      ],
      "execution_count": 0,
      "outputs": []
    },
    {
      "cell_type": "code",
      "metadata": {
        "id": "vzAw-_TRHCVJ",
        "colab_type": "code",
        "colab": {
          "base_uri": "https://localhost:8080/",
          "height": 34
        },
        "outputId": "523c9c6c-b2bc-4faa-d354-dd8f83546dc4"
      },
      "source": [
        "categorical_features_indices "
      ],
      "execution_count": 459,
      "outputs": [
        {
          "output_type": "execute_result",
          "data": {
            "text/plain": [
              "array([20, 21, 22, 23, 24])"
            ]
          },
          "metadata": {
            "tags": []
          },
          "execution_count": 459
        }
      ]
    },
    {
      "cell_type": "code",
      "metadata": {
        "id": "l9B-sQEkHEBq",
        "colab_type": "code",
        "colab": {
          "base_uri": "https://localhost:8080/",
          "height": 102
        },
        "outputId": "01221d8f-3030-4963-c5a1-a7938136f6e4"
      },
      "source": [
        "from sklearn.metrics import mean_squared_log_error\n",
        "Sk = StratifiedKFold(n_splits=5, random_state=None, shuffle=False)\n",
        "final_score = []\n",
        "for train_index, test_index in Sk.split(X, y):\n",
        "  X_train, X_test = X.iloc[train_index], X.iloc[test_index]\n",
        "  y_train, y_test = y.iloc[train_index], y.iloc[test_index]\n",
        "  model=CatBoostRegressor(iterations=1000, depth=15, learning_rate=0.01,loss_function='RMSE',verbose=0)\n",
        "  model.fit(X_train, y_train,cat_features=categorical_features_indices)\n",
        "  scores = np.sqrt(mean_squared_log_error(y_validation,model.predict(X_validation)))\n",
        "  final_score.append(scores)\n",
        "  print(scores)"
      ],
      "execution_count": 467,
      "outputs": [
        {
          "output_type": "stream",
          "text": [
            "0.7789744877835139\n",
            "0.7794232597922746\n",
            "0.7789590378427517\n",
            "0.7740814967371858\n",
            "0.7546290953321976\n"
          ],
          "name": "stdout"
        }
      ]
    },
    {
      "cell_type": "code",
      "metadata": {
        "id": "pjOWvgqgJ3zN",
        "colab_type": "code",
        "colab": {}
      },
      "source": [
        "test_dat = final_test[X.columns]"
      ],
      "execution_count": 0,
      "outputs": []
    },
    {
      "cell_type": "code",
      "metadata": {
        "id": "c90J2CvVJpUf",
        "colab_type": "code",
        "colab": {
          "base_uri": "https://localhost:8080/",
          "height": 34
        },
        "outputId": "17d77d75-2822-4f38-ae6c-eb4da24b46d3"
      },
      "source": [
        "test_dat.shape"
      ],
      "execution_count": 469,
      "outputs": [
        {
          "output_type": "execute_result",
          "data": {
            "text/plain": [
              "(1051, 25)"
            ]
          },
          "metadata": {
            "tags": []
          },
          "execution_count": 469
        }
      ]
    },
    {
      "cell_type": "code",
      "metadata": {
        "id": "d0Ira4J9LCaz",
        "colab_type": "code",
        "colab": {}
      },
      "source": [
        "y_pred = model.predict(X_test)"
      ],
      "execution_count": 0,
      "outputs": []
    },
    {
      "cell_type": "code",
      "metadata": {
        "id": "dgFrwMKtLVfJ",
        "colab_type": "code",
        "colab": {
          "base_uri": "https://localhost:8080/",
          "height": 34
        },
        "outputId": "b69b0cf9-3fda-4e72-d436-a850be61f87c"
      },
      "source": [
        "from sklearn.metrics import mean_squared_log_error\n",
        "np.sqrt(mean_squared_log_error(y_test,y_pred))"
      ],
      "execution_count": 472,
      "outputs": [
        {
          "output_type": "execute_result",
          "data": {
            "text/plain": [
              "0.813745439690254"
            ]
          },
          "metadata": {
            "tags": []
          },
          "execution_count": 472
        }
      ]
    },
    {
      "cell_type": "code",
      "metadata": {
        "id": "WAvTm8kDQtXZ",
        "colab_type": "code",
        "colab": {}
      },
      "source": [
        "selling_price = model.predict(test_dat)"
      ],
      "execution_count": 0,
      "outputs": []
    },
    {
      "cell_type": "code",
      "metadata": {
        "id": "PC_r8FKFRKgR",
        "colab_type": "code",
        "colab": {}
      },
      "source": [
        "df_test ['Selling_Price'] = selling_price"
      ],
      "execution_count": 0,
      "outputs": []
    },
    {
      "cell_type": "code",
      "metadata": {
        "id": "6lhqXtWORjIo",
        "colab_type": "code",
        "colab": {
          "base_uri": "https://localhost:8080/",
          "height": 343
        },
        "outputId": "06d38248-fe53-4315-f3fd-f0d58bcd15d2"
      },
      "source": [
        "df_test.head()"
      ],
      "execution_count": 475,
      "outputs": [
        {
          "output_type": "execute_result",
          "data": {
            "text/html": [
              "<div>\n",
              "<style scoped>\n",
              "    .dataframe tbody tr th:only-of-type {\n",
              "        vertical-align: middle;\n",
              "    }\n",
              "\n",
              "    .dataframe tbody tr th {\n",
              "        vertical-align: top;\n",
              "    }\n",
              "\n",
              "    .dataframe thead th {\n",
              "        text-align: right;\n",
              "    }\n",
              "</style>\n",
              "<table border=\"1\" class=\"dataframe\">\n",
              "  <thead>\n",
              "    <tr style=\"text-align: right;\">\n",
              "      <th></th>\n",
              "      <th>Product</th>\n",
              "      <th>Product_Brand</th>\n",
              "      <th>Item_Category</th>\n",
              "      <th>Subcategory_1</th>\n",
              "      <th>Subcategory_2</th>\n",
              "      <th>Item_Rating</th>\n",
              "      <th>Date</th>\n",
              "      <th>Month</th>\n",
              "      <th>Week</th>\n",
              "      <th>Year</th>\n",
              "      <th>cat_description</th>\n",
              "      <th>Selling_Price</th>\n",
              "    </tr>\n",
              "  </thead>\n",
              "  <tbody>\n",
              "    <tr>\n",
              "      <th>0</th>\n",
              "      <td>P-11284</td>\n",
              "      <td>B-2984</td>\n",
              "      <td>computers</td>\n",
              "      <td>network components</td>\n",
              "      <td>routers</td>\n",
              "      <td>4.3</td>\n",
              "      <td>2018-01-12</td>\n",
              "      <td>1</td>\n",
              "      <td>2</td>\n",
              "      <td>2018</td>\n",
              "      <td>network components routers</td>\n",
              "      <td>2501.906937</td>\n",
              "    </tr>\n",
              "    <tr>\n",
              "      <th>1</th>\n",
              "      <td>P-6580</td>\n",
              "      <td>B-1732</td>\n",
              "      <td>jewellery</td>\n",
              "      <td>bangles bracelets armlets</td>\n",
              "      <td>bracelets</td>\n",
              "      <td>3.0</td>\n",
              "      <td>2012-12-20</td>\n",
              "      <td>12</td>\n",
              "      <td>51</td>\n",
              "      <td>2012</td>\n",
              "      <td>bangles bracelets armlets bracelets</td>\n",
              "      <td>647.551397</td>\n",
              "    </tr>\n",
              "    <tr>\n",
              "      <th>2</th>\n",
              "      <td>P-5843</td>\n",
              "      <td>B-3078</td>\n",
              "      <td>clothing</td>\n",
              "      <td>women s clothing</td>\n",
              "      <td>western wear</td>\n",
              "      <td>1.5</td>\n",
              "      <td>2014-01-12</td>\n",
              "      <td>1</td>\n",
              "      <td>2</td>\n",
              "      <td>2014</td>\n",
              "      <td>women s clothing western wear</td>\n",
              "      <td>1034.193468</td>\n",
              "    </tr>\n",
              "    <tr>\n",
              "      <th>3</th>\n",
              "      <td>P-5334</td>\n",
              "      <td>B-1421</td>\n",
              "      <td>jewellery</td>\n",
              "      <td>necklaces chains</td>\n",
              "      <td>necklaces</td>\n",
              "      <td>3.9</td>\n",
              "      <td>2019-01-12</td>\n",
              "      <td>1</td>\n",
              "      <td>2</td>\n",
              "      <td>2019</td>\n",
              "      <td>necklaces chains necklaces</td>\n",
              "      <td>457.447587</td>\n",
              "    </tr>\n",
              "    <tr>\n",
              "      <th>4</th>\n",
              "      <td>P-5586</td>\n",
              "      <td>B-3078</td>\n",
              "      <td>clothing</td>\n",
              "      <td>women s clothing</td>\n",
              "      <td>western wear</td>\n",
              "      <td>1.4</td>\n",
              "      <td>2017-01-12</td>\n",
              "      <td>1</td>\n",
              "      <td>2</td>\n",
              "      <td>2017</td>\n",
              "      <td>women s clothing western wear</td>\n",
              "      <td>1026.540236</td>\n",
              "    </tr>\n",
              "  </tbody>\n",
              "</table>\n",
              "</div>"
            ],
            "text/plain": [
              "   Product Product_Brand  ...                      cat_description Selling_Price\n",
              "0  P-11284        B-2984  ...           network components routers   2501.906937\n",
              "1   P-6580        B-1732  ...  bangles bracelets armlets bracelets    647.551397\n",
              "2   P-5843        B-3078  ...        women s clothing western wear   1034.193468\n",
              "3   P-5334        B-1421  ...           necklaces chains necklaces    457.447587\n",
              "4   P-5586        B-3078  ...        women s clothing western wear   1026.540236\n",
              "\n",
              "[5 rows x 12 columns]"
            ]
          },
          "metadata": {
            "tags": []
          },
          "execution_count": 475
        }
      ]
    },
    {
      "cell_type": "code",
      "metadata": {
        "id": "BpBxQHheRlVx",
        "colab_type": "code",
        "colab": {
          "base_uri": "https://localhost:8080/",
          "height": 51
        },
        "outputId": "f42ee358-c5b8-4593-b592-bc2375f41f01"
      },
      "source": [
        "selling_price "
      ],
      "execution_count": 477,
      "outputs": [
        {
          "output_type": "execute_result",
          "data": {
            "text/plain": [
              "array([2501.90693684,  647.55139712, 1034.19346787, ..., 1342.55726621,\n",
              "        952.27749298, 2071.62382017])"
            ]
          },
          "metadata": {
            "tags": []
          },
          "execution_count": 477
        }
      ]
    },
    {
      "cell_type": "code",
      "metadata": {
        "id": "SSgVr3jwUdZw",
        "colab_type": "code",
        "colab": {}
      },
      "source": [
        " df_test['Selling_Price'].to_excel('sub1.xlsx',index=False)"
      ],
      "execution_count": 0,
      "outputs": []
    },
    {
      "cell_type": "code",
      "metadata": {
        "id": "N8ZtGzzRLK5M",
        "colab_type": "code",
        "colab": {
          "base_uri": "https://localhost:8080/",
          "height": 34
        },
        "outputId": "5a9650ad-e8d1-4016-a120-3fb6cd76a335"
      },
      "source": [
        "df_test['Selling_Price'].shape"
      ],
      "execution_count": 481,
      "outputs": [
        {
          "output_type": "execute_result",
          "data": {
            "text/plain": [
              "(1051,)"
            ]
          },
          "metadata": {
            "tags": []
          },
          "execution_count": 481
        }
      ]
    },
    {
      "cell_type": "code",
      "metadata": {
        "id": "5Aw13WHdLSbR",
        "colab_type": "code",
        "colab": {}
      },
      "source": [
        ""
      ],
      "execution_count": 0,
      "outputs": []
    }
  ]
}