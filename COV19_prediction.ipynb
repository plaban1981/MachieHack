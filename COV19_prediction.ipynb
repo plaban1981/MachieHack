{
  "nbformat": 4,
  "nbformat_minor": 0,
  "metadata": {
    "colab": {
      "name": "COV19_prediction.ipynb",
      "provenance": [],
      "authorship_tag": "ABX9TyPj212vPB2K3kvuL8ft7/34",
      "include_colab_link": true
    },
    "kernelspec": {
      "name": "python3",
      "display_name": "Python 3"
    }
  },
  "cells": [
    {
      "cell_type": "markdown",
      "metadata": {
        "id": "view-in-github",
        "colab_type": "text"
      },
      "source": [
        "<a href=\"https://colab.research.google.com/github/plaban1981/MachieHack/blob/master/COV19_prediction.ipynb\" target=\"_parent\"><img src=\"https://colab.research.google.com/assets/colab-badge.svg\" alt=\"Open In Colab\"/></a>"
      ]
    },
    {
      "cell_type": "markdown",
      "metadata": {
        "id": "mIudpVRoSIsZ",
        "colab_type": "text"
      },
      "source": [
        "## The Objective Of The Hackathon\n",
        "In the coming weeks and months, we at MachineHack (an Analytics India Magazine initiative) along with our community members will ominously examine how the coronavirus could affect different nations.\n",
        "\n",
        "Thereby, we invite MachineHackers to predict potential COVID-19 cases across all the globe on an everyday basis. The objective of the hackathon is to gauge COVID-19 on three metrics- confirmed cases, recovered cases and death events for the next day using historical data as on a given date.\n",
        "\n",
        "As sad as it is to analyse the data around COVID-19 events, it is critical to keep a tab on the disease metrics to track the outbreak. The hackathon will be based on the data published by various agencies and the Johns Hopkins University Center for Systems Science and Engineering (JHU CSSE), which can be found below-"
      ]
    },
    {
      "cell_type": "markdown",
      "metadata": {
        "id": "MUXrND5Zcijg",
        "colab_type": "text"
      },
      "source": [
        "##A Note For Hackathon Participants\n",
        "The univariate time series knowledge is rendered based on all individual countries affected by COVID 19 from 22nd January 2020 onwards to the present date.\n",
        "\n",
        "Here is an example for your reference. The provided .csv file comprises the count of confirmed COVID cases across countries till 10th March 2020 for the three target variables (confirmed cases, recovered cases and death cases).\n",
        "\n",
        "The dataset would be updated daily at 00:00 UTC standard time with the prevailing forecast of the distinct target variables. It is to be noted that the published data is dynamic, and hence it will be renewed each day in a new column every day. The data in the rows will also fluctuate based on the reported changes for COVID-19 outbreak in various world geographies.\n",
        "\n",
        "The submission file from participants must contain the projected count of incidents for the next day, i.e. 11th March 2020. as per the sample_submission.xlsx format."
      ]
    },
    {
      "cell_type": "markdown",
      "metadata": {
        "id": "1_Q6_1fPSwhG",
        "colab_type": "text"
      },
      "source": [
        "## Data Description:\n",
        "Features :\n",
        "\n",
        "**Country/Region**: Name of Country/Region.\n",
        "\n",
        "**Date Stamp:** The sequence of historical counts with since 22nd Jan 2020.\n",
        "\n",
        "The 3 .csv files contain historic counts per country for (Confirmed, Recovered and Death).\n",
        "\n",
        "* 1. **covid_confirmed_daily_updates.csv** – Contains the count of confirmed COVID cases.\n",
        "\n",
        "* 2. **covid_deaths_daily_updates.csv** – Contains the count of COVID patient deaths.\n",
        "\n",
        "* 3. **covid_recovered_daily_updates.csv** – Contains the count of recovered COVID patients.\n",
        "\n",
        "* 4. **sample_submission.xls**x – submission format for the model evaluation.\n",
        "\n",
        "The datasets are dynamic and will be automatically updated at 00:00 UTC standard time every day with the latest count of the respective target variables."
      ]
    },
    {
      "cell_type": "code",
      "metadata": {
        "id": "zqMrXcr_RQs2",
        "colab_type": "code",
        "colab": {
          "resources": {
            "http://localhost:8080/nbextensions/google.colab/files.js": {
              "data": "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",
              "ok": true,
              "headers": [
                [
                  "content-type",
                  "application/javascript"
                ]
              ],
              "status": 200,
              "status_text": ""
            }
          },
          "base_uri": "https://localhost:8080/",
          "height": 128
        },
        "outputId": "92ce210c-fe07-4928-9265-0e4f735c6bd4"
      },
      "source": [
        "from google.colab import files\n",
        "files.upload()"
      ],
      "execution_count": 4,
      "outputs": [
        {
          "output_type": "display_data",
          "data": {
            "text/html": [
              "\n",
              "     <input type=\"file\" id=\"files-aa8e39b3-e771-4890-baeb-010c253252c3\" name=\"files[]\" multiple disabled />\n",
              "     <output id=\"result-aa8e39b3-e771-4890-baeb-010c253252c3\">\n",
              "      Upload widget is only available when the cell has been executed in the\n",
              "      current browser session. Please rerun this cell to enable.\n",
              "      </output>\n",
              "      <script src=\"/nbextensions/google.colab/files.js\"></script> "
            ],
            "text/plain": [
              "<IPython.core.display.HTML object>"
            ]
          },
          "metadata": {
            "tags": []
          }
        },
        {
          "output_type": "stream",
          "text": [
            "Saving Sample_Submission.xlsx to Sample_Submission.xlsx\n"
          ],
          "name": "stdout"
        },
        {
          "output_type": "execute_result",
          "data": {
            "text/plain": [
              "{'Sample_Submission.xlsx': b'PK\\x03\\x04\\x14\\x00\\x00\\x00\\x08\\x00\\x00\\x00?\\x00a]I:O\\x01\\x00\\x00\\x8f\\x04\\x00\\x00\\x13\\x00\\x00\\x00[Content_Types].xml\\xad\\x94\\xcbn\\xc20\\x10E\\xf7\\xfd\\x8a\\xc8\\xdb*1tQU\\x15\\x81E\\x1f\\xcb\\x16\\xa9\\xf4\\x03\\\\{B,\\x1c\\xdb\\xf2\\x0c\\x14\\xfe\\xbe\\x93\\xf0P[Q\\xa0\\x82M\\xacd\\xee\\xdcs\\xc7\\x8e<\\x18-\\x1b\\x97- \\xa1\\r\\xbe\\x14\\xfd\\xa2\\'2\\xf0:\\x18\\xeb\\xa7\\xa5x\\x9f<\\xe7w\"CR\\xde(\\x17<\\x94b\\x05(F\\xc3\\xab\\xc1d\\x15\\x013n\\xf6X\\x8a\\x9a(\\xdeK\\x89\\xba\\x86Fa\\x11\"x\\xaeT!5\\x8a\\xf85MeTz\\xa6\\xa6 oz\\xbd[\\xa9\\x83\\'\\xf0\\x94S\\xeb!\\x86\\x83G\\xa8\\xd4\\xdcQ\\xf6\\xb4\\xe4\\xcf\\xeb \\t\\x1c\\x8a\\xeca-lY\\xa5P1:\\xab\\x15q].\\xbc\\xf9E\\xc97\\x84\\x82;;\\r\\xd66\\xe25\\x0b\\x84\\xdcKh+\\x7f\\x036}\\xaf\\xbc3\\xc9\\x1a\\xc8\\xc6*\\xd1\\x8bjX%M\\xd0\\xe3\\x14\"J\\xd6\\x17\\x87]\\xf6\\xc4\\x0cUe5\\xb0\\xc7\\xbc\\xe1\\x96\\x02\\xda@\\x06L\\x1e\\xd9\\x12\\x12Y\\xd8e>\\xc8\\xd6!\\xc1\\xff\\xe1\\xdb=j\\xbbO$.\\x9dDZ9\\xc0\\xb3G\\xc5\\x98@\\x19\\xac\\x01\\xa8q\\xc5\\xda\\xf4\\x08\\x99\\xf8\\x7f\\x82\\xf5\\xb3\\x7f6\\xbf\\xb39\\x02\\xfc\\x0ci\\xf6\\x11\\xc2\\xec\\xd2\\xc3\\xb6k\\xd1(\\xebO\\xe0wb\\x94\\xddr\\xfe\\xd4?\\x83\\xec\\xfc\\x8f\\x1dy\\xad\\x12\\x987J|\\r\\\\\\xfc\\xe4\\xbf{os\\xc8\\xee>\\x19~\\x01PK\\x03\\x04\\x14\\x00\\x00\\x00\\x08\\x00\\x00\\x00?\\x00\\xf2\\x9fI\\xda\\xe9\\x00\\x00\\x00K\\x02\\x00\\x00\\x0b\\x00\\x00\\x00_rels/.rels\\xad\\x92\\xc1N\\xc30\\x0c@\\xef|E\\xe4\\xfb\\x9anH\\x08\\xa1\\xa5\\xbb \\xa4\\xdd&4>\\xc0$n\\x1b\\xb5\\x8d\\xa3\\xc4\\x83\\xee\\xef\\x89\\x90@\\x0c\\x8di\\x07\\x8eq\\xec\\xe7g\\xcb\\xeb\\xcd<\\x8d\\xea\\x8dR\\xf6\\x1c\\x0c,\\xab\\x1a\\x14\\x05\\xcb\\xce\\x87\\xce\\xc0\\xcb\\xfeiq\\x0f*\\x0b\\x06\\x87#\\x072p\\xa4\\x0c\\x9b\\xe6f\\xfdL#J\\xa9\\xc9\\xbd\\x8fY\\x15H\\xc8\\x06z\\x91\\xf8\\xa0u\\xb6=M\\x98+\\x8e\\x14\\xcaO\\xcbiB)\\xcf\\xd4\\xe9\\x88v\\xc0\\x8e\\xf4\\xaa\\xae\\xeft\\xfa\\xc9\\x80\\xe6\\x84\\xa9\\xb6\\xce@\\xda\\xba%\\xa8\\xfd1\\xd25ln[o\\xe9\\x91\\xeda\\xa2 gZ\\xfc\\xca(dL\\x1d\\x89\\x81y\\xd4\\xef\\x9c\\x86W\\xe6\\xa1*P\\xd0\\xe7]V\\xd7\\xbb\\xfc=\\xa7\\x9eH\\xd0\\xa1\\xa0\\xb6\\x9ch\\x11S\\xa9N\\xe2\\xcbZ\\xbfu\\x1c\\xdb]\\t\\xe7\\xcf\\x8cKB\\xb7\\xff\\xb9\\x1c\\x9a\\x85\\x82#wY\\tc\\xfc2\\xd2\\'7\\xd0|\\x00PK\\x03\\x04\\x14\\x00\\x00\\x00\\x08\\x00\\x00\\x00?\\x00Du[\\xf0\\xe8\\x00\\x00\\x00\\xb9\\x02\\x00\\x00\\x1a\\x00\\x00\\x00xl/_rels/workbook.xml.rels\\xad\\x92\\xc1j\\xc30\\x10D\\xef\\xfd\\n\\xb1\\xf7Zv\\x12J)\\x91s)\\x85\\\\\\xdb\\xf4\\x03\\x84\\xb4\\xb6LlIh\\xb7i\\xfd\\xf7\\x11\\tM\\x1d\\x08\\xa1\\x07\\x9f\\xc4\\x8c\\xd8\\x99\\x07\\xbb\\xeb\\xcd\\xcf\\xd0\\x8b\\x03&\\xea\\x82WP\\x15%\\x08\\xf4&\\xd8\\xce\\xb7\\n>wo\\x8f\\xcf \\x88\\xb5\\xb7\\xba\\x0f\\x1e\\x15\\x8cH\\xb0\\xa9\\x1f\\xd6\\xef\\xd8k\\xce3\\xe4\\xbaH\"\\x87xR\\xe0\\x98\\xe3\\x8b\\x94d\\x1c\\x0e\\x9a\\x8a\\x10\\xd1\\xe7\\x9f&\\xa4As\\x96\\xa9\\x95Q\\x9b\\xbdnQ.\\xca\\xf2I\\xa6i\\x06\\xd4W\\x99bk\\x15\\xa4\\xad\\xad@\\xec\\xc6\\x88\\xff\\xc9\\x0eM\\xd3\\x19|\\r\\xe6k@\\xcf7*\\xe4wH{r\\x88\\x9cCuj\\x91\\x15\\\\,\\x92\\xa7\\xa7*r*\\xc8\\xdb0\\x8b9a8\\xcf\\xe2\\x1f\\xc8I\\x9e\\xcd\\xbb\\x0c\\xcb9\\x19\\x88\\xc7>/\\xf4\\x02q\\xd6\\xf7\\xeaW\\xb3\\xd6;\\x9d\\xd0~p\\xca\\xd76\\xa5\\x98\\xda\\xbf0\\xf2\\xea\\xe2\\xea#PK\\x03\\x04\\x14\\x00\\x00\\x00\\x08\\x00\\x00\\x00?\\x00\\xc0\\xb0\\xff<]\\n\\x00\\x00\\xa8=\\x00\\x00\\x18\\x00\\x00\\x00xl/worksheets/sheet1.xml\\x8d\\xdb\\xcbn\\x1b\\xc9\\x15\\x06\\xe0}\\x9eB\\xe0~\\xac\\xba_\\x0cI\\x83!\\x1b\\x83\\xc9\"@\\x90\\xdb\\x9e\\x96Z\\x960\\x12)\\x90\\x1c;y\\xfb\\x90\\xeaj\\xe5\\\\\\xfejge\\xeb\\x14\\xc9\\xfa\\xd9d\\x7f\\xac\\xea\\xae\\xba\\xf9\\xf9\\xdf\\xaf/W\\xdf\\xc6\\xc3\\xf1y\\xbf\\xbb]\\xd9Ofu5\\xee\\xee\\xf7\\x0f\\xcf\\xbb\\xaf\\xb7\\xab\\x7f\\xfe\\xe3\\xd7\\x9f\\xca\\xea\\xeax\\xda\\xee\\x1e\\xb6/\\xfb\\xddx\\xbb\\xfa\\xcfx\\\\\\xfd|\\xf7\\xa7\\x9b\\xef\\xfb\\xc3\\xef\\xc7\\xa7q<]\\x9d_`w\\xbc]=\\x9dNo\\x9f\\xaf\\xaf\\x8f\\xf7O\\xe3\\xeb\\xf6\\xf8i\\xff6\\xee\\xce-\\x8f\\xfb\\xc3\\xeb\\xf6t\\xfe\\xf3\\xf0\\xf5\\xfa\\xf8v\\x18\\xb7\\x0f\\xefOz}\\xb9v\\xc6\\xa4\\xeb\\xd7\\xed\\xf3n5\\xbd\\xc2\\xe7\\xc3\\xff\\xf3\\x1a\\xfb\\xc7\\xc7\\xe7\\xfbq\\xd8\\xdf\\xff\\xf1:\\xeeN\\xd3\\x8b\\x1c\\xc6\\x97\\xed\\xe9\\x1c\\xff\\xf8\\xf4\\xfcv\\\\\\xdd\\xdd<<\\x9f\\xdb.\\xef\\xe7\\xea0>\\xde\\xae~\\xb1\\x9f\\x07k\\xd3\\xea\\xfa\\xee\\xe6\\xbd\\xef\\x7f=\\x8f\\xdf\\x8f\\xe4\\xffW\\xa7\\xed\\x97\\xbf\\x8f/\\xe3\\xfdi|8\\x1f\\x81\\xd5\\xd5\\xe5\\xad}\\xd9\\xef\\x7f\\xbf4\\xfe\\xf9\\\\2\\x97\\xa7^\\xab\\xe7\\xfe\\xfa\\x1e\\xeb\\xaf\\x87\\xab\\x87\\xf1q\\xfb\\xc7\\xcb\\xe9o\\xfb\\xef\\xbf\\x8d\\xcf_\\x9fN\\xe7\\x17\\x89\\x1f\\xbd\\r\\xdb\\xd3\\xf6\\xee\\xe6\\xb0\\xff~ux\\x7f\\xf1\\xe3\\xdb\\xf6r\\xb4\\xec\\xe7pNz\\x7f)\\xfer\\xa9\\xbe\\xb7\\x9d\\x9fy\\xc9\\xff\\xed\\xce\\xdc\\\\\\x7f;wy\\xdf\\x1e\\xb1\\xd6\\x8f\\xb0\\xfc\\x11\\x1b\\xfd\\x08\\xc7\\x1f1\\xe8G\\xf8\\x8fG\\\\\\x9f\\xf3}\\x84t0\\xa4#O\\x0c\"\\x9e\\x9b\\xaa\\x9f\\xa2\\x08\\xe5\\xd0\\x9b\\x19d\\x95u\\xeea\\xe7\\x9et.:Y\\xfb\\xf7j\\x12]{\\xd8\\xb5\\xac\\xb2\\xae\\x03\\xec:\\x90\\xaeE\\'\\xeb0\\x1dh\\xd1\\xcb&\\xc0\\xbee\\x95\\xf5\\x1da\\xdf\\x91\\xf4\\x9dE\\xdf\\x11~\\r\"\\xecZVY\\xd7\\tv\\x9dH\\xd7Et\\x9d\\xa6\\xae\\xf5\\xe7\\x9d`\\xefI$e\\xbdg\\xd8{&\\xbdW\\xd1{\\x86o<\\xc3\\xaee\\x95u]`\\xd7\\x85\\x9ed\\xf2<,S\"\\x11i3\\x95\\x9d\\xc84\\x94\\xa5\\xb3\\xac\\xc2\\xde+\\xed]\\xbc\\xde\\xbaN\\xe5\\x98\\xd4\\x81\\xaf\\xa2\\xa7\\xa9\\xff\\xba\\xf4\\xee\\xad\\xc1\\x16\\x19\\x9a@\\x18\\xb2>\\xb7\\xa2\\xe3\\xb2iuy\\xf8U\\x99\\'\\xe8h\\xc8\\x98\\xf32\\x81m\\t\\x9c:\\x08sS\\x91)\\xecb\\n\\xcc\\x9d\\xa5\\xdeY\\t\\x9eu\\xe8\\x80o,\\x06O\\x95y\\x00L\\x9e\\xa5\\xe6Y\\x89\\x9e\\x9d$\\xcb\\xfa x\\x8c\\xff\\xa2|\\x16\\xd3g\\xa9}V\\xe2g\\x9b~Q\\x1d\\x85\\x80\\xce\\xd0\\xc1.\\x02h\\xb1\\x80\\x96\\x12h\\xa5\\x81\\x16#h\\xb1\\x82\\xaa\\xcc\\x03`\\x07-\\x85P~\\xb5\\xd66\\xa1\\xdf\\xc3\\x8d\\xc5\\x10\\xaa2\\x0f\\x80)\\xb4\\xd4B+1\\xb4\\x93p\\xae\\xc8\\x04\\xd8CU\\xe6\\t\\xb0\\x88\\x96\\x92(\\x7f\\xec\\xd6\\xb6\\xe0\\xcf\\xa0\\xe0\\x00\\xb2\\xcc\\x03`\\x14-UQ*\\xbb\\xb6\\x15\\x7f\\x06R\\xbf\\x16`\\x11E\\x87Qt\\x14E\\'QtM9=\\xfc\\xc1*\\xaa2\\x8f\\x80Utlh\\'Ut\\x16\\x9d\\xf5\\x9bV\\x96g\\xa2[\\x04\\xd1u\\xc6\\x7f\\x14D\\xa7F\\x80\\x0e\\x07\\xe8\\x8c\\x00\\x17At\\x18DGAt\\x12D\\xd7@\\x94\\'B\\xab\\xcb\\xdf\\x84V\\xee\\x0cJ\\x1c\\xf6\\xd0Q\\x0f\\x9d\\xf4\\xd0\\x85\\xde\\xd7\\x00\\x8f\\x07U\\x99G\\xc0\\x1e:\\xea\\xa1\\x93\\x1e\\xba\\xe6!\\xc8\\x80ITe\\x9e\\x01\\x93\\xe8(\\x89R\\x9e\\xb5K\\xf8\\x9b\\x80ITe\\x1e\\x00\\x93\\xe8(\\x89N\\x92\\xe82\\x1a6n\\x1c\\x16Q\\x95y\\x00,\\xa2\\xa3\"z)\\xa2+p\\xe8\\xb2q\\x98DU\\xe6\\t0\\x89\\x8e\\x92\\xe8%\\x89nBN\\x0f\\x91\\x1cFQ\\x95\\xf9\\x94\\x0c\\xa3\\xe8)\\x8a^\\xa2\\xe8\\'\\xe4\\xbc\\x9a\\x97a\\x13U\\x99\\'\\xc0&z6\\x99\\x95&\\xfa\\x86_V\\x11\\xb0\\x8a~QE\\x8fU\\xf4TE/U\\xf4\\x93s\\xf2S\\xf0XEU\\xe6\\x01:3c\\xaa\\xa2Wsc\\x0f\\x87\\x8f\\x1b\\xdf\\x99\\x1e/\\x8e\\x12=V\\xd1S\\x15\\xe5\\xe7\\xbd\\xf6\\x93r1\\xcb\\x04x\\x90\\xa8\\xca<\\x01F\\xd1S\\x14\\xbdD\\xd17\\x14\\xe5\\x08\\xc5c\\x12U\\x99\\'\\xc0$zJ\\xa2\\x97$zL\\xa2\\xc7$\\xaa2\\x0f\\x80I\\xf4\\x94D/I\\xf4\\x19~=6\\x1e\\xce\\xa5\\x07\\xbfh\\xa2\\xc7&zjb\\x90&\\xfafb\\xa8z\\xf2:\\xb7\\xc99K\\xab\\x93\\x1fZ\\x9e\\x03\\xcb\\xe8\\xa9\\x8cA\\xca\\xe8+>#\\xb1\\x8b\\xaa\\xcc\\xaf\\x17a\\x17\\x03u1H\\x17\\x83\\xc1gd\\xc0.\\xaa2O\\x80]\\x0c\\xd4\\xc5 ]\\x0c\\x8d?o\\xf5G\\x11:S\\xe8 \\xc7\\x97<\\x06\\xb61\\xb0K\\x86\\xd2\\xc6\\xe0\\xe0\\xbc\\xa1\\x95\\xd5\\x08f\\x08\\x8b:\\x06\\xacc\\xa0:\\x06\\xa9chcC\\x95\\x01\\xeb\\xa8\\xca<A\\xe7\\xf2!\\xd51\\xa8\\x0b\\x88P\\xc1M\\xe8\\\\A\\\\\\x1c1\\x06\\x8cc\\xa08\\x06\\x89c\\x98q\\xd4W\\x12ZS\\x92\\xa7e\\xabw.k\\x05\\x0cd\\xa0@\\x06\\tdHp\\xc8\\x160\\x90\\xaa\\xcc\\x03` \\x03\\x052H \\xc3$^\\xf2\\xfa(\\xe4\\xde\\xf7q\\x11\\xc9\\x80\\x91\\x0c\\x14\\xc9(\\x91\\x0c\\xa5\\xa5\\xd3)\\xda\\xa5D\\x9dbq\\xf0\\x180\\x91\\x81\\x12\\x19%\\x91\\xa1\\r\\x1e\\xe5\\xf0\\xb5\\xd5\\xe5\\x8fEX42b##52J#\\xe3\\x84^N\\xc6\\xaa#\\xd1\\xda\\\\Ljt;\\xccm)t\\xc2`.#\\xe5R^\\xcdZ\\xc7\\x89\\xbe\\x14u\\x14+N\\x84\\x96\\xa2=\\x81<\\x9e\\xa7\\xc0ZF\\xaae\\x94Z\\xc66\\xbf\\xd6\\xa7i\\xc4\\x83IU\\xe6\\x190\\x97\\x91\\xddg\\x91\\\\F\\xdf\\xce^\\x9d\\xc1\\xe3#\\xb1\\x08f\\xc4`F\\nf\\x94`\\xc6\\x89\\xc0\\x9a\\x92\\x9e\\xe3\\xb6\\xb6,/N\\x0c\\xad!\\x12\\xfdx\\x92\\xce\\xdd\\x17*\\xa7\\x1c\\xc0\\xaecl/*\\xa7\\x17\\xad\\xa1\\xa8\\xc34\\xc4yz\\xde\\x89\\x81\\xe9\\x8c\\x94\\xce(\\xe9\\x8c\\xf2\\xeeJ\\x0b\\x81\\xe9Te\\x1e\\x00\\xd3\\x19)\\x9dQ\\xd2\\x19\\x1b\\x9dz0\\x11\\xf1\\xe82.\\xc2\\x191\\x9c\\x91\\xc2\\x99$\\x9cqRP\\xce1ZY\\xdb\\x1d\\x17\\xd5\\x8cX\\xcdH\\xd5LR\\xcd\\xd8n\\xc1\\x80\\xc3\\x80\\xddle\\xd3c\"a9\\x13\\x95S\\xfe6\\xaf\\x93\\x81\\xdf\\x86\\x84\\x07\\x97\\xaa\\xcc\\x03`-\\x13\\xd52I-\\x13\\x9c[o\\x92\\x9c[\\xb7\\x00\\x8bS\\xee\\x84\\xa1L\\x14\\xca$\\xa1L\\xed^\\xb4\\x0c\\x80\\x95Te\\x1e\\x00+\\x99\\xa8\\x92I*\\x99\\xbc<\\xc9[\\x02\\\\\\x1f\\xd2\"\\x92\\t#\\x99\\xd8]i\\x89d\\x9a\\xbc+&+\\x9cZS\\xac\\xc1\\xe9\\xd3\\xa25zK.\\xea\\xf14\\x18\\xcaD\\xa1L\\x12\\xca\\xd4\\xd4S\\x03\\x8a\\xd6\\xa0\\xb8N\\xcb\\xb7\\xab;\\xf7\\xab\\xa9\\x92I\\xdd\\xb1\\x9e\\xdcS\\xf7\\xab;7\\xac\\x17\\x95LX\\xc9D\\x95LR\\xc9\\x94\\xf1\\xd7\\x12_\\x94Te\\x1e\\x00\\x13\\x99(\\x91Y\\x12\\x99\\xdadZ\\x06\\xc0\\xd7$U\\x99\\x07\\xc0@&\\nd\\x96@\\xa6\\n\\x8dN\\x9dK\\x95CZ\\x1cWf\\xacc\\xa6:f\\xa9c\\xc6:f\\xac\\xa3*\\xf3\\x00X\\xc7Lu\\xccR\\xc7l\\xf1\\x0f\\xd2&c\\x1fU\\x99G\\xc0>f\\xeac\\x96>f\\x87\\x8f\\xf7&c!\\xb3\\x9e\\x8f\\xf3\\x10\\xd8\\xc8L\\x8d\\xcc\\xd2\\xc8,\\xef\\xbe\\xb4\\x08\\xb0<\\xe4E!3\\x162S!\\xe5%\\xe0un\\xd2E=\\xc1\\xc8x\\xee=?\\xa3{\\x1c0\\x8d\\x99-\\xe1\\x914\\xe6\\x08Y\\xca\\xf8\\xca\\xa4*\\xf3\\x00\\xd8\\xc5L]\\x94w\\xc7\\xd6\\x19_\\x99\\xcc\\xd8EU\\xe6\\x01:Ky\\xa8\\x8bY-\\xe6\\xc9\\xf8\\x08t\\x96\\xf3,\\xba\\x98\\xb1\\x8b\\x99\\xbaX\\xa4\\x8b\\xb9\\xcd\\xac\\xc1z\\x92\\x0c\\xefl\\x0fy\\xd1\\xc6\\x8cm\\xcc\\xd4Fy\\xc1i\\x9d\\xdb\\x10Q\\xe2\\xd8\\xeaj\\xea9\\xe4E\\x1c\\x0b\\xc6\\xb1P\\x1c\\x8b\\xc4\\xb1\\x98\\xf6\\xcb%\\x87\\x0c\\xadA^\\xd2\\x1d\\xe6\\'t2`\\x1f\\x0b\\xf5\\xb1H\\x1fK\\x1b=J\\x18\\n\\xbecS\\x16y,\\x98\\xc7By,\\x92\\xc7\\xd2\\xb9\\xfc\\xb8)\\x98GU\\xe6\\x110\\x8e\\x85\\xe2X$\\x8e\\x05\\xe3X\\xf0EIU\\xe6\\x010\\x8e\\x85\\xe2X$\\x8e\\xa5\\xcd\\xb1e\\x00\\x0c\\xa3*\\xf3\\x00\\x98\\xc5BY,\\x92\\xc5\\xd2\\x06\\x86z.\\xd5Z\\x94\\xdaC\\x91+\\x81x\\nlca\\x8b\\x1c\\xa5\\x8d\\xa5\\xcd\\xac\\xd5q\\xc08\\xaa2O\\x80q,\\x14\\xc7\"q,\\xf3m\\x1b}\\x1c\\xb0\\x8f\\xaa\\xcc3t\\x16<R\\x1f\\xabZ\\xf1\\x88\\xd76n\\n\\x1e8\\xaa2O\\x80q,\\x14\\xc7*q,m\\xe0\\x18*8\\x0e\\r\\xce\\xa2\\xc7\\x8f\\xad)v\\x7f\\xb1+V\\xb2R%\\xabT\\xb2\\x1a\\xf8\\x83Y\\xf1\\x10R\\x95y\\x00Ld\\xa5DVIdmwb\\xe4\\xf4\\xb2\\xe2\\x8b\\x91u\\x91\\xc8\\x8a\\x89\\xac\\x94\\xc8*\\x89\\xac\\xed\\xc6\\x8d\\xbe\\x0cX\\xe1\\xaa\\xc8\\xa1.\\x1aY\\xb1\\x91\\x95\\x1aY\\xa5\\x91\\x15\\x1bY\\xb1\\x91\\xaa\\xcc\\x03`#+5R\\xfe(\\xaek\\xc0\\xdf\\x03l\\xa4*\\xf3\\x00\\xd8\\xc8J\\x8d\\xac\\xd2\\xc8:\\x81\\x17\\xf4\\x1d\\x8b\\x8aG\\x8fU\\xd3\\xc9S`#+5\\xb2J#k3R_\\x96n-\\xfa\"C]t\\xb2b\\'+[\\x10.\\x9d\\xacxr]\\xf1\\xf5\\xc7\\xba\\x88d\\xc5HV\\xbe,\\\\*Y\\xe5R\\xef\\x96\\x00#\\xa9\\xca<Age8[\\x1an\\xd4\\xda\\xf0yq\\xb8\\xfa *\\x1c\\xfa\\x0f\\xf5\\x07\\xab\\xc3{\\xcb\\xc3\\xd9\\xfap\\xa3\\x17\\x88\\x1b8\\xa0\\x9f\\xebj9\\xa6\\xaa\\x8b\\x18\\x9d5\\xe2\\x86-\\x127j\\x95\\xb8iL\\xea\\xd3cn\\xd2I\\x96\\x97\\x89\\x9b\\xce:q\\xc3\\x16\\x8a\\x1b\\xb5R\\xdc\\xe05@s]\\xc7X^,n:\\xab\\xc5\\r[.n\\xd4zq\\xd3\\xc4\\xf4r\\xc8\\xbb\\x99\\x9b\\xe4\\x12\\xae\\xe1\\xa3\\xa1k\\xc6\\xf9\\xedv\\xd2\\xb0\\x95\\xe3F-\\x1d7\\xf8\\xbew\\xa7>\\xcc\\xf5\\xeeA\\xe9,\\x1e7l\\xf5\\xb8Q\\xcb\\xc7M\\xbb\\x95\\r\\xee3\\xcem:\\xca\\xf2*r\\xd3YFn\\xd8:r\\xa3\\x16\\x92\\x9b\\xb6\\x92\\xdc\\x83}\\r\\xadM\\xfe\\xae\\xceu\\xd7\\xffx:K\\xca\\r[Sn\\xd4\\xa2r\\xd3@\\x95S\\xc1\\xb9A\\xee\\x05\\x18>\\x1azA:+\\xcb\\rcUm\\xb7\\xb9\\xb4\\xbf\\x9f<\\xe8\\xf3)\\xbdo\\xad\\x9c\\xb6\\x8b(\\x9d5\\xe6\\x86o\\xbdQ\\xab\\xcc\\r\\xbc\\x8d\\xb3\\x99\\xeb\\xfa<^\\xf6\\xb5\\xb7\\xfd\\x86\\xef\\xbf\\xd1\\x1bp\\xda\\x96\\x1a\\xe0Zo\\x0f\\xce\\x8f6\\xe1\\xf4v\\xe10a\\xc1>\\x9c6\\xe0D\\x9fM\\x7f\\'\\x8e\\x15\\x18\\x8a,\\x1dc\\xf9f\\x1c\\xbd\\x1b\\xa7m\\xb09\\xff+\\xaf\\xa0\\xfc\\xafIEi\\x83\\xd5\\xda\\xcb\\xd2\\x81\\x96\\xef\\xcb\\xd1\\x1bs,\\x1e\\x9aZ\\xb5\\x03g\\xce\\xb188\\xb5\\xbd\\xad9|o\\x8e\\xde\\x9cc\\xe7\\x1b=\\xe0\\xd3i\\xf3{54\\xb3?\\xd8\\xa2\\xd3\\xdb\\xa3\\xc37\\xe9\\xe8]:vf\\x16d\\x89\\x1dP~\\xb0Y\\xa7\\xb7[\\x87o\\xd7\\xd1\\xfbu\\xda\\x16\\x1c4.\\xe8m\\xda\\xe9\\xec\\xda\\xb9&\\xbb{\\xdf\\xb6_\\xc7\\xbfl\\x0f_\\x9fw\\xc7\\xab\\x97\\xf1\\xf1\\x1c\\xc0|:\\x13{\\x986\\x03\\xbf\\xff\\xff\\xb4\\x7f{\\xff\\xdf\\xf9P}\\xd9\\x9fN\\xfb\\xd7\\xf9\\xaf\\xa7q\\xfb0\\x1e.\\x7f\\x9d\\xbfX\\x8f\\xfb\\xfdi\\xfe\\xe3\\xb2\\xe7\\xf8c\\x93\\xf5\\xdd\\x7f\\x01PK\\x03\\x04\\x14\\x00\\x00\\x00\\x08\\x00\\x00\\x00?\\x00\\x83\\x18j%H\\x01\\x00\\x00&\\x02\\x00\\x00\\x0f\\x00\\x00\\x00xl/workbook.xml\\x8dQ\\xcbN\\xc30\\x10\\xbc\\xf3\\x15\\xd6\\xdei\\x1ej#Z5\\xa9\\xc4KTB\\x80Di\\xcf&\\xde4V\\x1d;\\xb2\\x1d\\xd2\\xfe=\\xebT)p\\xe3\\xb43\\xe3\\xdd\\xd1\\xcez\\xb9:6\\x8a}\\xa1u\\xd2\\xe8\\x1c\\x92I\\x0c\\x0cui\\x84\\xd4\\xfb\\x1c>6\\x8f\\xd77\\xc0\\x9c\\xe7Zpe4\\xe6pB\\x07\\xab\\xe2j\\xd9\\x1b{\\xf84\\xe6\\xc0h^\\xbb\\x1cj\\xef\\xdbE\\x14\\xb9\\xb2\\xc6\\x86\\xbb\\x89iQ\\xd3Kel\\xc3=Q\\xbb\\x8f\\\\k\\x91\\x0bW#\\xfaFEi\\x1cgQ\\xc3\\xa5\\x86\\xb3\\xc3\\xc2\\xfe\\xc7\\xc3T\\x95,\\xf1\\xde\\x94]\\x83\\xda\\x9fM,*\\xeei{W\\xcb\\xd6A\\xb1\\xac\\xa4\\xc2\\xed9\\x10\\xe3m\\xfb\\xc2\\x1bZ\\xfb\\xa8\\x80)\\xee\\xfc\\x83\\x90\\x1eE\\x0eS\\xa2\\xa6\\xc7?\\x82\\xed\\xda\\xdbN\\xaa@f\\xf1\\x0c\\xa2\\xe2\\x12\\xf2\\xcd2\\x81\\x15\\xef\\x94\\xdf\\xd0j\\xa3;\\x9d+\\x9d\\xa6i\\x16:C\\xd7Vb\\xef~\\x86\\x02e\\xc7\\x9d\\xd4\\xc2\\xf49\\xa4S\\xba\\xecid\\xc9\\x0cX?\\xe0\\x9d\\x14\\xbe&!\\x8b\\xe7\\x17\\xed\\t\\xe5\\xbe\\xf69\\xcc\\xb3,\\x0e\\xe6\\xd1/\\xf7\\xe1~cez\\x08\\xf7\\x1epB\\xff\\x14\\xea\\x9a\\xf6\\'l\\x17\\x92\\x80]\\x8bdp\\x18\\xc7J\\xaeJJ\\x13\\xca\\xd0\\x98Ng\\xc9\\x1cX\\xd5)uG\\xda\\xab~6|0\\x08Cc\\x92\\xe2\\x1bPK\\x03\\x04\\x14\\x00\\x00\\x00\\x08\\x00\\x00\\x00?\\x00~\\xd9\\xbbO\\x89\\x03\\x00\\x008\\x0c\\x00\\x00\\x14\\x00\\x00\\x00xl/sharedStrings.xml}VMs\\x1b7\\x0c\\xbd\\xf7Wptj\\x0f\\x8d\\x9c\\x1e:mGV\\xc6r#\\xc7\\xb1\\xa4\\xa8\\x92\\xddCo\\xd0.\\xbc\\x8b\\x8aKn@R\\xb2\\xfc\\xeb\\x83\\xb5\\xa7I\\xc6\\x80{\\xd1\\x8c\\xde#\\x97\\xc4\\xe3\\xc3\\xc7\\xe4\\xddC\\xe7\\xdd\\x019Q\\x0c\\xe7\\xa3\\xb7o\\xceF\\x0eC\\x15k\\n\\xcd\\xf9\\xe8\\xeev\\xfe\\xf3o#\\x972\\x84\\x1a|\\x0cx>:a\\x1a\\xbd\\x9b\\xfe0I);\\xd9\\x1a\\xd2\\xf9\\xa8\\xcd\\xb9\\xffc<NU\\x8b\\x1d\\xa47\\xb1\\xc7 \\xcc}\\xe4\\x0e\\xb2\\xfc\\xe5f\\x9czF\\xa8S\\x8b\\x98;?\\xfe\\xe5\\xec\\xec\\xd7q\\x07\\x14F\\xae\\x8a%d9\\xf6\\xed\\xef#W\\x02}.x\\xf9\\r\\x99N\\x12M\\'y\\xfa\\x04\\xf1i\\xbc\\xc1F.9\\x19\\xe7\\xe9d<0\\xff\\xb1\\xe1\\x9e\\xb8\\xc3\\xfa%\\xb1\\xc1*J`\\x9a\\xf8\\x13!\\xb7/\\xc1\\x8b\\xfb\\xa6\\x85@C\\xa8\\x8a\\xf2;a@\\xc3\\r\\xb2\\x01\\x87:2k\\x98\\x1b\\x0c\\x99\\x82Ath}\\xbd\\xa4\\xcc\\xe0_!\\x0c\\xf8\\x11y\\x07\\xf4\\xaf\\xbe\\xfe\\x0cZ\\x16\\xb15\\x1c\\x1a\\x0f5&%\\xc5\\x0c=pI\\x06\\xdcP\\xe9\\x14\\xdc\\x16C\\xb3YL\\x12\\x94\\x13\\xdf\\xb8\\x0f\\xc8\\x8f\\xd8\\xc4\\x83\\x11\\xfb\\x8c\\xe1\\x91\\xbcFK@Rh\\xf1\\r\\x18\\x81\\xcf\\n\\xef\\xe5\\xd3n\\x0e)*o@\\xb7\\x13+\\xab=\\x82#G\\xc3K\\x10\\xa0\\xd6\\xab\\xc5\\x18\\x01\\xbd\\xbbN^\\xe2Q\\xba\\\\\\xb6\\xe4Q\\xbb\\xd2\\xc7ng\\x9c\\x1c\\xc5anC\\x95f8B66\\x9cz\\xe3-.\\x1f\\xb1j\\xdd\\x06\\xfb\\xb2\\xf3Ti\\x83\\x87\\x0ex\\xaf\\xe0\\xd8Q\\x90\\x93\\xc3\\xab\\x1b\\xdfW\\x05\\xc4\\xbd\\nnN}V`\\xca\\xd1\\xf0\\xed\\x1c8\\xe2kR\\xcd)\\x0c\\xb8\\x82\\x19B\\xa5$\\x9c\\xb3\\x14\\xa2\\xd6]\\x15\\x02\\xed\\x9c+\\x94\\xba\\xa2O\\xbfB):\\xe1\\xa4`\\xdaI.eP\\x91]1\\xa2>\\xf9C\\xf4\\'\\xb7E\\x03\\x0f\\x8d\\xbb\\x19~\\xb6\\x17\\x1bE\\x96 \\xfeTG_Wh\\x85|\\x1d\\x0c[\\n(56\\x19\\x84\\x08\\xe4~\\x1cD\\xed\\xa8\\xfa\\xfaz.\\xde\\xffd\\xac\\xfc\\xac1\\xfb\\n\\x89\\x01U\\xf2]g\\xf0*\\x88\\x8f\\xd0\\xeb\\x14\\xff\\x18\\xb9\\xd6\\xe8M9\\x02)\\xb3, \\x1ftX\\x0b\\x94\\xc2\\xaa\\xb3pAb\\xee\\x8c!e\\xd4ekA\\xb9-V9^\\x94\\x07\\x94l/\\xdc\\xbcd\\x96PA\\xb4\\x9el\\t\\xcf~t\\x92\\xc2\\xdabK\\xf0p2\\x1eC\\xf0\\x9a\\x0e\\xa8\\xcc\\xbd\\x1c\\x1c\\xa6A\\x96\\xa2?46\\xc5\\xe0\\x03U\\xaab-c\\x00\\x13m\\xa2\\xd1\\x0b\\x96\\x91c\\xa5\\x97\\xaf\\xb0\\x07\\xf5\\xb0+\\xcc-\\xb2\\x99\\x96+<\\xba\\x7f\\x10,\\x93\\xac\\xc8lr\\xab\\xc8\\xb9u\",\\xd6V\\x11\\x10\\xfa\\x08\\xcaE\\x9f:m\\x97O\\xc3\\xa5\\xd4\\x85\\xd6\\xb07;\\xf1Z*A\\xa7N[\\x03CS\\xf4yk\\xe4\\xa20)\\xd6\\xd4\\xf7\\x14\\xf4\\xfb\\xad\\xa3%\\xc0Z\"-\\x8d\\x96\\xf3/0\\xca\\xc9w\\x99)uBf\\x9e\\xff[\\xb0\\x8c\\xbe\\x8e\\x07\\xbd$v\\x96\\xbd7%\\x89\\x17\\x83\\x9bc\\x8d,\\x8dB\\xa7\\xcdV\\xdc\\x9c\\xddL\\x0c\\xd7\\xa2\\xc7N\\xc9\\xf1\\xcc?\\x1bRsa`((/m\\xa1\\xd4\\xe4.\\x18\\x8cf\\xb6\\xc5\\x80\\x864[\\x99D\\x8c\\xc52QB/\\xa2(\\xc2\\x8b\\n{c\\x83\\xe0\\xd6d\\xb4\\x8dE\\xbcwq\\xcfF\\x13\\xdd\\xf6\\xc6\\xa4\\xb3er\\x0b\\x08{\\xbd\\xfa(b\\xea\\xe5G\\xca\\x8f\\xcf\\x99\\xf2\\x92\\xba\\x05\\xea\\x91\\x9e\\xa6\\x1a\\x0c\\x07\\xe2\\x18\\x94\\x8bn[ skl\\x94\\xb6\\xb72\\xf2\\x1a\\x05\\xe6\\xeeF![\\x85\\xec\\x87\\x99Niy\\x17(c\\xfd\\xf4\\\\\\xee}Gb\\x14\\xed\\xf3\\xbf\\t\\xb3[\\x81\\x1a\\xe4\\xa4\\x92\\x94\\x9ed\\xf7\\x1a<\\xa6\\xa1j\\x89)22S\\x8e\\xdf\\xf7\\xb5\\xb1\\x8c\\xfe\\xd3/PK\\x03\\x04\\x14\\x00\\x00\\x00\\x08\\x00\\x00\\x00?\\x00i\\xae\\x84\\x18\\xfb\\x01\\x00\\x00=\\x05\\x00\\x00\\r\\x00\\x00\\x00xl/styles.xml\\xbdT\\xdf\\x8b\\x9c0\\x10~\\xef_\\x11\\xf2~\\xe7*\\xf4h\\x8bz\\xf4\\n\\x0b\\x85\\xb6\\x14n\\x0b}\\x8d\\x1a5\\x90\\x1f\\x92\\x8c\\x8b\\xde_\\xdfI\\xe2\\xaa\\x0bw,\\xdcC_\\xcc\\xcc\\xe4\\x9bof\\xbe\\xc4\\xe4\\x8f\\x93\\x92\\xe4\\xcc\\xad\\x13F\\x174\\xbd?P\\xc2um\\x1a\\xa1\\xbb\\x82\\xfe9\\x1d\\xef>Q\\xe2\\x80\\xe9\\x86I\\xa3yAg\\xee\\xe8c\\xf9!w0K\\xfe\\xdcs\\x0e\\x04\\x19\\xb4+h\\x0f0|I\\x12W\\xf7\\\\1wo\\x06\\xaeq\\xa75V1@\\xd7v\\x89\\x1b,g\\x8d\\xf3IJ&\\xd9\\xe1\\xf0\\x90(&4-\\xf3\\xd6hp\\xa46\\xa3\\x86\\x82fK\\xa0\\xcc\\xdd\\x0b93\\x89m\\xa54)\\xf3\\xdaHc\\t =\\xf6\\x11\"\\x9a)\\x1e\\x11\\xdf\\x98\\x14\\x95\\x15>\\xd82%\\xe4\\x1c\\xc3\\x99\\x0f\\x84\\x8e\\x16\\x9c\\x12\\xdaX\\x1fLb\\x85\\xf8\\xad\\x92\\xffQ+,\\x0e\\x93\\x84\\x94\\xd7\\xc3b\\xa0\\xcc\\x07\\x06\\xc0\\xad>\\xa2C\\x16\\xfb4\\x0fX^\\xa3\\xf0\\x91&\\xe0n\\xa0;\\xcb\\xe64\\xfb\\xb8K\\x08\\x0b\\xd6\\xad\\x8cm\\xf0\\xa0\\xf7\\x95c\\xa8\\xcc%o\\x01\\x13\\xac\\xe8z\\xbf\\x82\\x19\\x12\\xbf\\t`\\x14\\x1a\\x8d`\\x9d\\xd1Lz\\xcaK\\xc6>\\x93\\x84\\xcbPP\\xe8\\xc3aF\\xed\\xd8\\x08f\\x91.\\xf1\\xa0\\x85\\xfd&6\\xa0B\\x0b7\\xa1\\x88\\xb9ty\\x13\\x1ba\\xaf\\xcf\\xb2\\x18(Q\\xcd\\xa5|\\xf6L\\x7f\\xdbU\\xa7\\x14\\xf9\\xa6\\x96\\xe8Q\\x1d\\x15|o\\n\\x8a\\xbf\\x88?\\xc9\\x8b\\x89\\xe2.f\\xa4\\x89\\x8e\\xe7\\xdf\\xb3E\\xee\\x1dm\\xf6.Z2\\xb5+\\xff[\\xd9\\xe9\\x1b\\xd9\\xe9\\x96M\\xd80\\xc8\\xf9h\\xe2|\\xd1{\\n\\xc0\\xcd\\xff*E\\xa7\\x15\\xbfH\\xc0..\\xe9\\x8d\\x15/\\x98\\xea\\xefx\\x8d\\x01n\\xa9\\x7fA@\\xd4>\\x82\\x87\\x12\\x86\\x9f\\xdaE\\x81u\\xf8 \\xc5\\x95\\xack\\x94\\xf8\\xbf\\xab\\xa0\\xbf\\xfcc!wmV\\xa3\\x90 \\xf4+\\x92\"g3mj\\x86]`\\x15\\xbeIWU\\x90\\xa3\\xe1-\\x1b%\\x9c\\xd6\\xcd\\x82n\\xf6O\\xde\\x88Q}^Q\\xbf\\xc5\\xd9\\xc0\\x82\\xda\\xec\\x1f\\xfeN\\xa6\\x0f\\xa1\\x83\\xed\\xe1+\\xff\\x01PK\\x03\\x04\\x14\\x00\\x00\\x00\\x08\\x00\\x00\\x00?\\x00\\x18\\xfaFT\\xb0\\x05\\x00\\x00R\\x1b\\x00\\x00\\x13\\x00\\x00\\x00xl/theme/theme1.xml\\xedYM\\x8f\\xdbD\\x18\\xbe\\xf3+F\\xbe\\xb7\\x8e\\x13;\\xcd\\xae\\x9a\\xad6\\xd9\\xa4\\x85\\xed\\xb6\\xab\\xdd\\xb4\\xa8\\xc7\\x89=\\xb1\\xa7\\x19{\\xac\\x99\\xc9nsC\\xed\\x11\\t\\tQ\\x10\\x17$n\\x1c\\x10P\\xa9\\x95\\xb8\\x94_\\xb3P\\x04E\\xea_\\xe0\\xf5G\\x92\\xf1f\\xb2\\xcd\\xb6\\x8b\\x00\\xb59$\\x9e\\xf1\\xf3~\\x7f\\xf8\\x1d\\xe7\\xea\\xb5\\x071CGDH\\xca\\x93\\xb6\\xe5\\\\\\xaeY\\x88$>\\x0fh\\x12\\xb6\\xad;\\x83\\xfe\\xa5\\x96\\x85\\xa4\\xc2I\\x80\\x19OH\\xdb\\x9a\\x12i]\\xdb\\xfa\\xe0*\\xdeT\\x11\\x89\\t\\x02\\xf2Dn\\xe2\\xb6\\x15)\\x95n\\xda\\xb6\\xf4a\\x1b\\xcb\\xcb<%\\t\\xdc\\x1bq\\x11c\\x05K\\x11\\xda\\x81\\xc0\\xc7\\xc06fv\\xbdVk\\xda1\\xa6\\x89\\x85\\x12\\x1c\\x03\\xd7\\xdb\\xa3\\x11\\xf5\\t\\x1ad,\\xad\\xad\\x19\\xf3\\x1e\\x83\\xafD\\xc9l\\xc3g\\xe2\\xd0\\xcf%\\xea\\x1496\\x18;\\xd9\\x8f\\x9c\\xca.\\x13\\xe8\\x08\\xb3\\xb6\\x05r\\x02~< \\x0f\\x94\\x85\\x18\\x96\\nn\\xb4\\xadZ\\xfe\\xb1\\xec\\xad\\xab\\xf6\\x9c\\x88\\xa9\\x15\\xb4\\x1a]?\\xff\\x94t%A0\\xae\\xe7t\"\\x1c\\xce\\t\\x9d\\xbe\\xbbqeg\\xce\\xbf^\\xf0_\\xc6\\xf5z\\xbdn\\xcf\\x99\\xf3\\xcb\\x01\\xd8\\xf7\\xc1Rg\\t\\xeb\\xf6[Ng\\xc6S\\x03\\x15\\x97\\xcb\\xbc\\xbb5\\xaf\\xe6V\\xf1\\x1a\\xff\\xc6\\x12~\\xa3\\xd3\\xe9x\\x1b\\x15|c\\x81w\\x97\\xf0\\xadZ\\xd3\\xdd\\xaeW\\xf0\\xee\\x02\\xef-\\xeb\\xdf\\xd9\\xeev\\x9b\\x15\\xbc\\xb7\\xc07\\x97\\xf0\\xfd+\\x1bM\\xb7\\x8a\\xcfA\\x11\\xa3\\xc9x\\t\\x9d\\xc5s\\x1e\\x999d\\xc4\\xd9\\r#\\xbc\\x05\\xf0\\xd6,\\x01\\x16([\\xcb\\xae\\x82>Q\\xabr-\\xc6\\xf7\\xb9\\xe8\\x03 \\x0f.V4Aj\\x9a\\x92\\x11\\xf6\\x01\\xd7\\xc5\\xf1PP\\x9c\\t\\xc0\\x9b\\x04kw\\x8a-_.me\\xb2\\x90\\xf4\\x05MU\\xdb\\xfa(\\xc5P\\x11\\x0b\\xc8\\xab\\xe7?\\xbcz\\xfe\\x14\\xbdz\\xfe\\xe4\\xe4\\xe1\\xb3\\x93\\x87?\\x9f<zt\\xf2\\xf0\\'\\x03\\xe1\\r\\x9c\\x84:\\xe1\\xcb\\xef>\\xff\\xeb\\x9bO\\xd0\\x9fO\\xbf}\\xf9\\xf8K3^\\xea\\xf8\\xdf~\\xfc\\xf4\\xd7_\\xbe0\\x03\\x95\\x0e|\\xf1\\xd5\\x93\\xdf\\x9f=y\\xf1\\xf5g\\x7f|\\xff\\xd8\\x00\\xdf\\x16x\\xa8\\xc3\\x074&\\x12\\xdd\"\\xc7\\xe8\\x80\\xc7`\\x9bA\\x00\\x19\\x8a\\xf3Q\\x0c\"L+\\x148\\x02\\xa4\\x01\\xd8SQ\\x05xk\\x8a\\x99\\t\\xd7!U\\xe7\\xdd\\x15\\xd0\\x00L\\xc0\\xeb\\x93\\xfb\\x15]\\x0f#1Q\\xd4\\x00\\xdc\\x8d\\xe2\\np\\x8fs\\xd6\\xe1\\xc2h\\xcen&K7g\\x92\\x84f\\xe1b\\xa2\\xe3\\x0e0>2\\xc9\\xee\\x9e\\nmo\\x92B&S\\x13\\xcbnD*j\\xee3\\x886\\x0eIB\\x14\\xca\\xee\\xf11!\\x06\\xb2{\\x94V\\xfc\\xbaG}\\xc1%\\x1f)t\\x8f\\xa2\\x0e\\xa6F\\x97\\x0c\\xe8P\\x99\\x89n\\xd0\\x18\\xe225)\\x08\\xa1\\xae\\xf8f\\xef.\\xeapfb\\xbfC\\x8e\\xaaH(\\x08\\xccL,\\t\\xab\\xb8\\xf1:\\x9e(\\x1c\\x1b5\\xc61\\xd3\\x917\\xb1\\x8aLJ\\x1eN\\x85_q\\xb8T\\x10\\xe9\\x900\\x8ez\\x01\\x91\\xd2Ds[L+\\xea\\xeeb\\xe8D\\xc6\\xb0\\xef\\xb1i\\\\E\\nE\\xc7&\\xe4M\\xcc\\xb9\\x8e\\xdc\\xe1\\xe3n\\x84\\xe3\\xd4\\xa83M\"\\x1d\\xfb\\xa1\\x1cC\\x8ab\\xb4\\xcf\\x95Q\\t^\\xad\\x90l\\rq\\xc0\\xc9\\xcap\\xdf\\xa5D\\x9d\\xaf\\xac\\xef\\xd002\\'Hvg\"\\xca\\xae]\\xe9\\xbf1M\\xcej\\xc6\\x8cB7~\\xdf\\x8cg\\xf0mx4\\x99J\\xe2t\\x0b^\\x85\\xfb\\x1f6\\xde\\x1d<I\\xf6\\t\\xe4\\xfa\\xfb\\xbe\\xfb\\xbe\\xef\\xbe\\x8b}wU-\\xaf\\xdbm\\x17\\r\\xd6\\xd6\\xe7\\xe2\\x9c_\\xbcrH\\x1eQ\\xc6\\x0e\\xd5\\x94\\x91\\x9b2o\\xcd\\x12\\x94\\x0e\\xfa\\xb0\\x99/r\\xa2\\xf9L\\x9eFpY\\x8a\\xab\\xe0B\\x81\\xf3k$\\xb8\\xfa\\x98\\xaa\\xe80\\xc2)\\x88qr\\t\\xa1,Y\\x87\\x12\\xa5\\\\\\xc2I\\xc0Z\\xc9;?NR0>\\xdf\\xf3fg@@c\\xb5\\xc7\\x83b\\xbb\\xa1\\x9f\\r\\xe7l\\xf2U(uA\\x8d\\x8c\\xc1\\xba\\xc2\\x1aW\\xdeN\\x98S\\x00\\xd7\\x94\\xe6xfi\\xde\\x99\\xd2l\\xcd\\x9bP\\r\\x08g\\x07\\x7f\\xa7Y/DC\\xc6`F\\x82\\xcc\\xef\\x05\\x83YX.<D2\\xc2\\x01)c\\xe4\\x18\\rq\\x1ak\\xba\\xad\\xf5z\\xafi\\xd26\\x1ao\\'m\\x9d \\xe9\\xe2\\xdc\\x15\\xe2\\xbc\\x0b\\x88Rm)J\\xf6r9\\xb2\\xa4\\xbaB\\xc7\\xa0\\x95W\\xf7,\\xe4\\xe3\\xb4m\\x8d`\\x92\\x82\\xcb8\\x05~2k@\\x98\\x85I\\xdb\\xf2Ui\\xcak\\x8b\\xf9\\xb4\\xc1\\xe6\\xb4tj+\\r\\xae\\x88H\\x85T;XF\\x05U~k\\xf6\\xea$Y\\xe8_\\xf7\\xdc\\xcc\\x0f\\x17c\\x80\\xa1\\x1b\\xad\\xa7E\\xa3\\xe5\\xfc\\x8bZ\\xd8\\xa7CKF#\\xe2\\xab\\x15;\\x8bey\\x8fO\\x14\\x11\\x87Qp\\x8c\\x86l\"\\x0e0\\xe8\\xed\\x16\\xd9\\x15P\\t\\xcf\\x8c\\xfal!\\xa0B\\xdd2\\xf1\\xaa\\x95_V\\xc1\\xe9W4eu`\\x96F\\xb8\\xecI--\\xf6\\x05<\\xbf\\x9e\\xeb\\x90\\xaf4\\xf5\\xec\\x15\\xba\\xbf\\xa1)\\x8d\\x0b4\\xc5{wM\\xc92\\x17\\xc6\\xd6F\\x90\\x1f\\xa8`\\x0c\\x10\\x18e9\\xda\\xb6\\xb8P\\x11\\x87.\\x94F\\xd4\\xef\\x0b\\x18\\x1crY\\xa0\\x17\\x82\\xb2\\xc8TB,{\\xdf\\x9c\\xe9J\\x8e\\x16}\\xab\\xe0Q4\\xb90R\\x074D\\x82B\\xa7S\\x91 d_\\x95v\\xbe\\x86\\x99S\\xd7\\x9f\\xaf3Fe\\x9f\\x99\\xab+\\xd3\\xe2wH\\x8e\\x08\\x1bd\\xd5\\xdb\\xcc\\xec\\xb7P4\\xeb&\\xa5#r\\xdc\\xe9\\xa0\\xd9\\xa6\\xea\\x1a\\x86\\xfd\\xff\\xf0\\xe4\\xe3\\xae\\x98|\\xce\\x1e\\x0f\\x16\\x82\\xdc\\xf3\\xcc\"\\xae\\xd6\\xf4\\xb5G\\xc1\\xc6\\xdb\\xa9p\\xceGm\\xddlq\\xdd[\\xfbQ\\x9b\\xc2\\xe1\\x03e_\\xd0\\xb8\\xa9\\xf0\\xd9b\\xbe\\x1d\\xf0\\x03\\x88>\\x9aO\\x94\\x08\\x12\\xf1R\\xab,\\xbf\\xf9\\xe6\\x10tni\\xc6e\\xac\\xfe\\xd91j\\x11\\x82\\xd6\\x8ax_\\xe4\\xf0\\xa99\\xbb\\xb1\\xc2\\xd9g\\x8b{sg{\\x06_{g\\xbb\\xda^.Q[;\\xc8\\xe4\\xab\\xa5?\\x9e\\xf8\\xf0>\\xc8\\xde\\x81\\x83\\xd2\\x84)Y\\xbcMz\\x00G\\xcd\\xee\\xec/\\x03\\xe0c/H\\xb7\\xfe\\x06PK\\x03\\x04\\x14\\x00\\x00\\x00\\x08\\x00\\x00\\x00?\\x00\\xf1\\x01\\xff\\x9f$\\x01\\x00\\x00P\\x02\\x00\\x00\\x11\\x00\\x00\\x00docProps/core.xml\\x9d\\x92\\xcdj\\xc30\\x10\\x84\\xef}\\n\\xa3\\xbb-\\xc9\\x86\\x10\\x84\\xed@[rj\\xa0\\xd0\\x94\\x96\\xde\\x84\\xb4ID\\xad\\x1f$\\xb5N\\xde\\xbe\\x8a\\x938\\t\\xf8\\xd4\\xe3jf\\xbf\\x9d]T/\\xf6\\xba\\xcb~\\xc1\\x07eM\\x83hAP\\x06FX\\xa9\\xcc\\xb6A\\xef\\xebe>GY\\x88\\xdcH\\xdeY\\x03\\r:@@\\x8b\\xf6\\xa1\\x16\\x8e\\t\\xeb\\xe1\\xd5[\\x07>*\\x08Y\\x02\\x99\\xc0\\x84k\\xd0.F\\xc70\\x0eb\\x07\\x9a\\x87\"9L\\x127\\xd6k\\x1eS\\xe9\\xb7\\xd8q\\xf1\\xcd\\xb7\\x80KBfXC\\xe4\\x92G\\x8e\\x8f\\xc0\\xdc\\x8dDtFJ1\"\\xdd\\x8f\\xef\\x06\\x80\\x14\\x18:\\xd0`b\\xc0\\xb4\\xa0\\xf8\\xea\\x8d\\xe0u\\x98l\\x18\\x94\\x1b\\xa7V\\xf1\\xe0`\\xd2z\\x11G\\xf7>\\xa8\\xd1\\xd8\\xf7}\\xd1W\\x835\\xe5\\xa7\\xf8s\\xf5\\xf26\\xac\\x9a+s<\\x95\\x00\\xd4\\xd6R0\\xe1\\x81G\\xeb\\xdb\\x1a\\xdf\\x16\\xe9p\\x1d\\x0fq\\x95N\\xbcQ \\x1f\\x0fI\\x9fx;/r\\xea\\x03\\x99\\xa5\\x00\\xec\\x14\\xf7\\xa2|TO\\xcf\\xeb%jKR\\x92\\x9cT9\\xa5k:c\\xd5\\x9c\\x95\\xe4\\xeb8\\xf2\\xae\\xff\\n\\xd4\\xe7!\\xff&^\\x00\\xa7\\xdc\\xf7\\x9f\\xa0\\xfd\\x03PK\\x03\\x04\\x14\\x00\\x00\\x00\\x08\\x00\\x00\\x00?\\x00^\\xba\\xa7\\xd3w\\x01\\x00\\x00\\x10\\x03\\x00\\x00\\x10\\x00\\x00\\x00docProps/app.xml\\x9d\\x92\\xc1N\\xeb0\\x10E\\xf7|E\\xe4=uR!\\xf4T9F\\xa8\\x80X\\xf0D\\xa5\\x16X\\x1bg\\xd2X8\\xb6\\xe5\\x19\\xa2\\x96\\xaf\\xc7I\\xd5\\x90\\x02+\\xb2\\xba3su}2\\xb6\\xb8\\xda\\xb56\\xeb \\xa2\\xf1\\xaed\\xc5,g\\x198\\xed+\\xe3\\xb6%{\\xda\\xdc\\x9d\\xffc\\x19\\x92r\\x95\\xb2\\xdeA\\xc9\\xf6\\x80\\xecJ\\x9e\\x89U\\xf4\\x01\"\\x19\\xc0,%8,YC\\x14\\x16\\x9c\\xa3n\\xa0U8Kc\\x97&\\xb5\\x8f\\xad\\xa2T\\xc6-\\xf7um4\\xdcx\\xfd\\xde\\x82#>\\xcf\\xf3K\\x0e;\\x02WAu\\x1e\\xc6@vH\\\\t\\xf4\\xd7\\xd0\\xca\\xeb\\x9e\\x0f\\x9f7\\xfb\\x90\\xf2\\xa4\\xb8\\x0e\\xc1\\x1a\\xad(\\xfd\\xa4\\xfcot\\xf4\\xe8k\\xcanw\\x1a\\xac\\xe0\\xd3\\xa1HAk\\xd0\\xef\\xd1\\xd0^\\xe6\\x82OK\\xb1\\xd6\\xca\\xc22\\x05\\xcbZY\\x04\\xc1\\xbf\\x1a\\xe2\\x1eT\\xbf\\xb3\\x952\\x11\\xa5\\xe8h\\xd1\\x81&\\x1f34\\x1fiks\\x96\\xbd*\\x84\\x1e\\xa7d\\x9d\\x8aF9b\\x07\\xdb\\xa1\\x18\\xb4\\rHQ\\xbe\\xf8\\xf8\\x86\\r\\x00\\xa1\\xe0cs\\x90S\\xefT\\x9b\\x0bY\\x0c\\x86$N\\x8d|\\x04I\\xfa\\x14qc\\xc8\\x02>\\xd6+\\x15\\xe9\\x17\\xe2bJ<0\\xb0\\t\\xe3\\xba\\xe7+~\\xf0\\x1dO\\xfa\\x96\\xbd\\xf4mP.-\\x90\\x8f\\xea\\xc1\\xb87|\\n\\x1b\\x7f\\xa3\\x08\\x8e\\xeb<m\\x8au\\xa3\"T\\xe9\\x06\\xc6u\\x8f\\rq\\x9f\\xb8\\xa2\\xed\\xfd\\xcbF\\xb9-TG\\xcf\\xcfA\\x7f\\xf9\\xcf\\x87\\x07.\\x8b\\xf9,O\\xdfp\\xe7\\xc7\\x9e\\xe0_oY~\\x02PK\\x01\\x02\\x14\\x03\\x14\\x00\\x00\\x00\\x08\\x00\\x00\\x00?\\x00a]I:O\\x01\\x00\\x00\\x8f\\x04\\x00\\x00\\x13\\x00\\x00\\x00\\x00\\x00\\x00\\x00\\x00\\x00\\x00\\x00\\x80\\x81\\x00\\x00\\x00\\x00[Content_Types].xmlPK\\x01\\x02\\x14\\x03\\x14\\x00\\x00\\x00\\x08\\x00\\x00\\x00?\\x00\\xf2\\x9fI\\xda\\xe9\\x00\\x00\\x00K\\x02\\x00\\x00\\x0b\\x00\\x00\\x00\\x00\\x00\\x00\\x00\\x00\\x00\\x00\\x00\\x80\\x81\\x80\\x01\\x00\\x00_rels/.relsPK\\x01\\x02\\x14\\x03\\x14\\x00\\x00\\x00\\x08\\x00\\x00\\x00?\\x00Du[\\xf0\\xe8\\x00\\x00\\x00\\xb9\\x02\\x00\\x00\\x1a\\x00\\x00\\x00\\x00\\x00\\x00\\x00\\x00\\x00\\x00\\x00\\x80\\x81\\x92\\x02\\x00\\x00xl/_rels/workbook.xml.relsPK\\x01\\x02\\x14\\x03\\x14\\x00\\x00\\x00\\x08\\x00\\x00\\x00?\\x00\\xc0\\xb0\\xff<]\\n\\x00\\x00\\xa8=\\x00\\x00\\x18\\x00\\x00\\x00\\x00\\x00\\x00\\x00\\x00\\x00\\x00\\x00\\x80\\x81\\xb2\\x03\\x00\\x00xl/worksheets/sheet1.xmlPK\\x01\\x02\\x14\\x03\\x14\\x00\\x00\\x00\\x08\\x00\\x00\\x00?\\x00\\x83\\x18j%H\\x01\\x00\\x00&\\x02\\x00\\x00\\x0f\\x00\\x00\\x00\\x00\\x00\\x00\\x00\\x00\\x00\\x00\\x00\\x80\\x81E\\x0e\\x00\\x00xl/workbook.xmlPK\\x01\\x02\\x14\\x03\\x14\\x00\\x00\\x00\\x08\\x00\\x00\\x00?\\x00~\\xd9\\xbbO\\x89\\x03\\x00\\x008\\x0c\\x00\\x00\\x14\\x00\\x00\\x00\\x00\\x00\\x00\\x00\\x00\\x00\\x00\\x00\\x80\\x81\\xba\\x0f\\x00\\x00xl/sharedStrings.xmlPK\\x01\\x02\\x14\\x03\\x14\\x00\\x00\\x00\\x08\\x00\\x00\\x00?\\x00i\\xae\\x84\\x18\\xfb\\x01\\x00\\x00=\\x05\\x00\\x00\\r\\x00\\x00\\x00\\x00\\x00\\x00\\x00\\x00\\x00\\x00\\x00\\x80\\x81u\\x13\\x00\\x00xl/styles.xmlPK\\x01\\x02\\x14\\x03\\x14\\x00\\x00\\x00\\x08\\x00\\x00\\x00?\\x00\\x18\\xfaFT\\xb0\\x05\\x00\\x00R\\x1b\\x00\\x00\\x13\\x00\\x00\\x00\\x00\\x00\\x00\\x00\\x00\\x00\\x00\\x00\\x80\\x81\\x9b\\x15\\x00\\x00xl/theme/theme1.xmlPK\\x01\\x02\\x14\\x03\\x14\\x00\\x00\\x00\\x08\\x00\\x00\\x00?\\x00\\xf1\\x01\\xff\\x9f$\\x01\\x00\\x00P\\x02\\x00\\x00\\x11\\x00\\x00\\x00\\x00\\x00\\x00\\x00\\x00\\x00\\x00\\x00\\x80\\x81|\\x1b\\x00\\x00docProps/core.xmlPK\\x01\\x02\\x14\\x03\\x14\\x00\\x00\\x00\\x08\\x00\\x00\\x00?\\x00^\\xba\\xa7\\xd3w\\x01\\x00\\x00\\x10\\x03\\x00\\x00\\x10\\x00\\x00\\x00\\x00\\x00\\x00\\x00\\x00\\x00\\x00\\x00\\x80\\x81\\xcf\\x1c\\x00\\x00docProps/app.xmlPK\\x05\\x06\\x00\\x00\\x00\\x00\\n\\x00\\n\\x00\\x80\\x02\\x00\\x00t\\x1e\\x00\\x00\\x00\\x00'}"
            ]
          },
          "metadata": {
            "tags": []
          },
          "execution_count": 4
        }
      ]
    },
    {
      "cell_type": "code",
      "metadata": {
        "id": "jpLjXD1wUSqU",
        "colab_type": "code",
        "colab": {}
      },
      "source": [
        "import requests, pandas as pd, numpy as np\n",
        "from io import StringIO\n",
        "import time, json\n",
        "from datetime import date\n",
        "from statsmodels.tsa.stattools import adfuller, acf, pacf\n",
        "from statsmodels.tsa.arima_model import ARIMA\n",
        "from statsmodels.tsa.seasonal import seasonal_decompose\n",
        "from sklearn.metrics import mean_squared_error\n",
        "import matplotlib.pylab as plt\n",
        "%matplotlib inline\n",
        "from matplotlib.pylab import rcParams\n",
        "rcParams['figure.figsize'] = 15, 6"
      ],
      "execution_count": 0,
      "outputs": []
    },
    {
      "cell_type": "code",
      "metadata": {
        "id": "S8-W1EuGUrZk",
        "colab_type": "code",
        "colab": {}
      },
      "source": [
        "confirmed = pd.read_csv('/content/covid_confirmed_daily_updates.csv')\n",
        "death = pd.read_csv('/content/covid_deaths_daily_updates.csv')\n",
        "recovered = pd.read_csv('/content/covid_recovered_daily_updates.csv')"
      ],
      "execution_count": 0,
      "outputs": []
    },
    {
      "cell_type": "code",
      "metadata": {
        "id": "5C8yIdqHVMCQ",
        "colab_type": "code",
        "colab": {
          "base_uri": "https://localhost:8080/",
          "height": 241
        },
        "outputId": "46553340-b1ea-4336-baee-b9fba3d1dee4"
      },
      "source": [
        "confirmed.head()"
      ],
      "execution_count": 74,
      "outputs": [
        {
          "output_type": "execute_result",
          "data": {
            "text/html": [
              "<div>\n",
              "<style scoped>\n",
              "    .dataframe tbody tr th:only-of-type {\n",
              "        vertical-align: middle;\n",
              "    }\n",
              "\n",
              "    .dataframe tbody tr th {\n",
              "        vertical-align: top;\n",
              "    }\n",
              "\n",
              "    .dataframe thead th {\n",
              "        text-align: right;\n",
              "    }\n",
              "</style>\n",
              "<table border=\"1\" class=\"dataframe\">\n",
              "  <thead>\n",
              "    <tr style=\"text-align: right;\">\n",
              "      <th></th>\n",
              "      <th>Country/Region</th>\n",
              "      <th>1/22/20</th>\n",
              "      <th>1/23/20</th>\n",
              "      <th>1/24/20</th>\n",
              "      <th>1/25/20</th>\n",
              "      <th>1/26/20</th>\n",
              "      <th>1/27/20</th>\n",
              "      <th>1/28/20</th>\n",
              "      <th>1/29/20</th>\n",
              "      <th>1/30/20</th>\n",
              "      <th>1/31/20</th>\n",
              "      <th>2/1/20</th>\n",
              "      <th>2/2/20</th>\n",
              "      <th>2/3/20</th>\n",
              "      <th>2/4/20</th>\n",
              "      <th>2/5/20</th>\n",
              "      <th>2/6/20</th>\n",
              "      <th>2/7/20</th>\n",
              "      <th>2/8/20</th>\n",
              "      <th>2/9/20</th>\n",
              "      <th>2/10/20</th>\n",
              "      <th>2/11/20</th>\n",
              "      <th>2/12/20</th>\n",
              "      <th>2/13/20</th>\n",
              "      <th>2/14/20</th>\n",
              "      <th>2/15/20</th>\n",
              "      <th>2/16/20</th>\n",
              "      <th>2/17/20</th>\n",
              "      <th>2/18/20</th>\n",
              "      <th>2/19/20</th>\n",
              "      <th>2/20/20</th>\n",
              "      <th>2/21/20</th>\n",
              "      <th>2/22/20</th>\n",
              "      <th>2/23/20</th>\n",
              "      <th>2/24/20</th>\n",
              "      <th>2/25/20</th>\n",
              "      <th>2/26/20</th>\n",
              "      <th>2/27/20</th>\n",
              "      <th>2/28/20</th>\n",
              "      <th>2/29/20</th>\n",
              "      <th>3/1/20</th>\n",
              "      <th>3/2/20</th>\n",
              "      <th>3/3/20</th>\n",
              "      <th>3/4/20</th>\n",
              "      <th>3/5/20</th>\n",
              "      <th>3/6/20</th>\n",
              "      <th>3/7/20</th>\n",
              "      <th>3/8/20</th>\n",
              "      <th>3/9/20</th>\n",
              "      <th>3/10/20</th>\n",
              "      <th>3/11/20</th>\n",
              "      <th>3/12/20</th>\n",
              "      <th>3/13/20</th>\n",
              "      <th>3/14/20</th>\n",
              "    </tr>\n",
              "  </thead>\n",
              "  <tbody>\n",
              "    <tr>\n",
              "      <th>0</th>\n",
              "      <td>Afghanistan</td>\n",
              "      <td>0</td>\n",
              "      <td>0</td>\n",
              "      <td>0</td>\n",
              "      <td>0</td>\n",
              "      <td>0</td>\n",
              "      <td>0</td>\n",
              "      <td>0</td>\n",
              "      <td>0</td>\n",
              "      <td>0</td>\n",
              "      <td>0</td>\n",
              "      <td>0</td>\n",
              "      <td>0</td>\n",
              "      <td>0</td>\n",
              "      <td>0</td>\n",
              "      <td>0</td>\n",
              "      <td>0</td>\n",
              "      <td>0</td>\n",
              "      <td>0</td>\n",
              "      <td>0</td>\n",
              "      <td>0</td>\n",
              "      <td>0</td>\n",
              "      <td>0</td>\n",
              "      <td>0</td>\n",
              "      <td>0</td>\n",
              "      <td>0</td>\n",
              "      <td>0</td>\n",
              "      <td>0</td>\n",
              "      <td>0</td>\n",
              "      <td>0</td>\n",
              "      <td>0</td>\n",
              "      <td>0</td>\n",
              "      <td>0</td>\n",
              "      <td>0</td>\n",
              "      <td>1</td>\n",
              "      <td>1</td>\n",
              "      <td>1</td>\n",
              "      <td>1</td>\n",
              "      <td>1</td>\n",
              "      <td>1</td>\n",
              "      <td>1</td>\n",
              "      <td>1</td>\n",
              "      <td>1</td>\n",
              "      <td>1</td>\n",
              "      <td>1</td>\n",
              "      <td>1</td>\n",
              "      <td>1</td>\n",
              "      <td>4</td>\n",
              "      <td>4</td>\n",
              "      <td>5</td>\n",
              "      <td>7</td>\n",
              "      <td>7</td>\n",
              "      <td>7</td>\n",
              "      <td>0.0</td>\n",
              "    </tr>\n",
              "    <tr>\n",
              "      <th>1</th>\n",
              "      <td>Albania</td>\n",
              "      <td>0</td>\n",
              "      <td>0</td>\n",
              "      <td>0</td>\n",
              "      <td>0</td>\n",
              "      <td>0</td>\n",
              "      <td>0</td>\n",
              "      <td>0</td>\n",
              "      <td>0</td>\n",
              "      <td>0</td>\n",
              "      <td>0</td>\n",
              "      <td>0</td>\n",
              "      <td>0</td>\n",
              "      <td>0</td>\n",
              "      <td>0</td>\n",
              "      <td>0</td>\n",
              "      <td>0</td>\n",
              "      <td>0</td>\n",
              "      <td>0</td>\n",
              "      <td>0</td>\n",
              "      <td>0</td>\n",
              "      <td>0</td>\n",
              "      <td>0</td>\n",
              "      <td>0</td>\n",
              "      <td>0</td>\n",
              "      <td>0</td>\n",
              "      <td>0</td>\n",
              "      <td>0</td>\n",
              "      <td>0</td>\n",
              "      <td>0</td>\n",
              "      <td>0</td>\n",
              "      <td>0</td>\n",
              "      <td>0</td>\n",
              "      <td>0</td>\n",
              "      <td>0</td>\n",
              "      <td>0</td>\n",
              "      <td>0</td>\n",
              "      <td>0</td>\n",
              "      <td>0</td>\n",
              "      <td>0</td>\n",
              "      <td>0</td>\n",
              "      <td>0</td>\n",
              "      <td>0</td>\n",
              "      <td>0</td>\n",
              "      <td>0</td>\n",
              "      <td>0</td>\n",
              "      <td>0</td>\n",
              "      <td>0</td>\n",
              "      <td>2</td>\n",
              "      <td>10</td>\n",
              "      <td>12</td>\n",
              "      <td>23</td>\n",
              "      <td>33</td>\n",
              "      <td>0.0</td>\n",
              "    </tr>\n",
              "    <tr>\n",
              "      <th>2</th>\n",
              "      <td>Algeria</td>\n",
              "      <td>0</td>\n",
              "      <td>0</td>\n",
              "      <td>0</td>\n",
              "      <td>0</td>\n",
              "      <td>0</td>\n",
              "      <td>0</td>\n",
              "      <td>0</td>\n",
              "      <td>0</td>\n",
              "      <td>0</td>\n",
              "      <td>0</td>\n",
              "      <td>0</td>\n",
              "      <td>0</td>\n",
              "      <td>0</td>\n",
              "      <td>0</td>\n",
              "      <td>0</td>\n",
              "      <td>0</td>\n",
              "      <td>0</td>\n",
              "      <td>0</td>\n",
              "      <td>0</td>\n",
              "      <td>0</td>\n",
              "      <td>0</td>\n",
              "      <td>0</td>\n",
              "      <td>0</td>\n",
              "      <td>0</td>\n",
              "      <td>0</td>\n",
              "      <td>0</td>\n",
              "      <td>0</td>\n",
              "      <td>0</td>\n",
              "      <td>0</td>\n",
              "      <td>0</td>\n",
              "      <td>0</td>\n",
              "      <td>0</td>\n",
              "      <td>0</td>\n",
              "      <td>0</td>\n",
              "      <td>1</td>\n",
              "      <td>1</td>\n",
              "      <td>1</td>\n",
              "      <td>1</td>\n",
              "      <td>1</td>\n",
              "      <td>1</td>\n",
              "      <td>3</td>\n",
              "      <td>5</td>\n",
              "      <td>12</td>\n",
              "      <td>12</td>\n",
              "      <td>17</td>\n",
              "      <td>17</td>\n",
              "      <td>19</td>\n",
              "      <td>20</td>\n",
              "      <td>20</td>\n",
              "      <td>20</td>\n",
              "      <td>24</td>\n",
              "      <td>26</td>\n",
              "      <td>0.0</td>\n",
              "    </tr>\n",
              "    <tr>\n",
              "      <th>3</th>\n",
              "      <td>Andorra</td>\n",
              "      <td>0</td>\n",
              "      <td>0</td>\n",
              "      <td>0</td>\n",
              "      <td>0</td>\n",
              "      <td>0</td>\n",
              "      <td>0</td>\n",
              "      <td>0</td>\n",
              "      <td>0</td>\n",
              "      <td>0</td>\n",
              "      <td>0</td>\n",
              "      <td>0</td>\n",
              "      <td>0</td>\n",
              "      <td>0</td>\n",
              "      <td>0</td>\n",
              "      <td>0</td>\n",
              "      <td>0</td>\n",
              "      <td>0</td>\n",
              "      <td>0</td>\n",
              "      <td>0</td>\n",
              "      <td>0</td>\n",
              "      <td>0</td>\n",
              "      <td>0</td>\n",
              "      <td>0</td>\n",
              "      <td>0</td>\n",
              "      <td>0</td>\n",
              "      <td>0</td>\n",
              "      <td>0</td>\n",
              "      <td>0</td>\n",
              "      <td>0</td>\n",
              "      <td>0</td>\n",
              "      <td>0</td>\n",
              "      <td>0</td>\n",
              "      <td>0</td>\n",
              "      <td>0</td>\n",
              "      <td>0</td>\n",
              "      <td>0</td>\n",
              "      <td>0</td>\n",
              "      <td>0</td>\n",
              "      <td>0</td>\n",
              "      <td>0</td>\n",
              "      <td>1</td>\n",
              "      <td>1</td>\n",
              "      <td>1</td>\n",
              "      <td>1</td>\n",
              "      <td>1</td>\n",
              "      <td>1</td>\n",
              "      <td>1</td>\n",
              "      <td>1</td>\n",
              "      <td>1</td>\n",
              "      <td>1</td>\n",
              "      <td>1</td>\n",
              "      <td>1</td>\n",
              "      <td>0.0</td>\n",
              "    </tr>\n",
              "    <tr>\n",
              "      <th>4</th>\n",
              "      <td>Antigua and Barbuda</td>\n",
              "      <td>0</td>\n",
              "      <td>0</td>\n",
              "      <td>0</td>\n",
              "      <td>0</td>\n",
              "      <td>0</td>\n",
              "      <td>0</td>\n",
              "      <td>0</td>\n",
              "      <td>0</td>\n",
              "      <td>0</td>\n",
              "      <td>0</td>\n",
              "      <td>0</td>\n",
              "      <td>0</td>\n",
              "      <td>0</td>\n",
              "      <td>0</td>\n",
              "      <td>0</td>\n",
              "      <td>0</td>\n",
              "      <td>0</td>\n",
              "      <td>0</td>\n",
              "      <td>0</td>\n",
              "      <td>0</td>\n",
              "      <td>0</td>\n",
              "      <td>0</td>\n",
              "      <td>0</td>\n",
              "      <td>0</td>\n",
              "      <td>0</td>\n",
              "      <td>0</td>\n",
              "      <td>0</td>\n",
              "      <td>0</td>\n",
              "      <td>0</td>\n",
              "      <td>0</td>\n",
              "      <td>0</td>\n",
              "      <td>0</td>\n",
              "      <td>0</td>\n",
              "      <td>0</td>\n",
              "      <td>0</td>\n",
              "      <td>0</td>\n",
              "      <td>0</td>\n",
              "      <td>0</td>\n",
              "      <td>0</td>\n",
              "      <td>0</td>\n",
              "      <td>0</td>\n",
              "      <td>0</td>\n",
              "      <td>0</td>\n",
              "      <td>0</td>\n",
              "      <td>0</td>\n",
              "      <td>0</td>\n",
              "      <td>0</td>\n",
              "      <td>0</td>\n",
              "      <td>0</td>\n",
              "      <td>0</td>\n",
              "      <td>0</td>\n",
              "      <td>1</td>\n",
              "      <td>0.0</td>\n",
              "    </tr>\n",
              "  </tbody>\n",
              "</table>\n",
              "</div>"
            ],
            "text/plain": [
              "        Country/Region  1/22/20  1/23/20  ...  3/12/20  3/13/20  3/14/20\n",
              "0          Afghanistan        0        0  ...        7        7      0.0\n",
              "1              Albania        0        0  ...       23       33      0.0\n",
              "2              Algeria        0        0  ...       24       26      0.0\n",
              "3              Andorra        0        0  ...        1        1      0.0\n",
              "4  Antigua and Barbuda        0        0  ...        0        1      0.0\n",
              "\n",
              "[5 rows x 54 columns]"
            ]
          },
          "metadata": {
            "tags": []
          },
          "execution_count": 74
        }
      ]
    },
    {
      "cell_type": "code",
      "metadata": {
        "id": "u7v2SkQ__6CU",
        "colab_type": "code",
        "colab": {}
      },
      "source": [
        "dt = confirmed.columns[1:].tolist()\n",
        "#cols\n",
        "reg = confirmed['Country/Region'].unique().tolist()"
      ],
      "execution_count": 0,
      "outputs": []
    },
    {
      "cell_type": "code",
      "metadata": {
        "id": "F2DFKWw7CocL",
        "colab_type": "code",
        "colab": {
          "base_uri": "https://localhost:8080/",
          "height": 34
        },
        "outputId": "4cf09df0-39a0-4fd6-cad7-ab6350e9db1b"
      },
      "source": [
        "dt[0]"
      ],
      "execution_count": 169,
      "outputs": [
        {
          "output_type": "execute_result",
          "data": {
            "text/plain": [
              "'1/22/20'"
            ]
          },
          "metadata": {
            "tags": []
          },
          "execution_count": 169
        }
      ]
    },
    {
      "cell_type": "code",
      "metadata": {
        "id": "PnMeDyhwCdNR",
        "colab_type": "code",
        "colab": {
          "base_uri": "https://localhost:8080/",
          "height": 34
        },
        "outputId": "4e4e4ec3-7071-44d8-ff66-69695f4ff9b3"
      },
      "source": [
        "confirmed[confirmed['Country/Region'] == 'Afghanistan'][dt[0]][0]"
      ],
      "execution_count": 171,
      "outputs": [
        {
          "output_type": "execute_result",
          "data": {
            "text/plain": [
              "0"
            ]
          },
          "metadata": {
            "tags": []
          },
          "execution_count": 171
        }
      ]
    },
    {
      "cell_type": "code",
      "metadata": {
        "id": "jYEw6CnaA1MK",
        "colab_type": "code",
        "colab": {}
      },
      "source": [
        "region = []\n",
        "date = []\n",
        "counts = []\n",
        "for regions in reg:\n",
        "  for d in dt:\n",
        "    #print(d)\n",
        "    region.append(regions)\n",
        "    date.append(d)\n",
        "    counts.append(confirmed[confirmed['Country/Region'] == regions][d].values[0])"
      ],
      "execution_count": 0,
      "outputs": []
    },
    {
      "cell_type": "code",
      "metadata": {
        "id": "oz9Lex_pCKD4",
        "colab_type": "code",
        "colab": {
          "base_uri": "https://localhost:8080/",
          "height": 34
        },
        "outputId": "5affd629-e73a-41ea-c3e9-24cd2491056d"
      },
      "source": [
        "len(region),len(date),len(counts)"
      ],
      "execution_count": 176,
      "outputs": [
        {
          "output_type": "execute_result",
          "data": {
            "text/plain": [
              "(6625, 6625, 6625)"
            ]
          },
          "metadata": {
            "tags": []
          },
          "execution_count": 176
        }
      ]
    },
    {
      "cell_type": "code",
      "metadata": {
        "id": "9E8zV5GSCO0y",
        "colab_type": "code",
        "colab": {
          "base_uri": "https://localhost:8080/",
          "height": 204
        },
        "outputId": "89a08092-b9a7-46f1-9d0e-26157385fc60"
      },
      "source": [
        "confirmed_cases = pd.DataFrame({'Date':date,'Region':region,'Confirmed':counts})\n",
        "confirmed_cases.head()"
      ],
      "execution_count": 179,
      "outputs": [
        {
          "output_type": "execute_result",
          "data": {
            "text/html": [
              "<div>\n",
              "<style scoped>\n",
              "    .dataframe tbody tr th:only-of-type {\n",
              "        vertical-align: middle;\n",
              "    }\n",
              "\n",
              "    .dataframe tbody tr th {\n",
              "        vertical-align: top;\n",
              "    }\n",
              "\n",
              "    .dataframe thead th {\n",
              "        text-align: right;\n",
              "    }\n",
              "</style>\n",
              "<table border=\"1\" class=\"dataframe\">\n",
              "  <thead>\n",
              "    <tr style=\"text-align: right;\">\n",
              "      <th></th>\n",
              "      <th>Date</th>\n",
              "      <th>Region</th>\n",
              "      <th>Confirmed</th>\n",
              "    </tr>\n",
              "  </thead>\n",
              "  <tbody>\n",
              "    <tr>\n",
              "      <th>0</th>\n",
              "      <td>1/22/20</td>\n",
              "      <td>Afghanistan</td>\n",
              "      <td>0.0</td>\n",
              "    </tr>\n",
              "    <tr>\n",
              "      <th>1</th>\n",
              "      <td>1/23/20</td>\n",
              "      <td>Afghanistan</td>\n",
              "      <td>0.0</td>\n",
              "    </tr>\n",
              "    <tr>\n",
              "      <th>2</th>\n",
              "      <td>1/24/20</td>\n",
              "      <td>Afghanistan</td>\n",
              "      <td>0.0</td>\n",
              "    </tr>\n",
              "    <tr>\n",
              "      <th>3</th>\n",
              "      <td>1/25/20</td>\n",
              "      <td>Afghanistan</td>\n",
              "      <td>0.0</td>\n",
              "    </tr>\n",
              "    <tr>\n",
              "      <th>4</th>\n",
              "      <td>1/26/20</td>\n",
              "      <td>Afghanistan</td>\n",
              "      <td>0.0</td>\n",
              "    </tr>\n",
              "  </tbody>\n",
              "</table>\n",
              "</div>"
            ],
            "text/plain": [
              "      Date       Region  Confirmed\n",
              "0  1/22/20  Afghanistan        0.0\n",
              "1  1/23/20  Afghanistan        0.0\n",
              "2  1/24/20  Afghanistan        0.0\n",
              "3  1/25/20  Afghanistan        0.0\n",
              "4  1/26/20  Afghanistan        0.0"
            ]
          },
          "metadata": {
            "tags": []
          },
          "execution_count": 179
        }
      ]
    },
    {
      "cell_type": "code",
      "metadata": {
        "id": "HWVtDEiUFYTq",
        "colab_type": "code",
        "colab": {
          "base_uri": "https://localhost:8080/",
          "height": 34
        },
        "outputId": "1dce21f5-e8a9-42ec-cdc0-acda47129e61"
      },
      "source": [
        "confirmed_cases.shape"
      ],
      "execution_count": 182,
      "outputs": [
        {
          "output_type": "execute_result",
          "data": {
            "text/plain": [
              "(6625, 3)"
            ]
          },
          "metadata": {
            "tags": []
          },
          "execution_count": 182
        }
      ]
    },
    {
      "cell_type": "markdown",
      "metadata": {
        "id": "R3FdVaWdEwyH",
        "colab_type": "text"
      },
      "source": [
        "## recovered"
      ]
    },
    {
      "cell_type": "code",
      "metadata": {
        "id": "5BIugYL2EzBJ",
        "colab_type": "code",
        "colab": {}
      },
      "source": [
        "dt = recovered.columns[1:].tolist()\n",
        "#cols\n",
        "reg = recovered['Country/Region'].unique().tolist()\n",
        "region = []\n",
        "date = []\n",
        "counts = []\n",
        "for regions in reg:\n",
        "  for d in dt:\n",
        "    #print(d)\n",
        "    region.append(regions)\n",
        "    date.append(d)\n",
        "    counts.append(recovered[recovered['Country/Region'] == regions][d].values[0])"
      ],
      "execution_count": 0,
      "outputs": []
    },
    {
      "cell_type": "code",
      "metadata": {
        "id": "_5sbpyYnFPlD",
        "colab_type": "code",
        "colab": {
          "base_uri": "https://localhost:8080/",
          "height": 204
        },
        "outputId": "35c00ba8-2f06-411e-b7e8-1742f299907c"
      },
      "source": [
        "recovered_cases = pd.DataFrame({'Date':date,'Region':region,'Recovered':counts})\n",
        "recovered_cases.head()"
      ],
      "execution_count": 181,
      "outputs": [
        {
          "output_type": "execute_result",
          "data": {
            "text/html": [
              "<div>\n",
              "<style scoped>\n",
              "    .dataframe tbody tr th:only-of-type {\n",
              "        vertical-align: middle;\n",
              "    }\n",
              "\n",
              "    .dataframe tbody tr th {\n",
              "        vertical-align: top;\n",
              "    }\n",
              "\n",
              "    .dataframe thead th {\n",
              "        text-align: right;\n",
              "    }\n",
              "</style>\n",
              "<table border=\"1\" class=\"dataframe\">\n",
              "  <thead>\n",
              "    <tr style=\"text-align: right;\">\n",
              "      <th></th>\n",
              "      <th>Date</th>\n",
              "      <th>Region</th>\n",
              "      <th>Recovered</th>\n",
              "    </tr>\n",
              "  </thead>\n",
              "  <tbody>\n",
              "    <tr>\n",
              "      <th>0</th>\n",
              "      <td>1/22/20</td>\n",
              "      <td>Afghanistan</td>\n",
              "      <td>0.0</td>\n",
              "    </tr>\n",
              "    <tr>\n",
              "      <th>1</th>\n",
              "      <td>1/23/20</td>\n",
              "      <td>Afghanistan</td>\n",
              "      <td>0.0</td>\n",
              "    </tr>\n",
              "    <tr>\n",
              "      <th>2</th>\n",
              "      <td>1/24/20</td>\n",
              "      <td>Afghanistan</td>\n",
              "      <td>0.0</td>\n",
              "    </tr>\n",
              "    <tr>\n",
              "      <th>3</th>\n",
              "      <td>1/25/20</td>\n",
              "      <td>Afghanistan</td>\n",
              "      <td>0.0</td>\n",
              "    </tr>\n",
              "    <tr>\n",
              "      <th>4</th>\n",
              "      <td>1/26/20</td>\n",
              "      <td>Afghanistan</td>\n",
              "      <td>0.0</td>\n",
              "    </tr>\n",
              "  </tbody>\n",
              "</table>\n",
              "</div>"
            ],
            "text/plain": [
              "      Date       Region  Recovered\n",
              "0  1/22/20  Afghanistan        0.0\n",
              "1  1/23/20  Afghanistan        0.0\n",
              "2  1/24/20  Afghanistan        0.0\n",
              "3  1/25/20  Afghanistan        0.0\n",
              "4  1/26/20  Afghanistan        0.0"
            ]
          },
          "metadata": {
            "tags": []
          },
          "execution_count": 181
        }
      ]
    },
    {
      "cell_type": "code",
      "metadata": {
        "id": "C89HexFsFbwV",
        "colab_type": "code",
        "colab": {
          "base_uri": "https://localhost:8080/",
          "height": 34
        },
        "outputId": "3cc4ba58-e1a2-4c5f-ff35-bf22ab3d52a4"
      },
      "source": [
        "recovered_cases.shape"
      ],
      "execution_count": 183,
      "outputs": [
        {
          "output_type": "execute_result",
          "data": {
            "text/plain": [
              "(6625, 3)"
            ]
          },
          "metadata": {
            "tags": []
          },
          "execution_count": 183
        }
      ]
    },
    {
      "cell_type": "markdown",
      "metadata": {
        "id": "wiSkTnvkFe_b",
        "colab_type": "text"
      },
      "source": [
        "##death"
      ]
    },
    {
      "cell_type": "code",
      "metadata": {
        "id": "t4yqUEYlFg_E",
        "colab_type": "code",
        "colab": {}
      },
      "source": [
        "dt = death.columns[1:].tolist()\n",
        "#cols\n",
        "reg = death['Country/Region'].unique().tolist()\n",
        "region = []\n",
        "date = []\n",
        "counts = []\n",
        "for regions in reg:\n",
        "  for d in dt:\n",
        "    #print(d)\n",
        "    region.append(regions)\n",
        "    date.append(d)\n",
        "    counts.append(death[death['Country/Region'] == regions][d].values[0])"
      ],
      "execution_count": 0,
      "outputs": []
    },
    {
      "cell_type": "code",
      "metadata": {
        "id": "5BnTayjPGCvJ",
        "colab_type": "code",
        "colab": {
          "base_uri": "https://localhost:8080/",
          "height": 204
        },
        "outputId": "e93ce5cf-668a-459c-87cd-22e295a18efe"
      },
      "source": [
        "death_cases = pd.DataFrame({'Date':date,'Region':region,'Death':counts})\n",
        "death_cases.head()"
      ],
      "execution_count": 185,
      "outputs": [
        {
          "output_type": "execute_result",
          "data": {
            "text/html": [
              "<div>\n",
              "<style scoped>\n",
              "    .dataframe tbody tr th:only-of-type {\n",
              "        vertical-align: middle;\n",
              "    }\n",
              "\n",
              "    .dataframe tbody tr th {\n",
              "        vertical-align: top;\n",
              "    }\n",
              "\n",
              "    .dataframe thead th {\n",
              "        text-align: right;\n",
              "    }\n",
              "</style>\n",
              "<table border=\"1\" class=\"dataframe\">\n",
              "  <thead>\n",
              "    <tr style=\"text-align: right;\">\n",
              "      <th></th>\n",
              "      <th>Date</th>\n",
              "      <th>Region</th>\n",
              "      <th>Death</th>\n",
              "    </tr>\n",
              "  </thead>\n",
              "  <tbody>\n",
              "    <tr>\n",
              "      <th>0</th>\n",
              "      <td>1/22/20</td>\n",
              "      <td>Afghanistan</td>\n",
              "      <td>0.0</td>\n",
              "    </tr>\n",
              "    <tr>\n",
              "      <th>1</th>\n",
              "      <td>1/23/20</td>\n",
              "      <td>Afghanistan</td>\n",
              "      <td>0.0</td>\n",
              "    </tr>\n",
              "    <tr>\n",
              "      <th>2</th>\n",
              "      <td>1/24/20</td>\n",
              "      <td>Afghanistan</td>\n",
              "      <td>0.0</td>\n",
              "    </tr>\n",
              "    <tr>\n",
              "      <th>3</th>\n",
              "      <td>1/25/20</td>\n",
              "      <td>Afghanistan</td>\n",
              "      <td>0.0</td>\n",
              "    </tr>\n",
              "    <tr>\n",
              "      <th>4</th>\n",
              "      <td>1/26/20</td>\n",
              "      <td>Afghanistan</td>\n",
              "      <td>0.0</td>\n",
              "    </tr>\n",
              "  </tbody>\n",
              "</table>\n",
              "</div>"
            ],
            "text/plain": [
              "      Date       Region  Death\n",
              "0  1/22/20  Afghanistan    0.0\n",
              "1  1/23/20  Afghanistan    0.0\n",
              "2  1/24/20  Afghanistan    0.0\n",
              "3  1/25/20  Afghanistan    0.0\n",
              "4  1/26/20  Afghanistan    0.0"
            ]
          },
          "metadata": {
            "tags": []
          },
          "execution_count": 185
        }
      ]
    },
    {
      "cell_type": "code",
      "metadata": {
        "id": "m2fSVKzNGKh7",
        "colab_type": "code",
        "colab": {}
      },
      "source": [
        "data = pd.merge(confirmed_cases,recovered_cases,how='inner',on=['Date','Region'])"
      ],
      "execution_count": 0,
      "outputs": []
    },
    {
      "cell_type": "code",
      "metadata": {
        "id": "QG8bJ4yPG5UH",
        "colab_type": "code",
        "colab": {
          "base_uri": "https://localhost:8080/",
          "height": 204
        },
        "outputId": "58edb230-e860-409c-c1ff-31f487527772"
      },
      "source": [
        "data.head()"
      ],
      "execution_count": 191,
      "outputs": [
        {
          "output_type": "execute_result",
          "data": {
            "text/html": [
              "<div>\n",
              "<style scoped>\n",
              "    .dataframe tbody tr th:only-of-type {\n",
              "        vertical-align: middle;\n",
              "    }\n",
              "\n",
              "    .dataframe tbody tr th {\n",
              "        vertical-align: top;\n",
              "    }\n",
              "\n",
              "    .dataframe thead th {\n",
              "        text-align: right;\n",
              "    }\n",
              "</style>\n",
              "<table border=\"1\" class=\"dataframe\">\n",
              "  <thead>\n",
              "    <tr style=\"text-align: right;\">\n",
              "      <th></th>\n",
              "      <th>Date</th>\n",
              "      <th>Region</th>\n",
              "      <th>Confirmed</th>\n",
              "      <th>Recovered</th>\n",
              "    </tr>\n",
              "  </thead>\n",
              "  <tbody>\n",
              "    <tr>\n",
              "      <th>0</th>\n",
              "      <td>1/22/20</td>\n",
              "      <td>Afghanistan</td>\n",
              "      <td>0.0</td>\n",
              "      <td>0.0</td>\n",
              "    </tr>\n",
              "    <tr>\n",
              "      <th>1</th>\n",
              "      <td>1/23/20</td>\n",
              "      <td>Afghanistan</td>\n",
              "      <td>0.0</td>\n",
              "      <td>0.0</td>\n",
              "    </tr>\n",
              "    <tr>\n",
              "      <th>2</th>\n",
              "      <td>1/24/20</td>\n",
              "      <td>Afghanistan</td>\n",
              "      <td>0.0</td>\n",
              "      <td>0.0</td>\n",
              "    </tr>\n",
              "    <tr>\n",
              "      <th>3</th>\n",
              "      <td>1/25/20</td>\n",
              "      <td>Afghanistan</td>\n",
              "      <td>0.0</td>\n",
              "      <td>0.0</td>\n",
              "    </tr>\n",
              "    <tr>\n",
              "      <th>4</th>\n",
              "      <td>1/26/20</td>\n",
              "      <td>Afghanistan</td>\n",
              "      <td>0.0</td>\n",
              "      <td>0.0</td>\n",
              "    </tr>\n",
              "  </tbody>\n",
              "</table>\n",
              "</div>"
            ],
            "text/plain": [
              "      Date       Region  Confirmed  Recovered\n",
              "0  1/22/20  Afghanistan        0.0        0.0\n",
              "1  1/23/20  Afghanistan        0.0        0.0\n",
              "2  1/24/20  Afghanistan        0.0        0.0\n",
              "3  1/25/20  Afghanistan        0.0        0.0\n",
              "4  1/26/20  Afghanistan        0.0        0.0"
            ]
          },
          "metadata": {
            "tags": []
          },
          "execution_count": 191
        }
      ]
    },
    {
      "cell_type": "code",
      "metadata": {
        "id": "vZL58nzXG8Yq",
        "colab_type": "code",
        "colab": {
          "base_uri": "https://localhost:8080/",
          "height": 34
        },
        "outputId": "d5859359-9733-4750-a6fc-3482c0020161"
      },
      "source": [
        "data.shape"
      ],
      "execution_count": 192,
      "outputs": [
        {
          "output_type": "execute_result",
          "data": {
            "text/plain": [
              "(6625, 4)"
            ]
          },
          "metadata": {
            "tags": []
          },
          "execution_count": 192
        }
      ]
    },
    {
      "cell_type": "code",
      "metadata": {
        "id": "K6rAREiNG_Em",
        "colab_type": "code",
        "colab": {}
      },
      "source": [
        "final = pd.merge(data,death_cases,how='inner',on=['Date','Region'])"
      ],
      "execution_count": 0,
      "outputs": []
    },
    {
      "cell_type": "code",
      "metadata": {
        "id": "6KpneVqpHgwA",
        "colab_type": "code",
        "colab": {
          "base_uri": "https://localhost:8080/",
          "height": 204
        },
        "outputId": "7a22956e-a5e2-4aa6-ded3-d1f62670e0b4"
      },
      "source": [
        "final.head()"
      ],
      "execution_count": 197,
      "outputs": [
        {
          "output_type": "execute_result",
          "data": {
            "text/html": [
              "<div>\n",
              "<style scoped>\n",
              "    .dataframe tbody tr th:only-of-type {\n",
              "        vertical-align: middle;\n",
              "    }\n",
              "\n",
              "    .dataframe tbody tr th {\n",
              "        vertical-align: top;\n",
              "    }\n",
              "\n",
              "    .dataframe thead th {\n",
              "        text-align: right;\n",
              "    }\n",
              "</style>\n",
              "<table border=\"1\" class=\"dataframe\">\n",
              "  <thead>\n",
              "    <tr style=\"text-align: right;\">\n",
              "      <th></th>\n",
              "      <th>Date</th>\n",
              "      <th>Region</th>\n",
              "      <th>Confirmed</th>\n",
              "      <th>Recovered</th>\n",
              "      <th>Death</th>\n",
              "    </tr>\n",
              "  </thead>\n",
              "  <tbody>\n",
              "    <tr>\n",
              "      <th>0</th>\n",
              "      <td>1/22/20</td>\n",
              "      <td>Afghanistan</td>\n",
              "      <td>0.0</td>\n",
              "      <td>0.0</td>\n",
              "      <td>0.0</td>\n",
              "    </tr>\n",
              "    <tr>\n",
              "      <th>1</th>\n",
              "      <td>1/23/20</td>\n",
              "      <td>Afghanistan</td>\n",
              "      <td>0.0</td>\n",
              "      <td>0.0</td>\n",
              "      <td>0.0</td>\n",
              "    </tr>\n",
              "    <tr>\n",
              "      <th>2</th>\n",
              "      <td>1/24/20</td>\n",
              "      <td>Afghanistan</td>\n",
              "      <td>0.0</td>\n",
              "      <td>0.0</td>\n",
              "      <td>0.0</td>\n",
              "    </tr>\n",
              "    <tr>\n",
              "      <th>3</th>\n",
              "      <td>1/25/20</td>\n",
              "      <td>Afghanistan</td>\n",
              "      <td>0.0</td>\n",
              "      <td>0.0</td>\n",
              "      <td>0.0</td>\n",
              "    </tr>\n",
              "    <tr>\n",
              "      <th>4</th>\n",
              "      <td>1/26/20</td>\n",
              "      <td>Afghanistan</td>\n",
              "      <td>0.0</td>\n",
              "      <td>0.0</td>\n",
              "      <td>0.0</td>\n",
              "    </tr>\n",
              "  </tbody>\n",
              "</table>\n",
              "</div>"
            ],
            "text/plain": [
              "      Date       Region  Confirmed  Recovered  Death\n",
              "0  1/22/20  Afghanistan        0.0        0.0    0.0\n",
              "1  1/23/20  Afghanistan        0.0        0.0    0.0\n",
              "2  1/24/20  Afghanistan        0.0        0.0    0.0\n",
              "3  1/25/20  Afghanistan        0.0        0.0    0.0\n",
              "4  1/26/20  Afghanistan        0.0        0.0    0.0"
            ]
          },
          "metadata": {
            "tags": []
          },
          "execution_count": 197
        }
      ]
    },
    {
      "cell_type": "code",
      "metadata": {
        "id": "3xdnNKLkHj_2",
        "colab_type": "code",
        "colab": {}
      },
      "source": [
        "final['Date'] = pd.to_datetime(final['Date'])"
      ],
      "execution_count": 0,
      "outputs": []
    },
    {
      "cell_type": "code",
      "metadata": {
        "id": "mqaI0KDgHyk5",
        "colab_type": "code",
        "colab": {}
      },
      "source": [
        "cov19_table = pd.pivot_table(final, index=['Date','Region'], aggfunc='mean').reset_index()\n"
      ],
      "execution_count": 0,
      "outputs": []
    },
    {
      "cell_type": "code",
      "metadata": {
        "id": "e0MsA6QwIw3n",
        "colab_type": "code",
        "colab": {
          "base_uri": "https://localhost:8080/",
          "height": 204
        },
        "outputId": "028974ff-f861-4608-d42d-81cc35511ee0"
      },
      "source": [
        "cov19_table.head()"
      ],
      "execution_count": 204,
      "outputs": [
        {
          "output_type": "execute_result",
          "data": {
            "text/html": [
              "<div>\n",
              "<style scoped>\n",
              "    .dataframe tbody tr th:only-of-type {\n",
              "        vertical-align: middle;\n",
              "    }\n",
              "\n",
              "    .dataframe tbody tr th {\n",
              "        vertical-align: top;\n",
              "    }\n",
              "\n",
              "    .dataframe thead th {\n",
              "        text-align: right;\n",
              "    }\n",
              "</style>\n",
              "<table border=\"1\" class=\"dataframe\">\n",
              "  <thead>\n",
              "    <tr style=\"text-align: right;\">\n",
              "      <th></th>\n",
              "      <th>Date</th>\n",
              "      <th>Region</th>\n",
              "      <th>Confirmed</th>\n",
              "      <th>Death</th>\n",
              "      <th>Recovered</th>\n",
              "    </tr>\n",
              "  </thead>\n",
              "  <tbody>\n",
              "    <tr>\n",
              "      <th>0</th>\n",
              "      <td>2020-01-22</td>\n",
              "      <td>Afghanistan</td>\n",
              "      <td>0.0</td>\n",
              "      <td>0.0</td>\n",
              "      <td>0.0</td>\n",
              "    </tr>\n",
              "    <tr>\n",
              "      <th>1</th>\n",
              "      <td>2020-01-22</td>\n",
              "      <td>Albania</td>\n",
              "      <td>0.0</td>\n",
              "      <td>0.0</td>\n",
              "      <td>0.0</td>\n",
              "    </tr>\n",
              "    <tr>\n",
              "      <th>2</th>\n",
              "      <td>2020-01-22</td>\n",
              "      <td>Algeria</td>\n",
              "      <td>0.0</td>\n",
              "      <td>0.0</td>\n",
              "      <td>0.0</td>\n",
              "    </tr>\n",
              "    <tr>\n",
              "      <th>3</th>\n",
              "      <td>2020-01-22</td>\n",
              "      <td>Andorra</td>\n",
              "      <td>0.0</td>\n",
              "      <td>0.0</td>\n",
              "      <td>0.0</td>\n",
              "    </tr>\n",
              "    <tr>\n",
              "      <th>4</th>\n",
              "      <td>2020-01-22</td>\n",
              "      <td>Antigua and Barbuda</td>\n",
              "      <td>0.0</td>\n",
              "      <td>0.0</td>\n",
              "      <td>0.0</td>\n",
              "    </tr>\n",
              "  </tbody>\n",
              "</table>\n",
              "</div>"
            ],
            "text/plain": [
              "        Date               Region  Confirmed  Death  Recovered\n",
              "0 2020-01-22          Afghanistan        0.0    0.0        0.0\n",
              "1 2020-01-22              Albania        0.0    0.0        0.0\n",
              "2 2020-01-22              Algeria        0.0    0.0        0.0\n",
              "3 2020-01-22              Andorra        0.0    0.0        0.0\n",
              "4 2020-01-22  Antigua and Barbuda        0.0    0.0        0.0"
            ]
          },
          "metadata": {
            "tags": []
          },
          "execution_count": 204
        }
      ]
    },
    {
      "cell_type": "code",
      "metadata": {
        "id": "BwIzncgAI013",
        "colab_type": "code",
        "colab": {
          "base_uri": "https://localhost:8080/",
          "height": 235
        },
        "outputId": "b7c4a9a4-9ce5-4f8f-8a3b-642f83d28614"
      },
      "source": [
        "cov19_table.set_index(['Date'],inplace=True)\n",
        "cov19_table.head()"
      ],
      "execution_count": 206,
      "outputs": [
        {
          "output_type": "execute_result",
          "data": {
            "text/html": [
              "<div>\n",
              "<style scoped>\n",
              "    .dataframe tbody tr th:only-of-type {\n",
              "        vertical-align: middle;\n",
              "    }\n",
              "\n",
              "    .dataframe tbody tr th {\n",
              "        vertical-align: top;\n",
              "    }\n",
              "\n",
              "    .dataframe thead th {\n",
              "        text-align: right;\n",
              "    }\n",
              "</style>\n",
              "<table border=\"1\" class=\"dataframe\">\n",
              "  <thead>\n",
              "    <tr style=\"text-align: right;\">\n",
              "      <th></th>\n",
              "      <th>Region</th>\n",
              "      <th>Confirmed</th>\n",
              "      <th>Death</th>\n",
              "      <th>Recovered</th>\n",
              "    </tr>\n",
              "    <tr>\n",
              "      <th>Date</th>\n",
              "      <th></th>\n",
              "      <th></th>\n",
              "      <th></th>\n",
              "      <th></th>\n",
              "    </tr>\n",
              "  </thead>\n",
              "  <tbody>\n",
              "    <tr>\n",
              "      <th>2020-01-22</th>\n",
              "      <td>Afghanistan</td>\n",
              "      <td>0.0</td>\n",
              "      <td>0.0</td>\n",
              "      <td>0.0</td>\n",
              "    </tr>\n",
              "    <tr>\n",
              "      <th>2020-01-22</th>\n",
              "      <td>Albania</td>\n",
              "      <td>0.0</td>\n",
              "      <td>0.0</td>\n",
              "      <td>0.0</td>\n",
              "    </tr>\n",
              "    <tr>\n",
              "      <th>2020-01-22</th>\n",
              "      <td>Algeria</td>\n",
              "      <td>0.0</td>\n",
              "      <td>0.0</td>\n",
              "      <td>0.0</td>\n",
              "    </tr>\n",
              "    <tr>\n",
              "      <th>2020-01-22</th>\n",
              "      <td>Andorra</td>\n",
              "      <td>0.0</td>\n",
              "      <td>0.0</td>\n",
              "      <td>0.0</td>\n",
              "    </tr>\n",
              "    <tr>\n",
              "      <th>2020-01-22</th>\n",
              "      <td>Antigua and Barbuda</td>\n",
              "      <td>0.0</td>\n",
              "      <td>0.0</td>\n",
              "      <td>0.0</td>\n",
              "    </tr>\n",
              "  </tbody>\n",
              "</table>\n",
              "</div>"
            ],
            "text/plain": [
              "                         Region  Confirmed  Death  Recovered\n",
              "Date                                                        \n",
              "2020-01-22          Afghanistan        0.0    0.0        0.0\n",
              "2020-01-22              Albania        0.0    0.0        0.0\n",
              "2020-01-22              Algeria        0.0    0.0        0.0\n",
              "2020-01-22              Andorra        0.0    0.0        0.0\n",
              "2020-01-22  Antigua and Barbuda        0.0    0.0        0.0"
            ]
          },
          "metadata": {
            "tags": []
          },
          "execution_count": 206
        }
      ]
    },
    {
      "cell_type": "code",
      "metadata": {
        "id": "8d0rPq9Kd2tW",
        "colab_type": "code",
        "colab": {
          "base_uri": "https://localhost:8080/",
          "height": 450
        },
        "outputId": "f7433730-45d6-4376-b99a-348052d508c9"
      },
      "source": [
        "cov19_table[cov19_table['Death'] > 1]"
      ],
      "execution_count": 232,
      "outputs": [
        {
          "output_type": "execute_result",
          "data": {
            "text/html": [
              "<div>\n",
              "<style scoped>\n",
              "    .dataframe tbody tr th:only-of-type {\n",
              "        vertical-align: middle;\n",
              "    }\n",
              "\n",
              "    .dataframe tbody tr th {\n",
              "        vertical-align: top;\n",
              "    }\n",
              "\n",
              "    .dataframe thead th {\n",
              "        text-align: right;\n",
              "    }\n",
              "</style>\n",
              "<table border=\"1\" class=\"dataframe\">\n",
              "  <thead>\n",
              "    <tr style=\"text-align: right;\">\n",
              "      <th></th>\n",
              "      <th>Region</th>\n",
              "      <th>Confirmed</th>\n",
              "      <th>Death</th>\n",
              "      <th>Recovered</th>\n",
              "    </tr>\n",
              "    <tr>\n",
              "      <th>Date</th>\n",
              "      <th></th>\n",
              "      <th></th>\n",
              "      <th></th>\n",
              "      <th></th>\n",
              "    </tr>\n",
              "  </thead>\n",
              "  <tbody>\n",
              "    <tr>\n",
              "      <th>2020-01-22</th>\n",
              "      <td>74</td>\n",
              "      <td>548.0</td>\n",
              "      <td>17.0</td>\n",
              "      <td>28.0</td>\n",
              "    </tr>\n",
              "    <tr>\n",
              "      <th>2020-01-23</th>\n",
              "      <td>74</td>\n",
              "      <td>643.0</td>\n",
              "      <td>18.0</td>\n",
              "      <td>30.0</td>\n",
              "    </tr>\n",
              "    <tr>\n",
              "      <th>2020-01-24</th>\n",
              "      <td>74</td>\n",
              "      <td>920.0</td>\n",
              "      <td>26.0</td>\n",
              "      <td>36.0</td>\n",
              "    </tr>\n",
              "    <tr>\n",
              "      <th>2020-01-25</th>\n",
              "      <td>74</td>\n",
              "      <td>1406.0</td>\n",
              "      <td>42.0</td>\n",
              "      <td>39.0</td>\n",
              "    </tr>\n",
              "    <tr>\n",
              "      <th>2020-01-26</th>\n",
              "      <td>74</td>\n",
              "      <td>2075.0</td>\n",
              "      <td>56.0</td>\n",
              "      <td>49.0</td>\n",
              "    </tr>\n",
              "    <tr>\n",
              "      <th>...</th>\n",
              "      <td>...</td>\n",
              "      <td>...</td>\n",
              "      <td>...</td>\n",
              "      <td>...</td>\n",
              "    </tr>\n",
              "    <tr>\n",
              "      <th>2020-03-13</th>\n",
              "      <td>102</td>\n",
              "      <td>80.0</td>\n",
              "      <td>5.0</td>\n",
              "      <td>0.0</td>\n",
              "    </tr>\n",
              "    <tr>\n",
              "      <th>2020-03-13</th>\n",
              "      <td>110</td>\n",
              "      <td>5232.0</td>\n",
              "      <td>133.0</td>\n",
              "      <td>193.0</td>\n",
              "    </tr>\n",
              "    <tr>\n",
              "      <th>2020-03-13</th>\n",
              "      <td>114</td>\n",
              "      <td>1139.0</td>\n",
              "      <td>11.0</td>\n",
              "      <td>4.0</td>\n",
              "    </tr>\n",
              "    <tr>\n",
              "      <th>2020-03-13</th>\n",
              "      <td>120</td>\n",
              "      <td>2179.0</td>\n",
              "      <td>47.0</td>\n",
              "      <td>12.0</td>\n",
              "    </tr>\n",
              "    <tr>\n",
              "      <th>2020-03-13</th>\n",
              "      <td>123</td>\n",
              "      <td>801.0</td>\n",
              "      <td>8.0</td>\n",
              "      <td>19.0</td>\n",
              "    </tr>\n",
              "  </tbody>\n",
              "</table>\n",
              "<p>261 rows × 4 columns</p>\n",
              "</div>"
            ],
            "text/plain": [
              "            Region  Confirmed  Death  Recovered\n",
              "Date                                           \n",
              "2020-01-22      74      548.0   17.0       28.0\n",
              "2020-01-23      74      643.0   18.0       30.0\n",
              "2020-01-24      74      920.0   26.0       36.0\n",
              "2020-01-25      74     1406.0   42.0       39.0\n",
              "2020-01-26      74     2075.0   56.0       49.0\n",
              "...            ...        ...    ...        ...\n",
              "2020-03-13     102       80.0    5.0        0.0\n",
              "2020-03-13     110     5232.0  133.0      193.0\n",
              "2020-03-13     114     1139.0   11.0        4.0\n",
              "2020-03-13     120     2179.0   47.0       12.0\n",
              "2020-03-13     123      801.0    8.0       19.0\n",
              "\n",
              "[261 rows x 4 columns]"
            ]
          },
          "metadata": {
            "tags": []
          },
          "execution_count": 232
        }
      ]
    },
    {
      "cell_type": "code",
      "metadata": {
        "id": "wR9D1X4XJcEw",
        "colab_type": "code",
        "colab": {}
      },
      "source": [
        "from sklearn.preprocessing import LabelEncoder\n",
        "lb = LabelEncoder()\n",
        "lb.fit(cov19_table['Region'])\n",
        "\n",
        "cov19_table['Region'] = lb.transform(cov19_table['Region'])"
      ],
      "execution_count": 0,
      "outputs": []
    },
    {
      "cell_type": "code",
      "metadata": {
        "id": "hNiCeUYdJ7s4",
        "colab_type": "code",
        "colab": {
          "base_uri": "https://localhost:8080/",
          "height": 235
        },
        "outputId": "127228a9-b778-411f-f6bd-82704d4b10bb"
      },
      "source": [
        "cov19_table.head()"
      ],
      "execution_count": 210,
      "outputs": [
        {
          "output_type": "execute_result",
          "data": {
            "text/html": [
              "<div>\n",
              "<style scoped>\n",
              "    .dataframe tbody tr th:only-of-type {\n",
              "        vertical-align: middle;\n",
              "    }\n",
              "\n",
              "    .dataframe tbody tr th {\n",
              "        vertical-align: top;\n",
              "    }\n",
              "\n",
              "    .dataframe thead th {\n",
              "        text-align: right;\n",
              "    }\n",
              "</style>\n",
              "<table border=\"1\" class=\"dataframe\">\n",
              "  <thead>\n",
              "    <tr style=\"text-align: right;\">\n",
              "      <th></th>\n",
              "      <th>Region</th>\n",
              "      <th>Confirmed</th>\n",
              "      <th>Death</th>\n",
              "      <th>Recovered</th>\n",
              "    </tr>\n",
              "    <tr>\n",
              "      <th>Date</th>\n",
              "      <th></th>\n",
              "      <th></th>\n",
              "      <th></th>\n",
              "      <th></th>\n",
              "    </tr>\n",
              "  </thead>\n",
              "  <tbody>\n",
              "    <tr>\n",
              "      <th>2020-01-22</th>\n",
              "      <td>0</td>\n",
              "      <td>0.0</td>\n",
              "      <td>0.0</td>\n",
              "      <td>0.0</td>\n",
              "    </tr>\n",
              "    <tr>\n",
              "      <th>2020-01-22</th>\n",
              "      <td>1</td>\n",
              "      <td>0.0</td>\n",
              "      <td>0.0</td>\n",
              "      <td>0.0</td>\n",
              "    </tr>\n",
              "    <tr>\n",
              "      <th>2020-01-22</th>\n",
              "      <td>2</td>\n",
              "      <td>0.0</td>\n",
              "      <td>0.0</td>\n",
              "      <td>0.0</td>\n",
              "    </tr>\n",
              "    <tr>\n",
              "      <th>2020-01-22</th>\n",
              "      <td>3</td>\n",
              "      <td>0.0</td>\n",
              "      <td>0.0</td>\n",
              "      <td>0.0</td>\n",
              "    </tr>\n",
              "    <tr>\n",
              "      <th>2020-01-22</th>\n",
              "      <td>4</td>\n",
              "      <td>0.0</td>\n",
              "      <td>0.0</td>\n",
              "      <td>0.0</td>\n",
              "    </tr>\n",
              "  </tbody>\n",
              "</table>\n",
              "</div>"
            ],
            "text/plain": [
              "            Region  Confirmed  Death  Recovered\n",
              "Date                                           \n",
              "2020-01-22       0        0.0    0.0        0.0\n",
              "2020-01-22       1        0.0    0.0        0.0\n",
              "2020-01-22       2        0.0    0.0        0.0\n",
              "2020-01-22       3        0.0    0.0        0.0\n",
              "2020-01-22       4        0.0    0.0        0.0"
            ]
          },
          "metadata": {
            "tags": []
          },
          "execution_count": 210
        }
      ]
    }
  ]
}